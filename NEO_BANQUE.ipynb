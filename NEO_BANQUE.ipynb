{
  "nbformat": 4,
  "nbformat_minor": 0,
  "metadata": {
    "colab": {
      "provenance": []
    },
    "kernelspec": {
      "name": "python3",
      "display_name": "Python 3"
    },
    "language_info": {
      "name": "python"
    }
  },
  "cells": [
    {
      "cell_type": "code",
      "source": [],
      "metadata": {
        "id": "6ol8hC3iLhyc"
      },
      "execution_count": null,
      "outputs": []
    },
    {
      "cell_type": "code",
      "source": [],
      "metadata": {
        "id": "WyfSNvbxLhwT"
      },
      "execution_count": null,
      "outputs": []
    },
    {
      "cell_type": "markdown",
      "source": [],
      "metadata": {
        "id": "b46grK32jexa"
      }
    },
    {
      "cell_type": "markdown",
      "source": [
        "Pour une banque l'objectif est de générer du PNB et pour celà avoir des clients actifs/équipés et donc fidèles ainsi que trouver de noueavux clients.\n",
        "A vue de nos données et du temps imparti, nous allons nous consacrer sur l'activation des comptes. Qui sont nos clients actifs?\n",
        "Objectif 1: déterminer les clients actifs pour celà on a besoin de définir:\n",
        "- nombre de transactions et montant des transactions par mois positives et négatives (calcul à partir table des transactions)/clients\n",
        "- voir si il y a une corrélation avec l'age, le pays(union table des tables users et transactions, graphique nuage, stats.\n",
        "\n",
        "Objectif 2 : voir l'impact des notifiactiosn et devices\n",
        "corrélation avec le device(union table transcations et device)\n",
        "- définir quelles sont les notifications qui poussent à l'activation du compte et mesurer leur impact.(augmentation du volume des transactions après l'envoie des notifications)\n"
      ],
      "metadata": {
        "id": "k9-YUC1GaAQT"
      }
    }
  ]
}