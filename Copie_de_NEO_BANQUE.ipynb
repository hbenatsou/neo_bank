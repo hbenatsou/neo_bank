{
  "cells": [
    {
      "cell_type": "markdown",
      "metadata": {
        "id": "view-in-github",
        "colab_type": "text"
      },
      "source": [
        "<a href=\"https://colab.research.google.com/github/hbenatsou/neo_bank/blob/main/Copie_de_NEO_BANQUE.ipynb\" target=\"_parent\"><img src=\"https://colab.research.google.com/assets/colab-badge.svg\" alt=\"Open In Colab\"/></a>"
      ]
    },
    {
      "cell_type": "markdown",
      "metadata": {
        "id": "39Qw7Y_d7PiW"
      },
      "source": [
        "# **1.Problèmatique**\n",
        "Understand task and business needs"
      ]
    },
    {
      "cell_type": "markdown",
      "metadata": {
        "id": "k9-YUC1GaAQT"
      },
      "source": [
        "Pour une banque l'objectif est de générer du PNB. Pour celà elle a besoin d'avoir des clients actifs/équipés et fidèles. Elle a besoin de garder ses clients  ainsi que d'augmenter son portefeuille client(prospection).\n",
        "\n",
        "A la vue de nos données et du temps imparti, nous allons nous consacrer sur l'activation des comptes.\n",
        "\n",
        "**Qui sont nos clients actifs et comment activer nos inactifs?**\n",
        "\n",
        "Objectif 1: Déterminer les clients actifs pour celà nous avons besoin de définir:\n",
        "\n",
        "- le nombre de transactions et le montant des transactions par mois (calcul à partir table des transactions/clients)\n",
        "- voir si il y a une corrélation avec: l'âge, le pays, la date de création, l'utilisation de la crypto... nous allons tester la corrélation entre toutes nos variables(union table des tables, graphique nuage, stats).\n",
        "\n",
        "Objectif 2 : Voir l'impact des notifiactions pour celà nous avons besoin:\n",
        "- d'étudier la corrélation avec le device, le nbre de transaction, le montant de transaction union table transcations et device)\n",
        "\n",
        "- définir quelles sont les notifications qui poussent à l'activation du compte et mesurer leur impact.(augmentation du volume des transactions après l'envoie des notifications)\n",
        "\n",
        "\n",
        "Objectif 3: Rendre un rapport avec:\n",
        "- la définition d'un client actif\n",
        "- des propositions pour rendre les clients inactifs, actifs.\n",
        "\n",
        "\n",
        "Nous allons mesurer :\n",
        "-\tL’activation avec le taux de conversion\n",
        "-\tLa fidélisation avec le DAU/MAU ratio\n",
        "-\tL’équipement avec le nombre d’utilisateur par produit\n"
      ]
    },
    {
      "cell_type": "markdown",
      "metadata": {
        "id": "1OQ7U-Em9-hC"
      },
      "source": [
        "#**2.Collect_data**"
      ]
    },
    {
      "cell_type": "code",
      "execution_count": 2,
      "metadata": {
        "id": "JBlu-H7v-F0J"
      },
      "outputs": [],
      "source": [
        "#import des bibliothèques et authorization\n",
        "import pandas as pd\n",
        "import numpy as np\n",
        "#import ploty\n",
        "import plotly.express as px\n",
        "import plotly.graph_objects as go\n",
        "from plotly.subplots import make_subplots\n",
        "#import matplotlib\n",
        "import matplotlib.pyplot as plt\n",
        "#import seaborn\n",
        "import seaborn\n",
        "import seaborn as sns\n",
        "\n"
      ]
    },
    {
      "cell_type": "code",
      "execution_count": 3,
      "metadata": {
        "id": "Yec9P2RSoofG"
      },
      "outputs": [],
      "source": [
        "# Pour receuilli nos identifiants\n",
        "from google.colab import auth\n",
        "auth.authenticate_user()\n",
        "#Query Bigquery\n",
        "#Téchargement table 1 : TRANSACTIONS\n",
        "query = \"SELECT * FROM `pro-tuner-402908.neo_bank.transactions`\"\n",
        "id = \"pro-tuner-402908\"\n",
        "transactions_df = pd.read_gbq(query, project_id = id)"
      ]
    },
    {
      "cell_type": "markdown",
      "metadata": {
        "id": "9xsSFtPmGkM8"
      },
      "source": [
        "# **3.Understand data**"
      ]
    },
    {
      "cell_type": "markdown",
      "source": [
        "#3.1. Data Analyse"
      ],
      "metadata": {
        "id": "dlyabQY42v--"
      }
    },
    {
      "cell_type": "markdown",
      "source": [
        "# la Dataframe"
      ],
      "metadata": {
        "id": "F8YFodF_C1Pn"
      }
    },
    {
      "cell_type": "code",
      "execution_count": 4,
      "metadata": {
        "colab": {
          "base_uri": "https://localhost:8080/",
          "height": 313
        },
        "id": "Hwo54S5sG2wM",
        "outputId": "9ee4af6d-9621-4cc5-f3c0-a21d42129fd1"
      },
      "outputs": [
        {
          "output_type": "execute_result",
          "data": {
            "text/plain": [
              "        transaction_id transactions_type transactions_currency  amount_usd  \\\n",
              "0     transaction_1973             TOPUP                   AED     6079.39   \n",
              "1      transaction_508             TOPUP                   AED      298.64   \n",
              "2       transaction_33             TOPUP                   AED      236.63   \n",
              "3  transaction_1755306          EXCHANGE                   AED       69.92   \n",
              "4      transaction_940          EXCHANGE                   AED       52.24   \n",
              "\n",
              "  transactions_state ea_cardholderpresence  ea_merchant_mcc ea_merchant_city  \\\n",
              "0          COMPLETED                  None              NaN             None   \n",
              "1          COMPLETED                  None              NaN             None   \n",
              "2          COMPLETED                  None              NaN             None   \n",
              "3          COMPLETED                  None              NaN             None   \n",
              "4          COMPLETED                  None              NaN             None   \n",
              "\n",
              "  ea_merchant_country direction     user_id                     created_date  \n",
              "0                None   INBOUND   user_4773 2018-08-13 21:51:28.670363+00:00  \n",
              "1                None   INBOUND   user_4773 2018-09-06 18:19:53.401363+00:00  \n",
              "2                None   INBOUND   user_4773 2018-10-04 09:28:24.287363+00:00  \n",
              "3                None  OUTBOUND  user_10943 2018-12-07 19:45:41.208245+00:00  \n",
              "4                None  OUTBOUND   user_1363 2018-12-28 01:29:52.746895+00:00  "
            ],
            "text/html": [
              "\n",
              "  <div id=\"df-21753a28-0bd8-41ef-adc2-68ab4260e4c5\" class=\"colab-df-container\">\n",
              "    <div>\n",
              "<style scoped>\n",
              "    .dataframe tbody tr th:only-of-type {\n",
              "        vertical-align: middle;\n",
              "    }\n",
              "\n",
              "    .dataframe tbody tr th {\n",
              "        vertical-align: top;\n",
              "    }\n",
              "\n",
              "    .dataframe thead th {\n",
              "        text-align: right;\n",
              "    }\n",
              "</style>\n",
              "<table border=\"1\" class=\"dataframe\">\n",
              "  <thead>\n",
              "    <tr style=\"text-align: right;\">\n",
              "      <th></th>\n",
              "      <th>transaction_id</th>\n",
              "      <th>transactions_type</th>\n",
              "      <th>transactions_currency</th>\n",
              "      <th>amount_usd</th>\n",
              "      <th>transactions_state</th>\n",
              "      <th>ea_cardholderpresence</th>\n",
              "      <th>ea_merchant_mcc</th>\n",
              "      <th>ea_merchant_city</th>\n",
              "      <th>ea_merchant_country</th>\n",
              "      <th>direction</th>\n",
              "      <th>user_id</th>\n",
              "      <th>created_date</th>\n",
              "    </tr>\n",
              "  </thead>\n",
              "  <tbody>\n",
              "    <tr>\n",
              "      <th>0</th>\n",
              "      <td>transaction_1973</td>\n",
              "      <td>TOPUP</td>\n",
              "      <td>AED</td>\n",
              "      <td>6079.39</td>\n",
              "      <td>COMPLETED</td>\n",
              "      <td>None</td>\n",
              "      <td>NaN</td>\n",
              "      <td>None</td>\n",
              "      <td>None</td>\n",
              "      <td>INBOUND</td>\n",
              "      <td>user_4773</td>\n",
              "      <td>2018-08-13 21:51:28.670363+00:00</td>\n",
              "    </tr>\n",
              "    <tr>\n",
              "      <th>1</th>\n",
              "      <td>transaction_508</td>\n",
              "      <td>TOPUP</td>\n",
              "      <td>AED</td>\n",
              "      <td>298.64</td>\n",
              "      <td>COMPLETED</td>\n",
              "      <td>None</td>\n",
              "      <td>NaN</td>\n",
              "      <td>None</td>\n",
              "      <td>None</td>\n",
              "      <td>INBOUND</td>\n",
              "      <td>user_4773</td>\n",
              "      <td>2018-09-06 18:19:53.401363+00:00</td>\n",
              "    </tr>\n",
              "    <tr>\n",
              "      <th>2</th>\n",
              "      <td>transaction_33</td>\n",
              "      <td>TOPUP</td>\n",
              "      <td>AED</td>\n",
              "      <td>236.63</td>\n",
              "      <td>COMPLETED</td>\n",
              "      <td>None</td>\n",
              "      <td>NaN</td>\n",
              "      <td>None</td>\n",
              "      <td>None</td>\n",
              "      <td>INBOUND</td>\n",
              "      <td>user_4773</td>\n",
              "      <td>2018-10-04 09:28:24.287363+00:00</td>\n",
              "    </tr>\n",
              "    <tr>\n",
              "      <th>3</th>\n",
              "      <td>transaction_1755306</td>\n",
              "      <td>EXCHANGE</td>\n",
              "      <td>AED</td>\n",
              "      <td>69.92</td>\n",
              "      <td>COMPLETED</td>\n",
              "      <td>None</td>\n",
              "      <td>NaN</td>\n",
              "      <td>None</td>\n",
              "      <td>None</td>\n",
              "      <td>OUTBOUND</td>\n",
              "      <td>user_10943</td>\n",
              "      <td>2018-12-07 19:45:41.208245+00:00</td>\n",
              "    </tr>\n",
              "    <tr>\n",
              "      <th>4</th>\n",
              "      <td>transaction_940</td>\n",
              "      <td>EXCHANGE</td>\n",
              "      <td>AED</td>\n",
              "      <td>52.24</td>\n",
              "      <td>COMPLETED</td>\n",
              "      <td>None</td>\n",
              "      <td>NaN</td>\n",
              "      <td>None</td>\n",
              "      <td>None</td>\n",
              "      <td>OUTBOUND</td>\n",
              "      <td>user_1363</td>\n",
              "      <td>2018-12-28 01:29:52.746895+00:00</td>\n",
              "    </tr>\n",
              "  </tbody>\n",
              "</table>\n",
              "</div>\n",
              "    <div class=\"colab-df-buttons\">\n",
              "\n",
              "  <div class=\"colab-df-container\">\n",
              "    <button class=\"colab-df-convert\" onclick=\"convertToInteractive('df-21753a28-0bd8-41ef-adc2-68ab4260e4c5')\"\n",
              "            title=\"Convert this dataframe to an interactive table.\"\n",
              "            style=\"display:none;\">\n",
              "\n",
              "  <svg xmlns=\"http://www.w3.org/2000/svg\" height=\"24px\" viewBox=\"0 -960 960 960\">\n",
              "    <path d=\"M120-120v-720h720v720H120Zm60-500h600v-160H180v160Zm220 220h160v-160H400v160Zm0 220h160v-160H400v160ZM180-400h160v-160H180v160Zm440 0h160v-160H620v160ZM180-180h160v-160H180v160Zm440 0h160v-160H620v160Z\"/>\n",
              "  </svg>\n",
              "    </button>\n",
              "\n",
              "  <style>\n",
              "    .colab-df-container {\n",
              "      display:flex;\n",
              "      gap: 12px;\n",
              "    }\n",
              "\n",
              "    .colab-df-convert {\n",
              "      background-color: #E8F0FE;\n",
              "      border: none;\n",
              "      border-radius: 50%;\n",
              "      cursor: pointer;\n",
              "      display: none;\n",
              "      fill: #1967D2;\n",
              "      height: 32px;\n",
              "      padding: 0 0 0 0;\n",
              "      width: 32px;\n",
              "    }\n",
              "\n",
              "    .colab-df-convert:hover {\n",
              "      background-color: #E2EBFA;\n",
              "      box-shadow: 0px 1px 2px rgba(60, 64, 67, 0.3), 0px 1px 3px 1px rgba(60, 64, 67, 0.15);\n",
              "      fill: #174EA6;\n",
              "    }\n",
              "\n",
              "    .colab-df-buttons div {\n",
              "      margin-bottom: 4px;\n",
              "    }\n",
              "\n",
              "    [theme=dark] .colab-df-convert {\n",
              "      background-color: #3B4455;\n",
              "      fill: #D2E3FC;\n",
              "    }\n",
              "\n",
              "    [theme=dark] .colab-df-convert:hover {\n",
              "      background-color: #434B5C;\n",
              "      box-shadow: 0px 1px 3px 1px rgba(0, 0, 0, 0.15);\n",
              "      filter: drop-shadow(0px 1px 2px rgba(0, 0, 0, 0.3));\n",
              "      fill: #FFFFFF;\n",
              "    }\n",
              "  </style>\n",
              "\n",
              "    <script>\n",
              "      const buttonEl =\n",
              "        document.querySelector('#df-21753a28-0bd8-41ef-adc2-68ab4260e4c5 button.colab-df-convert');\n",
              "      buttonEl.style.display =\n",
              "        google.colab.kernel.accessAllowed ? 'block' : 'none';\n",
              "\n",
              "      async function convertToInteractive(key) {\n",
              "        const element = document.querySelector('#df-21753a28-0bd8-41ef-adc2-68ab4260e4c5');\n",
              "        const dataTable =\n",
              "          await google.colab.kernel.invokeFunction('convertToInteractive',\n",
              "                                                    [key], {});\n",
              "        if (!dataTable) return;\n",
              "\n",
              "        const docLinkHtml = 'Like what you see? Visit the ' +\n",
              "          '<a target=\"_blank\" href=https://colab.research.google.com/notebooks/data_table.ipynb>data table notebook</a>'\n",
              "          + ' to learn more about interactive tables.';\n",
              "        element.innerHTML = '';\n",
              "        dataTable['output_type'] = 'display_data';\n",
              "        await google.colab.output.renderOutput(dataTable, element);\n",
              "        const docLink = document.createElement('div');\n",
              "        docLink.innerHTML = docLinkHtml;\n",
              "        element.appendChild(docLink);\n",
              "      }\n",
              "    </script>\n",
              "  </div>\n",
              "\n",
              "\n",
              "<div id=\"df-8c2c9a0f-c872-49c0-beec-913aaf8fb4f5\">\n",
              "  <button class=\"colab-df-quickchart\" onclick=\"quickchart('df-8c2c9a0f-c872-49c0-beec-913aaf8fb4f5')\"\n",
              "            title=\"Suggest charts\"\n",
              "            style=\"display:none;\">\n",
              "\n",
              "<svg xmlns=\"http://www.w3.org/2000/svg\" height=\"24px\"viewBox=\"0 0 24 24\"\n",
              "     width=\"24px\">\n",
              "    <g>\n",
              "        <path d=\"M19 3H5c-1.1 0-2 .9-2 2v14c0 1.1.9 2 2 2h14c1.1 0 2-.9 2-2V5c0-1.1-.9-2-2-2zM9 17H7v-7h2v7zm4 0h-2V7h2v10zm4 0h-2v-4h2v4z\"/>\n",
              "    </g>\n",
              "</svg>\n",
              "  </button>\n",
              "\n",
              "<style>\n",
              "  .colab-df-quickchart {\n",
              "      --bg-color: #E8F0FE;\n",
              "      --fill-color: #1967D2;\n",
              "      --hover-bg-color: #E2EBFA;\n",
              "      --hover-fill-color: #174EA6;\n",
              "      --disabled-fill-color: #AAA;\n",
              "      --disabled-bg-color: #DDD;\n",
              "  }\n",
              "\n",
              "  [theme=dark] .colab-df-quickchart {\n",
              "      --bg-color: #3B4455;\n",
              "      --fill-color: #D2E3FC;\n",
              "      --hover-bg-color: #434B5C;\n",
              "      --hover-fill-color: #FFFFFF;\n",
              "      --disabled-bg-color: #3B4455;\n",
              "      --disabled-fill-color: #666;\n",
              "  }\n",
              "\n",
              "  .colab-df-quickchart {\n",
              "    background-color: var(--bg-color);\n",
              "    border: none;\n",
              "    border-radius: 50%;\n",
              "    cursor: pointer;\n",
              "    display: none;\n",
              "    fill: var(--fill-color);\n",
              "    height: 32px;\n",
              "    padding: 0;\n",
              "    width: 32px;\n",
              "  }\n",
              "\n",
              "  .colab-df-quickchart:hover {\n",
              "    background-color: var(--hover-bg-color);\n",
              "    box-shadow: 0 1px 2px rgba(60, 64, 67, 0.3), 0 1px 3px 1px rgba(60, 64, 67, 0.15);\n",
              "    fill: var(--button-hover-fill-color);\n",
              "  }\n",
              "\n",
              "  .colab-df-quickchart-complete:disabled,\n",
              "  .colab-df-quickchart-complete:disabled:hover {\n",
              "    background-color: var(--disabled-bg-color);\n",
              "    fill: var(--disabled-fill-color);\n",
              "    box-shadow: none;\n",
              "  }\n",
              "\n",
              "  .colab-df-spinner {\n",
              "    border: 2px solid var(--fill-color);\n",
              "    border-color: transparent;\n",
              "    border-bottom-color: var(--fill-color);\n",
              "    animation:\n",
              "      spin 1s steps(1) infinite;\n",
              "  }\n",
              "\n",
              "  @keyframes spin {\n",
              "    0% {\n",
              "      border-color: transparent;\n",
              "      border-bottom-color: var(--fill-color);\n",
              "      border-left-color: var(--fill-color);\n",
              "    }\n",
              "    20% {\n",
              "      border-color: transparent;\n",
              "      border-left-color: var(--fill-color);\n",
              "      border-top-color: var(--fill-color);\n",
              "    }\n",
              "    30% {\n",
              "      border-color: transparent;\n",
              "      border-left-color: var(--fill-color);\n",
              "      border-top-color: var(--fill-color);\n",
              "      border-right-color: var(--fill-color);\n",
              "    }\n",
              "    40% {\n",
              "      border-color: transparent;\n",
              "      border-right-color: var(--fill-color);\n",
              "      border-top-color: var(--fill-color);\n",
              "    }\n",
              "    60% {\n",
              "      border-color: transparent;\n",
              "      border-right-color: var(--fill-color);\n",
              "    }\n",
              "    80% {\n",
              "      border-color: transparent;\n",
              "      border-right-color: var(--fill-color);\n",
              "      border-bottom-color: var(--fill-color);\n",
              "    }\n",
              "    90% {\n",
              "      border-color: transparent;\n",
              "      border-bottom-color: var(--fill-color);\n",
              "    }\n",
              "  }\n",
              "</style>\n",
              "\n",
              "  <script>\n",
              "    async function quickchart(key) {\n",
              "      const quickchartButtonEl =\n",
              "        document.querySelector('#' + key + ' button');\n",
              "      quickchartButtonEl.disabled = true;  // To prevent multiple clicks.\n",
              "      quickchartButtonEl.classList.add('colab-df-spinner');\n",
              "      try {\n",
              "        const charts = await google.colab.kernel.invokeFunction(\n",
              "            'suggestCharts', [key], {});\n",
              "      } catch (error) {\n",
              "        console.error('Error during call to suggestCharts:', error);\n",
              "      }\n",
              "      quickchartButtonEl.classList.remove('colab-df-spinner');\n",
              "      quickchartButtonEl.classList.add('colab-df-quickchart-complete');\n",
              "    }\n",
              "    (() => {\n",
              "      let quickchartButtonEl =\n",
              "        document.querySelector('#df-8c2c9a0f-c872-49c0-beec-913aaf8fb4f5 button');\n",
              "      quickchartButtonEl.style.display =\n",
              "        google.colab.kernel.accessAllowed ? 'block' : 'none';\n",
              "    })();\n",
              "  </script>\n",
              "</div>\n",
              "    </div>\n",
              "  </div>\n"
            ]
          },
          "metadata": {},
          "execution_count": 4
        }
      ],
      "source": [
        "transactions_df.head()"
      ]
    },
    {
      "cell_type": "code",
      "execution_count": 5,
      "metadata": {
        "colab": {
          "base_uri": "https://localhost:8080/"
        },
        "id": "ulxPcEuCKNNd",
        "outputId": "5a7c44e3-9428-42cb-a22d-ce268be7d107"
      },
      "outputs": [
        {
          "output_type": "stream",
          "name": "stdout",
          "text": [
            "<class 'pandas.core.frame.DataFrame'>\n",
            "RangeIndex: 2740075 entries, 0 to 2740074\n",
            "Data columns (total 12 columns):\n",
            " #   Column                 Dtype              \n",
            "---  ------                 -----              \n",
            " 0   transaction_id         object             \n",
            " 1   transactions_type      object             \n",
            " 2   transactions_currency  object             \n",
            " 3   amount_usd             float64            \n",
            " 4   transactions_state     object             \n",
            " 5   ea_cardholderpresence  object             \n",
            " 6   ea_merchant_mcc        float64            \n",
            " 7   ea_merchant_city       object             \n",
            " 8   ea_merchant_country    object             \n",
            " 9   direction              object             \n",
            " 10  user_id                object             \n",
            " 11  created_date           datetime64[ns, UTC]\n",
            "dtypes: datetime64[ns, UTC](1), float64(2), object(9)\n",
            "memory usage: 250.9+ MB\n"
          ]
        }
      ],
      "source": [
        "transactions_df.info()"
      ]
    },
    {
      "cell_type": "markdown",
      "source": [
        "il n'y a pas de colonne null d'après le df_info cependant nous avons None- NaN"
      ],
      "metadata": {
        "id": "WYFu-0c2DGi_"
      }
    },
    {
      "cell_type": "code",
      "source": [
        "transactions_df.isnull().sum()"
      ],
      "metadata": {
        "colab": {
          "base_uri": "https://localhost:8080/"
        },
        "id": "7r-UiL_u_O0u",
        "outputId": "5b9fae84-3400-4a01-a00f-b1fccb64d159"
      },
      "execution_count": 6,
      "outputs": [
        {
          "output_type": "execute_result",
          "data": {
            "text/plain": [
              "transaction_id                 0\n",
              "transactions_type              0\n",
              "transactions_currency          0\n",
              "amount_usd                     0\n",
              "transactions_state             0\n",
              "ea_cardholderpresence    1170594\n",
              "ea_merchant_mcc          1158658\n",
              "ea_merchant_city         1158794\n",
              "ea_merchant_country      1158979\n",
              "direction                      0\n",
              "user_id                        0\n",
              "created_date                   0\n",
              "dtype: int64"
            ]
          },
          "metadata": {},
          "execution_count": 6
        }
      ]
    },
    {
      "cell_type": "code",
      "source": [
        "#pour connaître le % de valeur null par colonne\n",
        "transactions_df.isna().mean().sort_values().tail()"
      ],
      "metadata": {
        "colab": {
          "base_uri": "https://localhost:8080/"
        },
        "id": "J12e4vox_Oo-",
        "outputId": "7ee13651-40e7-4bba-cad6-a16bf9a7e8c4"
      },
      "execution_count": 7,
      "outputs": [
        {
          "output_type": "execute_result",
          "data": {
            "text/plain": [
              "created_date             0.000000\n",
              "ea_merchant_mcc          0.422856\n",
              "ea_merchant_city         0.422906\n",
              "ea_merchant_country      0.422973\n",
              "ea_cardholderpresence    0.427212\n",
              "dtype: float64"
            ]
          },
          "metadata": {},
          "execution_count": 7
        }
      ]
    },
    {
      "cell_type": "markdown",
      "source": [
        "Nous verrons plus tard que les 4 ea sont liés. en fonction d'avoir ou non une carte."
      ],
      "metadata": {
        "id": "vmLMv4kK3tND"
      }
    },
    {
      "cell_type": "markdown",
      "source": [
        "#les colonnes"
      ],
      "metadata": {
        "id": "mjHwtGXz2Atk"
      }
    },
    {
      "cell_type": "markdown",
      "source": [
        "#Transactions_type"
      ],
      "metadata": {
        "id": "Mmt06Fi64DAl"
      }
    },
    {
      "cell_type": "code",
      "source": [
        "transactions_df['transactions_type'].nunique()"
      ],
      "metadata": {
        "colab": {
          "base_uri": "https://localhost:8080/"
        },
        "id": "4iudcDGCsyR7",
        "outputId": "a668dc5f-3fc3-4e79-9c12-eec32e23f88d"
      },
      "execution_count": 8,
      "outputs": [
        {
          "output_type": "execute_result",
          "data": {
            "text/plain": [
              "10"
            ]
          },
          "metadata": {},
          "execution_count": 8
        }
      ]
    },
    {
      "cell_type": "code",
      "source": [
        "transactions_df['transactions_type'].unique()"
      ],
      "metadata": {
        "colab": {
          "base_uri": "https://localhost:8080/"
        },
        "id": "q1zH0HURs9o7",
        "outputId": "4bc184ed-8de7-4507-83c5-e85fb47c8d89"
      },
      "execution_count": 9,
      "outputs": [
        {
          "output_type": "execute_result",
          "data": {
            "text/plain": [
              "array(['TOPUP', 'EXCHANGE', 'TRANSFER', 'CARD_PAYMENT', 'CARD_REFUND',\n",
              "       'ATM', 'CASHBACK', 'REFUND', 'FEE', 'TAX'], dtype=object)"
            ]
          },
          "metadata": {},
          "execution_count": 9
        }
      ]
    },
    {
      "cell_type": "code",
      "source": [
        "transactions_df['transactions_type'].describe()"
      ],
      "metadata": {
        "colab": {
          "base_uri": "https://localhost:8080/"
        },
        "id": "ukjXSz5Cshhr",
        "outputId": "ddb26e1c-b806-4bee-e44a-6cd913a557d9"
      },
      "execution_count": 10,
      "outputs": [
        {
          "output_type": "execute_result",
          "data": {
            "text/plain": [
              "count          2740075\n",
              "unique              10\n",
              "top       CARD_PAYMENT\n",
              "freq           1475780\n",
              "Name: transactions_type, dtype: object"
            ]
          },
          "metadata": {},
          "execution_count": 10
        }
      ]
    },
    {
      "cell_type": "code",
      "source": [
        "transactions_df['transactions_type'].info()"
      ],
      "metadata": {
        "colab": {
          "base_uri": "https://localhost:8080/"
        },
        "id": "GUqZbh7NptrR",
        "outputId": "4787b641-7d72-48fb-8442-bc9d2a70c649"
      },
      "execution_count": 11,
      "outputs": [
        {
          "output_type": "stream",
          "name": "stdout",
          "text": [
            "<class 'pandas.core.series.Series'>\n",
            "RangeIndex: 2740075 entries, 0 to 2740074\n",
            "Series name: transactions_type\n",
            "Non-Null Count    Dtype \n",
            "--------------    ----- \n",
            "2740075 non-null  object\n",
            "dtypes: object(1)\n",
            "memory usage: 20.9+ MB\n"
          ]
        }
      ]
    },
    {
      "cell_type": "markdown",
      "source": [
        "transactions type à relier avec outbound/inbound pour voir les flux créditeurs et débiteurs. Plus relier aux porteurs de cartes."
      ],
      "metadata": {
        "id": "Xa4VgQMH5L2T"
      }
    },
    {
      "cell_type": "markdown",
      "source": [
        "# Transactions_currency"
      ],
      "metadata": {
        "id": "DCdbqtuo4IkP"
      }
    },
    {
      "cell_type": "code",
      "source": [
        "transactions_df['transactions_currency'].info()"
      ],
      "metadata": {
        "colab": {
          "base_uri": "https://localhost:8080/"
        },
        "id": "jW15qSsO1B4z",
        "outputId": "aa75dd40-87ba-4913-ae6b-d44676c8125d"
      },
      "execution_count": 12,
      "outputs": [
        {
          "output_type": "stream",
          "name": "stdout",
          "text": [
            "<class 'pandas.core.series.Series'>\n",
            "RangeIndex: 2740075 entries, 0 to 2740074\n",
            "Series name: transactions_currency\n",
            "Non-Null Count    Dtype \n",
            "--------------    ----- \n",
            "2740075 non-null  object\n",
            "dtypes: object(1)\n",
            "memory usage: 20.9+ MB\n"
          ]
        }
      ]
    },
    {
      "cell_type": "code",
      "source": [
        "transactions_df['transactions_currency'].unique()"
      ],
      "metadata": {
        "colab": {
          "base_uri": "https://localhost:8080/"
        },
        "id": "7JcO0rij1Mt8",
        "outputId": "6d92e474-11ea-4821-e55d-3967806dbfb1"
      },
      "execution_count": 13,
      "outputs": [
        {
          "output_type": "execute_result",
          "data": {
            "text/plain": [
              "array(['AED', 'AUD', 'BCH', 'BGN', 'BTC', 'CAD', 'CHF', 'CZK', 'DKK',\n",
              "       'ETH', 'EUR', 'GBP', 'HKD', 'HRK', 'HUF', 'ILS', 'INR', 'JPY',\n",
              "       'LTC', 'MAD', 'MXN', 'NOK', 'NZD', 'PLN', 'QAR', 'RON', 'RUB',\n",
              "       'SEK', 'SGD', 'THB', 'TRY', 'USD', 'XRP', 'ZAR', 'SAR'],\n",
              "      dtype=object)"
            ]
          },
          "metadata": {},
          "execution_count": 13
        }
      ]
    },
    {
      "cell_type": "code",
      "source": [
        "transactions_df['transactions_currency'].nunique()"
      ],
      "metadata": {
        "colab": {
          "base_uri": "https://localhost:8080/"
        },
        "id": "TzYVkgPl1Rq7",
        "outputId": "4b1bd3fe-d681-4658-a1b4-62ee05c8157b"
      },
      "execution_count": 14,
      "outputs": [
        {
          "output_type": "execute_result",
          "data": {
            "text/plain": [
              "35"
            ]
          },
          "metadata": {},
          "execution_count": 14
        }
      ]
    },
    {
      "cell_type": "code",
      "source": [
        "transactions_df['transactions_currency'].describe()"
      ],
      "metadata": {
        "colab": {
          "base_uri": "https://localhost:8080/"
        },
        "id": "BitxmCG86LSs",
        "outputId": "0dd384f5-5e5e-4223-9586-487f50a4a7b9"
      },
      "execution_count": 15,
      "outputs": [
        {
          "output_type": "execute_result",
          "data": {
            "text/plain": [
              "count     2740075\n",
              "unique         35\n",
              "top           EUR\n",
              "freq      1160135\n",
              "Name: transactions_currency, dtype: object"
            ]
          },
          "metadata": {},
          "execution_count": 15
        }
      ]
    },
    {
      "cell_type": "markdown",
      "source": [
        "Il y a 35 monnaies différentes, la plus utilisée est l'euro. A voir si même chiffre en fonction de outbound ou inbound"
      ],
      "metadata": {
        "id": "1v0OBY2r8YkV"
      }
    },
    {
      "cell_type": "markdown",
      "source": [
        "# Transactions_state"
      ],
      "metadata": {
        "id": "RDJEHkRw4yx8"
      }
    },
    {
      "cell_type": "code",
      "source": [
        "transactions_df['transactions_state'].info()"
      ],
      "metadata": {
        "colab": {
          "base_uri": "https://localhost:8080/"
        },
        "id": "5urxbVz49LRL",
        "outputId": "dd54643f-8bc6-4935-b659-19a22fea05ab"
      },
      "execution_count": 16,
      "outputs": [
        {
          "output_type": "stream",
          "name": "stdout",
          "text": [
            "<class 'pandas.core.series.Series'>\n",
            "RangeIndex: 2740075 entries, 0 to 2740074\n",
            "Series name: transactions_state\n",
            "Non-Null Count    Dtype \n",
            "--------------    ----- \n",
            "2740075 non-null  object\n",
            "dtypes: object(1)\n",
            "memory usage: 20.9+ MB\n"
          ]
        }
      ]
    },
    {
      "cell_type": "code",
      "source": [
        "transactions_df['transactions_state'].unique()"
      ],
      "metadata": {
        "colab": {
          "base_uri": "https://localhost:8080/"
        },
        "id": "BAJ3DZx89KuL",
        "outputId": "a5d6b877-0d93-4e85-d8de-4696a735660b"
      },
      "execution_count": 17,
      "outputs": [
        {
          "output_type": "execute_result",
          "data": {
            "text/plain": [
              "array(['COMPLETED', 'PENDING', 'DECLINED', 'REVERTED', 'FAILED',\n",
              "       'CANCELLED'], dtype=object)"
            ]
          },
          "metadata": {},
          "execution_count": 17
        }
      ]
    },
    {
      "cell_type": "code",
      "source": [
        "transactions_df['transactions_state'].nunique()"
      ],
      "metadata": {
        "colab": {
          "base_uri": "https://localhost:8080/"
        },
        "id": "g0M-yckQ9KcW",
        "outputId": "f0c2b09d-6e5b-491c-b61e-10e8b2e18cb0"
      },
      "execution_count": 18,
      "outputs": [
        {
          "output_type": "execute_result",
          "data": {
            "text/plain": [
              "6"
            ]
          },
          "metadata": {},
          "execution_count": 18
        }
      ]
    },
    {
      "cell_type": "code",
      "source": [
        "transactions_df['transactions_state'].describe()"
      ],
      "metadata": {
        "colab": {
          "base_uri": "https://localhost:8080/"
        },
        "id": "yvkmxGEv9J8E",
        "outputId": "4789214a-87bd-46aa-f427-3113d521e12c"
      },
      "execution_count": 19,
      "outputs": [
        {
          "output_type": "execute_result",
          "data": {
            "text/plain": [
              "count       2740075\n",
              "unique            6\n",
              "top       COMPLETED\n",
              "freq        2407968\n",
              "Name: transactions_state, dtype: object"
            ]
          },
          "metadata": {},
          "execution_count": 19
        }
      ]
    },
    {
      "cell_type": "markdown",
      "source": [
        "il existe 6 states. majoritairement completed"
      ],
      "metadata": {
        "id": "aXL01t03-Gmk"
      }
    },
    {
      "cell_type": "markdown",
      "source": [
        "# Ea_cardholderpresence"
      ],
      "metadata": {
        "id": "2lCG_vyl4QG8"
      }
    },
    {
      "cell_type": "code",
      "source": [
        "transactions_df['ea_cardholderpresence'].info()"
      ],
      "metadata": {
        "colab": {
          "base_uri": "https://localhost:8080/"
        },
        "id": "wBVN5KE7-bY_",
        "outputId": "342b831c-12ea-4d81-a591-d2aac3f28139"
      },
      "execution_count": 20,
      "outputs": [
        {
          "output_type": "stream",
          "name": "stdout",
          "text": [
            "<class 'pandas.core.series.Series'>\n",
            "RangeIndex: 2740075 entries, 0 to 2740074\n",
            "Series name: ea_cardholderpresence\n",
            "Non-Null Count    Dtype \n",
            "--------------    ----- \n",
            "1569481 non-null  object\n",
            "dtypes: object(1)\n",
            "memory usage: 20.9+ MB\n"
          ]
        }
      ]
    },
    {
      "cell_type": "code",
      "source": [
        "transactions_df['ea_cardholderpresence'].unique()"
      ],
      "metadata": {
        "colab": {
          "base_uri": "https://localhost:8080/"
        },
        "id": "RJ8LQY67-cgz",
        "outputId": "99da1374-fc27-41a6-aa94-47530a16fb64"
      },
      "execution_count": 21,
      "outputs": [
        {
          "output_type": "execute_result",
          "data": {
            "text/plain": [
              "array([None, 'FALSE', 'TRUE', 'UNKNOWN'], dtype=object)"
            ]
          },
          "metadata": {},
          "execution_count": 21
        }
      ]
    },
    {
      "cell_type": "code",
      "source": [
        "transactions_df['ea_cardholderpresence'].nunique()"
      ],
      "metadata": {
        "colab": {
          "base_uri": "https://localhost:8080/"
        },
        "id": "HlM6dma2-cUk",
        "outputId": "e58cd415-d5ee-449f-a832-308a992dab9c"
      },
      "execution_count": 22,
      "outputs": [
        {
          "output_type": "execute_result",
          "data": {
            "text/plain": [
              "3"
            ]
          },
          "metadata": {},
          "execution_count": 22
        }
      ]
    },
    {
      "cell_type": "code",
      "source": [
        "transactions_df['ea_cardholderpresence'].describe()"
      ],
      "metadata": {
        "colab": {
          "base_uri": "https://localhost:8080/"
        },
        "id": "2RijL8EB-cHM",
        "outputId": "d3a81d1b-c41b-4768-8349-c4eb7438ae4c"
      },
      "execution_count": 24,
      "outputs": [
        {
          "output_type": "execute_result",
          "data": {
            "text/plain": [
              "count     1569481\n",
              "unique          3\n",
              "top         FALSE\n",
              "freq      1275460\n",
              "Name: ea_cardholderpresence, dtype: object"
            ]
          },
          "metadata": {},
          "execution_count": 24
        }
      ]
    },
    {
      "cell_type": "markdown",
      "source": [
        "la majorité n'a pas de cartes"
      ],
      "metadata": {
        "id": "0MFtOW6s_6Ks"
      }
    },
    {
      "cell_type": "markdown",
      "source": [
        "# ea_merchant_mcc"
      ],
      "metadata": {
        "id": "ceJlr4IR5LXc"
      }
    },
    {
      "cell_type": "code",
      "source": [
        "transactions_df['ea_merchant_mcc'].info()"
      ],
      "metadata": {
        "colab": {
          "base_uri": "https://localhost:8080/"
        },
        "id": "facopwe5Abhk",
        "outputId": "01c58e27-578c-4a3d-e7ab-4aef1aef5ac8"
      },
      "execution_count": 25,
      "outputs": [
        {
          "output_type": "stream",
          "name": "stdout",
          "text": [
            "<class 'pandas.core.series.Series'>\n",
            "RangeIndex: 2740075 entries, 0 to 2740074\n",
            "Series name: ea_merchant_mcc\n",
            "Non-Null Count    Dtype  \n",
            "--------------    -----  \n",
            "1581417 non-null  float64\n",
            "dtypes: float64(1)\n",
            "memory usage: 20.9 MB\n"
          ]
        }
      ]
    },
    {
      "cell_type": "code",
      "source": [
        "transactions_df['ea_merchant_mcc'].unique()"
      ],
      "metadata": {
        "colab": {
          "base_uri": "https://localhost:8080/"
        },
        "id": "EEuWJO_bAbXM",
        "outputId": "8cb241a3-5a09-4fb4-9014-069f757eb93a"
      },
      "execution_count": 26,
      "outputs": [
        {
          "output_type": "execute_result",
          "data": {
            "text/plain": [
              "array([  nan, 4111., 5651., 5912., 4121., 5411., 5941., 7221., 5942.,\n",
              "       5943., 3612., 5691., 5947., 7996., 7230., 7999., 5441., 5964.,\n",
              "       7512., 5977., 7011., 3509., 5994., 5999., 3640., 6513., 4722.,\n",
              "       4215., 5499., 6011., 3520., 4511., 5541., 5811., 5812., 5814.,\n",
              "       5309., 7372., 4814., 7399., 5621., 5641., 5399., 5661., 5921.,\n",
              "       4131., 5422., 5172., 5940., 7991., 5944., 4411., 7995., 5948.,\n",
              "       7998., 5712., 5714., 8021., 5462., 5719., 5722., 9402., 7519.,\n",
              "       7523., 5734., 8398., 5993., 3642., 7033., 5251., 7311., 5521.,\n",
              "       7832., 5533., 8099., 4789., 5813., 5816., 5310., 5311., 5571.,\n",
              "       4812., 4816., 4818., 5331., 4582., 7922., 7929., 7932., 5631.,\n",
              "       8249., 8299., 9399., 8641., 8699., 5699., 5968., 2741., 5542.,\n",
              "       5045., 8220., 4112., 5655., 5965., 5200., 3246., 3502., 3503.,\n",
              "       3504., 5732., 4225., 7299., 7829., 7392., 7941., 3077., 4899.,\n",
              "       5932., 7216., 5945., 5946., 7994., 3102., 5949., 7997., 5697.,\n",
              "       5192., 5962., 5967., 5969., 4011., 3245., 5992., 4457., 5995.,\n",
              "       8043., 7534., 3512., 3771., 6010., 8062., 3008., 3136., 3010.,\n",
              "       5511., 6540., 5261., 3015., 3533., 7333., 4784., 5815., 5817.,\n",
              "       5818., 7361., 3043., 5072.,  763., 4829., 7394., 5611., 3579.,\n",
              "       8911., 8999., 5122., 5131., 8244., 4900.,  742., 7992., 5950.,\n",
              "       5451., 8011., 5970., 5971., 5211., 5735., 7273., 5996., 7542.,\n",
              "       7032., 3005., 7298., 3016., 6300., 8111., 5044., 1520., 5094.,\n",
              "       5111., 9311., 1731., 7993., 1750., 6012., 7349., 3301., 7375.,\n",
              "       7933., 3072., 9222., 3715., 1474., 1411., 3590., 3079., 3591.,\n",
              "       3719., 5137., 3721., 5139., 7699., 1413., 3722., 3211., 5911.,\n",
              "       3596., 5913., 1415., 1799., 3088., 1353., 3602., 3219., 1354.,\n",
              "       1418., 3604., 7210., 5931., 7211., 1355., 1420., 1740., 5169.,\n",
              "       5681., 7217., 3099., 3355., 7990., 3357., 3741., 1423., 3615.,\n",
              "       7231., 1488., 5952., 6211., 5956., 5959., 5960., 5193., 5963.,\n",
              "       3366., 3750., 5198., 5966., 5199., 5713., 7251., 1493., 4012.,\n",
              "       7513., 3501., 5978., 5983., 7012., 5733., 7013., 3641., 5039.,\n",
              "       5047., 8042., 7278., 8050., 3551., 8661., 3405., 3543., 5300.,\n",
              "       5046., 3180., 7277., 5231., 8049., 3001., 7538., 4468., 4214.,\n",
              "       7297., 3011., 3535., 6051., 7338., 3548., 3047., 4821., 5099.,\n",
              "       9405., 3260., 3007., 3778., 1711., 3649., 3589., 1348., 4119.,\n",
              "       4133., 1419., 1483., 3351., 2842., 3742., 1424., 7232., 5957.,\n",
              "       1490., 3240., 5972., 5973., 2348., 5976., 1431., 1495., 7261.,\n",
              "       3745., 3034., 7395., 3389., 3009., 3025., 3294., 3183., 7379.,\n",
              "       3196., 3581., 3217., 1473., 1351., 1480., 3614., 1360., 2340.,\n",
              "       3368., 5718.,  780., 3634., 1370., 3381., 3637., 3510., 5997.,\n",
              "       5998., 1372., 3000., 3256., 3513., 7539., 2490., 3773., 3519.,\n",
              "       7296., 2369., 6533., 8071., 3652., 6537., 3013., 6538., 3655.,\n",
              "       2376., 3144., 3530., 5013., 3659., 5271., 2380., 5531., 5532.,\n",
              "       3663., 7841., 3665., 3793., 3026., 5543., 3028., 3029., 7339.,\n",
              "       1771., 3030., 3672., 2523., 3035., 1390., 3676., 5561., 3677.,\n",
              "       3039., 3297., 3553., 1521., 3042., 3811., 7622., 1522., 3812.,\n",
              "       5065., 4813., 7629., 7631., 1396., 3048., 3562., 5333., 3051.,\n",
              "       5335., 1462., 3052., 5338., 5085., 5599., 1401., 1465., 3058.,\n",
              "       3698., 5350., 7911., 1338., 2422., 3703., 1340., 1405., 3068.,\n",
              "       3709., 1407., 3583., 8211., 8351., 8931., 8675., 3076., 3508.,\n",
              "       7531., 1436., 3387., 3774., 3779., 3012., 3524., 1445., 3661.,\n",
              "       5021., 2131., 2525., 3037., 3813., 3687., 3690., 3692., 1402.,\n",
              "       3829., 2941., 8411., 8651., 3075., 3716., 3132., 3654., 3021.,\n",
              "       3022., 1449., 5551., 1454., 5051., 2401., 5074., 1397., 3182.,\n",
              "       3056., 1466., 1339., 1406., 8241., 9211., 8734., 3100., 5975.,\n",
              "       3506., 8041., 3767., 3395., 3780., 3014., 3020., 7321., 1395.,\n",
              "       7393., 3828., 3545., 9406., 3638., 3784., 3295., 3174., 8031.,\n",
              "       3628., 3247., 3516., 3393., 3777., 3650., 3816., 3826., 5698.,\n",
              "       1362., 3643., 3523., 3653., 3782., 3024., 3526., 3161., 3700.,\n",
              "       3730., 5933., 3103., 3619., 3441., 3831., 3710., 2791., 5937.,\n",
              "       7692., 3751., 3625., 3613., 3765., 3660., 3662., 3390., 3608.,\n",
              "       3644., 3667., 3717., 3236., 3518., 1346., 3082., 1481., 5955.,\n",
              "       3747., 1476., 3592., 7987., 3623., 1430., 3248., 3769., 2014.,\n",
              "       2520., 3804., 1531., 1470., 3586., 7014., 3515., 3681., 5592.,\n",
              "       1403., 3078., 7276., 7535., 3261., 1504., 2133., 3032., 1453.,\n",
              "       3808., 2541., 3830., 1469., 3621., 3098., 7549., 3181., 3825.,\n",
              "       5939., 3635., 3018., 3668., 3832., 3050., 3731., 3695., 3057.,\n",
              "       3552., 3064., 1477., 2961., 3220., 1350., 1486., 1487., 7988.,\n",
              "       1366., 1381., 7641., 3517., 2501., 1382., 2528., 5313., 3175.,\n",
              "       1398., 1342., 3206., 3511., 1452., 1391., 3824., 3066., 4124.,\n",
              "       3017., 3657., 3790., 3299., 1376., 3267., 3598., 3127., 3555.,\n",
              "       3223., 2013., 3538., 7342., 5935., 1434., 3636., 2524., 1498.,\n",
              "       2111., 3049., 5598., 1373., 3791., 3542., 3549., 3575., 1471.,\n",
              "       3740., 1761., 6536., 3040., 3266., 3617., 3720., 3084., 3190.,\n",
              "       1425., 3031., 3577., 8412., 3770., 3607., 3609., 3788.])"
            ]
          },
          "metadata": {},
          "execution_count": 26
        }
      ]
    },
    {
      "cell_type": "code",
      "source": [
        "transactions_df['ea_merchant_mcc'].nunique()"
      ],
      "metadata": {
        "colab": {
          "base_uri": "https://localhost:8080/"
        },
        "id": "JCcnR1UvAbOb",
        "outputId": "cc281e7f-e5bc-4655-e52f-ab76ea0d5f35"
      },
      "execution_count": 27,
      "outputs": [
        {
          "output_type": "execute_result",
          "data": {
            "text/plain": [
              "664"
            ]
          },
          "metadata": {},
          "execution_count": 27
        }
      ]
    },
    {
      "cell_type": "code",
      "source": [
        "transactions_df['ea_merchant_mcc'].describe()"
      ],
      "metadata": {
        "colab": {
          "base_uri": "https://localhost:8080/"
        },
        "id": "S8Q6wOKoAbFj",
        "outputId": "898cc31d-6261-4608-8f02-4986dd458ebb"
      },
      "execution_count": 28,
      "outputs": [
        {
          "output_type": "execute_result",
          "data": {
            "text/plain": [
              "count    1.581417e+06\n",
              "mean     5.699736e+03\n",
              "std      9.493660e+02\n",
              "min      7.420000e+02\n",
              "25%      5.411000e+03\n",
              "50%      5.812000e+03\n",
              "75%      5.921000e+03\n",
              "max      9.406000e+03\n",
              "Name: ea_merchant_mcc, dtype: float64"
            ]
          },
          "metadata": {},
          "execution_count": 28
        }
      ]
    },
    {
      "cell_type": "markdown",
      "source": [
        "MCC équivalent code APE. Peut-être utile pour définir le profil consommateur des clients néo_bank. Colonne remplei que si paiement par carte"
      ],
      "metadata": {
        "id": "u1ecwURoJp1P"
      }
    },
    {
      "cell_type": "markdown",
      "source": [
        "# ea_merchant-city"
      ],
      "metadata": {
        "id": "yGYPeeXz5oNv"
      }
    },
    {
      "cell_type": "code",
      "source": [
        "transactions_df['ea_merchant_city'].info()"
      ],
      "metadata": {
        "colab": {
          "base_uri": "https://localhost:8080/"
        },
        "id": "F4pHEYr1WB6f",
        "outputId": "dd21ac8e-ee1f-4a5c-a249-4a6c0dc8a173"
      },
      "execution_count": 29,
      "outputs": [
        {
          "output_type": "stream",
          "name": "stdout",
          "text": [
            "<class 'pandas.core.series.Series'>\n",
            "RangeIndex: 2740075 entries, 0 to 2740074\n",
            "Series name: ea_merchant_city\n",
            "Non-Null Count    Dtype \n",
            "--------------    ----- \n",
            "1581281 non-null  object\n",
            "dtypes: object(1)\n",
            "memory usage: 20.9+ MB\n"
          ]
        }
      ]
    },
    {
      "cell_type": "code",
      "source": [
        "transactions_df['ea_merchant_city'].unique()"
      ],
      "metadata": {
        "colab": {
          "base_uri": "https://localhost:8080/"
        },
        "id": "Sg6LQfBjWBuu",
        "outputId": "6b2d1b7a-99bf-4b92-fd31-594ffe7aa197"
      },
      "execution_count": 30,
      "outputs": [
        {
          "output_type": "execute_result",
          "data": {
            "text/plain": [
              "array([None, 'Dubai', '800-592-8996', ..., 'Waterval Bove', 'Fish Heok',\n",
              "       'Overport'], dtype=object)"
            ]
          },
          "metadata": {},
          "execution_count": 30
        }
      ]
    },
    {
      "cell_type": "code",
      "source": [
        "transactions_df['ea_merchant_city'].nunique()"
      ],
      "metadata": {
        "colab": {
          "base_uri": "https://localhost:8080/"
        },
        "id": "TTQaE4gsWBHm",
        "outputId": "9854d80a-1790-4055-b2e0-c94aad614912"
      },
      "execution_count": 31,
      "outputs": [
        {
          "output_type": "execute_result",
          "data": {
            "text/plain": [
              "63253"
            ]
          },
          "metadata": {},
          "execution_count": 31
        }
      ]
    },
    {
      "cell_type": "code",
      "source": [
        "transactions_df['ea_merchant_city'].describe()"
      ],
      "metadata": {
        "colab": {
          "base_uri": "https://localhost:8080/"
        },
        "id": "IuxwAiUTWroY",
        "outputId": "00b189ed-f42c-4a7e-c273-838f685ebfe1"
      },
      "execution_count": 32,
      "outputs": [
        {
          "output_type": "execute_result",
          "data": {
            "text/plain": [
              "count     1581281\n",
              "unique      63253\n",
              "top        London\n",
              "freq        92745\n",
              "Name: ea_merchant_city, dtype: object"
            ]
          },
          "metadata": {},
          "execution_count": 32
        }
      ]
    },
    {
      "cell_type": "markdown",
      "source": [
        "table pour voir profil consommateur de nos clients\n",
        "London numéro 1"
      ],
      "metadata": {
        "id": "BT7sKaT4W2Q-"
      }
    },
    {
      "cell_type": "markdown",
      "source": [
        "# ea_merchant_country"
      ],
      "metadata": {
        "id": "ZGVRtx-H5rMF"
      }
    },
    {
      "cell_type": "code",
      "source": [
        "transactions_df['ea_merchant_country'].info()"
      ],
      "metadata": {
        "colab": {
          "base_uri": "https://localhost:8080/"
        },
        "id": "adBSQjbvXLyX",
        "outputId": "49c54701-c5fb-48f9-d3a7-f26c3ecff778"
      },
      "execution_count": 36,
      "outputs": [
        {
          "output_type": "stream",
          "name": "stdout",
          "text": [
            "<class 'pandas.core.series.Series'>\n",
            "RangeIndex: 2740075 entries, 0 to 2740074\n",
            "Series name: ea_merchant_country\n",
            "Non-Null Count    Dtype \n",
            "--------------    ----- \n",
            "1581096 non-null  object\n",
            "dtypes: object(1)\n",
            "memory usage: 20.9+ MB\n"
          ]
        }
      ]
    },
    {
      "cell_type": "code",
      "source": [
        "transactions_df['ea_merchant_country'].nunique()"
      ],
      "metadata": {
        "colab": {
          "base_uri": "https://localhost:8080/"
        },
        "id": "J9pYNW4BXLkP",
        "outputId": "521f64e8-d7e6-4b9e-d655-703d43b116a7"
      },
      "execution_count": 37,
      "outputs": [
        {
          "output_type": "execute_result",
          "data": {
            "text/plain": [
              "198"
            ]
          },
          "metadata": {},
          "execution_count": 37
        }
      ]
    },
    {
      "cell_type": "code",
      "source": [
        "transactions_df['ea_merchant_country'].unique()"
      ],
      "metadata": {
        "colab": {
          "base_uri": "https://localhost:8080/"
        },
        "id": "bdaMkt3TXLY3",
        "outputId": "8b4415f6-4171-4c34-f273-7370d7459bc0"
      },
      "execution_count": 39,
      "outputs": [
        {
          "output_type": "execute_result",
          "data": {
            "text/plain": [
              "array([None, 'ARE', 'NLD', 'GBR', 'DEU', 'JOR', 'POL', 'ROM', 'SWE',\n",
              "       'IRL', 'ITA', 'USA', 'AUS', 'NZL', 'FJI', 'IDN', 'MYS', 'HKG',\n",
              "       'LUX', 'BGR', 'FRA', 'GIB', 'ESP', 'CAN', 'PER', 'ARG', 'HUN',\n",
              "       'BOL', 'COL', 'CHE', 'THA', 'HRV', 'RUS', 'BIH', 'CHL', 'PRT',\n",
              "       'TTO', 'BEL', 'JPN', 'SGP', 'BRA', 'LVA', 'VNM', 'MEX', 'ISR',\n",
              "       'CZE', 'ROU', 'NOR', 'AUT', 'CRI', 'TUR', 'URY', 'BHS', 'FIN',\n",
              "       'ZAF', 'DNK', 'MLT', 'IND', 'PHL', 'LKA', 'KEN', 'MCO', 'MDV',\n",
              "       'MAR', 'MOZ', 'NPL', 'TWN', 'CUB', 'ETH', 'EGY', 'GRC', 'REU',\n",
              "       'LBN', 'BMU', 'SVK', 'GEO', 'EST', 'UKR', 'DOM', 'ISL', 'SVN',\n",
              "       'SRB', 'BLR', 'LTU', 'CYP', 'GTM', 'KOR', 'MTQ', 'AND', 'GLP',\n",
              "       'MNG', 'TUN', 'CHN', 'NGA', 'VEN', 'MNE', 'KAZ', 'NER', 'MKD',\n",
              "       'KHM', 'MYT', 'PRY', 'CIV', 'PRI', 'KGZ', 'ZWE', 'SEN', 'NCL',\n",
              "       'SAU', 'OMN', 'FRO', 'GIN', 'PAN', 'VAT', 'MUS', 'PSE', 'KWT',\n",
              "       'GUF', 'PYF', 'LAO', 'TZA', 'MMR', 'NIC', 'CMR', 'GNQ', 'BHR',\n",
              "       'ALB', 'CPV', 'BLZ', 'UGA', 'TCA', 'LIE', 'JAM', 'AZE', 'QAT',\n",
              "       'HND', 'ECU', 'MAC', 'BRB', 'NAM', 'VGB', 'COK', 'AGO', 'MDG',\n",
              "       'SLV', 'BWA', 'QZZ', 'CUW', 'ZMB', 'GHA', 'SUR', 'SYC', 'BFA',\n",
              "       'UZB', 'PCN', 'SXM', 'DZA', 'MDA', 'RWA', 'CYM', 'BGD', 'GGY',\n",
              "       'JEY', 'ATG', 'GAB', 'DMA', 'BEN', 'ARM', 'SMR', 'MWI', 'PAK',\n",
              "       'LCA', 'HMD', 'AGB', 'PGB', 'VCT', 'ABW', 'GRD', 'SWZ', 'KNA',\n",
              "       'ANT', 'VUT', 'AIA', 'GMB', 'LSO', 'SCH', 'TCD', 'BRN', 'IMN',\n",
              "       'VIR', 'TKM', 'APT', 'GUY', 'ZAR', 'MAF', 'TON', 'COD', 'SGB',\n",
              "       'TGO'], dtype=object)"
            ]
          },
          "metadata": {},
          "execution_count": 39
        }
      ]
    },
    {
      "cell_type": "code",
      "source": [
        "transactions_df['ea_merchant_country'].describe()"
      ],
      "metadata": {
        "colab": {
          "base_uri": "https://localhost:8080/"
        },
        "id": "61W31a6UXee3",
        "outputId": "5bca5022-1f36-4b8c-a129-5907d682096f"
      },
      "execution_count": 40,
      "outputs": [
        {
          "output_type": "execute_result",
          "data": {
            "text/plain": [
              "count     1581096\n",
              "unique        198\n",
              "top           GBR\n",
              "freq       455924\n",
              "Name: ea_merchant_country, dtype: object"
            ]
          },
          "metadata": {},
          "execution_count": 40
        }
      ]
    },
    {
      "cell_type": "markdown",
      "source": [
        "normal puisque Londres était la 1ère ville"
      ],
      "metadata": {
        "id": "iNbJqmVBX-IA"
      }
    },
    {
      "cell_type": "markdown",
      "source": [
        "#Direction"
      ],
      "metadata": {
        "id": "sZJ6IviDaTnQ"
      }
    },
    {
      "cell_type": "code",
      "source": [
        "transactions_df['direction'].info()"
      ],
      "metadata": {
        "id": "J_UsvMCX56Is",
        "colab": {
          "base_uri": "https://localhost:8080/"
        },
        "outputId": "e16a019c-bbf3-4868-b196-3e1296424b18"
      },
      "execution_count": 41,
      "outputs": [
        {
          "output_type": "stream",
          "name": "stdout",
          "text": [
            "<class 'pandas.core.series.Series'>\n",
            "RangeIndex: 2740075 entries, 0 to 2740074\n",
            "Series name: direction\n",
            "Non-Null Count    Dtype \n",
            "--------------    ----- \n",
            "2740075 non-null  object\n",
            "dtypes: object(1)\n",
            "memory usage: 20.9+ MB\n"
          ]
        }
      ]
    },
    {
      "cell_type": "code",
      "source": [
        "transactions_df['direction'].unique()"
      ],
      "metadata": {
        "colab": {
          "base_uri": "https://localhost:8080/"
        },
        "id": "zBpbVL7_aeD4",
        "outputId": "95762296-8787-4a25-cc52-37989af283f6"
      },
      "execution_count": 42,
      "outputs": [
        {
          "output_type": "execute_result",
          "data": {
            "text/plain": [
              "array(['INBOUND', 'OUTBOUND'], dtype=object)"
            ]
          },
          "metadata": {},
          "execution_count": 42
        }
      ]
    },
    {
      "cell_type": "code",
      "source": [
        "transactions_df['direction'].nunique()"
      ],
      "metadata": {
        "colab": {
          "base_uri": "https://localhost:8080/"
        },
        "id": "Ae8h18ZzaiXQ",
        "outputId": "bac89422-b0d9-48b0-87f3-100c14845a1f"
      },
      "execution_count": 43,
      "outputs": [
        {
          "output_type": "execute_result",
          "data": {
            "text/plain": [
              "2"
            ]
          },
          "metadata": {},
          "execution_count": 43
        }
      ]
    },
    {
      "cell_type": "code",
      "source": [
        "transactions_df['direction'].describe()"
      ],
      "metadata": {
        "colab": {
          "base_uri": "https://localhost:8080/"
        },
        "id": "qKcBSs9-aoFq",
        "outputId": "c0dcb0af-40ba-4cbf-fc84-2c60fba25415"
      },
      "execution_count": 44,
      "outputs": [
        {
          "output_type": "execute_result",
          "data": {
            "text/plain": [
              "count      2740075\n",
              "unique           2\n",
              "top       OUTBOUND\n",
              "freq       2209795\n",
              "Name: direction, dtype: object"
            ]
          },
          "metadata": {},
          "execution_count": 44
        }
      ]
    },
    {
      "cell_type": "markdown",
      "source": [
        "plus de sortie que d'entrée à relier à type de transcation et montant pour voir flux créditeurs et débiteur des comptes entre le 01/01/2018 et le 16/09/2019. faire une table +1 quand outbound/-1 quand inbound"
      ],
      "metadata": {
        "id": "hBJjgdBbawoY"
      }
    },
    {
      "cell_type": "markdown",
      "source": [
        "# User_id"
      ],
      "metadata": {
        "id": "fpd-Imn36A9j"
      }
    },
    {
      "cell_type": "code",
      "source": [
        "transactions_df['user_id'].info()"
      ],
      "metadata": {
        "colab": {
          "base_uri": "https://localhost:8080/"
        },
        "id": "hP-d88EsZ9b2",
        "outputId": "412729eb-4102-4281-c0dd-cfe19a5bd51c"
      },
      "execution_count": 45,
      "outputs": [
        {
          "output_type": "stream",
          "name": "stdout",
          "text": [
            "<class 'pandas.core.series.Series'>\n",
            "RangeIndex: 2740075 entries, 0 to 2740074\n",
            "Series name: user_id\n",
            "Non-Null Count    Dtype \n",
            "--------------    ----- \n",
            "2740075 non-null  object\n",
            "dtypes: object(1)\n",
            "memory usage: 20.9+ MB\n"
          ]
        }
      ]
    },
    {
      "cell_type": "code",
      "source": [
        "transactions_df['user_id'].unique()"
      ],
      "metadata": {
        "colab": {
          "base_uri": "https://localhost:8080/"
        },
        "id": "3Op2H3ZNbYBp",
        "outputId": "5e98a3fb-51f5-4efc-8139-8e396632b133"
      },
      "execution_count": 46,
      "outputs": [
        {
          "output_type": "execute_result",
          "data": {
            "text/plain": [
              "array(['user_4773', 'user_10943', 'user_1363', ..., 'user_18402',\n",
              "       'user_1099', 'user_9895'], dtype=object)"
            ]
          },
          "metadata": {},
          "execution_count": 46
        }
      ]
    },
    {
      "cell_type": "code",
      "source": [
        "transactions_df['user_id'].nunique()"
      ],
      "metadata": {
        "colab": {
          "base_uri": "https://localhost:8080/"
        },
        "id": "XEpI1OjHbdex",
        "outputId": "737f1752-3500-441b-9916-2e9fcf2e222f"
      },
      "execution_count": 47,
      "outputs": [
        {
          "output_type": "execute_result",
          "data": {
            "text/plain": [
              "18766"
            ]
          },
          "metadata": {},
          "execution_count": 47
        }
      ]
    },
    {
      "cell_type": "code",
      "source": [
        "transactions_df['user_id'].describe()"
      ],
      "metadata": {
        "colab": {
          "base_uri": "https://localhost:8080/"
        },
        "id": "SdFJYJgFbmGo",
        "outputId": "395338ae-9887-4c72-c8be-cb2cc1af8b0d"
      },
      "execution_count": 48,
      "outputs": [
        {
          "output_type": "execute_result",
          "data": {
            "text/plain": [
              "count        2740075\n",
              "unique         18766\n",
              "top       user_12657\n",
              "freq            5285\n",
              "Name: user_id, dtype: object"
            ]
          },
          "metadata": {},
          "execution_count": 48
        }
      ]
    },
    {
      "cell_type": "markdown",
      "source": [
        "il a 2740075 transactions réalisées par 18766 clients\n",
        "\n",
        "table secondaire qui sert à lier les tables\n",
        "\n"
      ],
      "metadata": {
        "id": "A3qV9xELbrIx"
      }
    },
    {
      "cell_type": "markdown",
      "source": [
        "#Date de la transaction"
      ],
      "metadata": {
        "id": "2vxpEKIIfXnS"
      }
    },
    {
      "cell_type": "code",
      "source": [
        "transactions_df['created_date'].info()"
      ],
      "metadata": {
        "colab": {
          "base_uri": "https://localhost:8080/"
        },
        "id": "xJIGoHyofgYe",
        "outputId": "a45c8b73-dbc2-4746-c713-150d41e9c2f0"
      },
      "execution_count": 87,
      "outputs": [
        {
          "output_type": "stream",
          "name": "stdout",
          "text": [
            "<class 'pandas.core.series.Series'>\n",
            "RangeIndex: 2740075 entries, 0 to 2740074\n",
            "Series name: created_date\n",
            "Non-Null Count    Dtype              \n",
            "--------------    -----              \n",
            "2740075 non-null  datetime64[ns, UTC]\n",
            "dtypes: datetime64[ns, UTC](1)\n",
            "memory usage: 20.9 MB\n"
          ]
        }
      ]
    },
    {
      "cell_type": "code",
      "source": [
        "transactions_df['created_date'].describe()"
      ],
      "metadata": {
        "colab": {
          "base_uri": "https://localhost:8080/"
        },
        "id": "WWsc9Tq5fgRB",
        "outputId": "73d5dd92-5726-4306-d044-19acc1dbbac4"
      },
      "execution_count": 88,
      "outputs": [
        {
          "output_type": "stream",
          "name": "stderr",
          "text": [
            "<ipython-input-88-8e398cecf7d3>:1: FutureWarning: Treating datetime data as categorical rather than numeric in `.describe` is deprecated and will be removed in a future version of pandas. Specify `datetime_is_numeric=True` to silence this warning and adopt the future behavior now.\n",
            "  transactions_df['created_date'].describe()\n"
          ]
        },
        {
          "output_type": "execute_result",
          "data": {
            "text/plain": [
              "count                              2740075\n",
              "unique                             2739658\n",
              "top       2018-12-04 12:13:34.572326+00:00\n",
              "freq                                     4\n",
              "first     2018-01-01 08:51:10.248709+00:00\n",
              "last      2019-05-16 18:22:16.959896+00:00\n",
              "Name: created_date, dtype: object"
            ]
          },
          "metadata": {},
          "execution_count": 88
        }
      ]
    },
    {
      "cell_type": "markdown",
      "source": [
        "1 ère transactions le 01/01/2018\n",
        "dernière transaction le 16/05/2016\n",
        "pic de transactions le 04/12/2018 c'était un mardi voir si en angleterre jour particulier"
      ],
      "metadata": {
        "id": "eQVGrnz2f-aL"
      }
    },
    {
      "cell_type": "markdown",
      "source": [
        "#Amount_usd\n",
        "\n",
        "```\n",
        "# Ce texte est au format code\n",
        "```\n",
        "\n"
      ],
      "metadata": {
        "id": "C3ka_DEPb2RR"
      }
    },
    {
      "cell_type": "code",
      "source": [
        "transactions_df['amount_usd'].info()"
      ],
      "metadata": {
        "colab": {
          "base_uri": "https://localhost:8080/"
        },
        "id": "bLcDkmIdcHVh",
        "outputId": "a2e1a1ea-d2a4-48e9-b156-b367736da223"
      },
      "execution_count": 49,
      "outputs": [
        {
          "output_type": "stream",
          "name": "stdout",
          "text": [
            "<class 'pandas.core.series.Series'>\n",
            "RangeIndex: 2740075 entries, 0 to 2740074\n",
            "Series name: amount_usd\n",
            "Non-Null Count    Dtype  \n",
            "--------------    -----  \n",
            "2740075 non-null  float64\n",
            "dtypes: float64(1)\n",
            "memory usage: 20.9 MB\n"
          ]
        }
      ]
    },
    {
      "cell_type": "code",
      "source": [
        "transactions_df['amount_usd'].describe()"
      ],
      "metadata": {
        "colab": {
          "base_uri": "https://localhost:8080/"
        },
        "id": "zFufO77NcHFo",
        "outputId": "4807d4f4-81fe-45db-d611-b2d5aef8cf49"
      },
      "execution_count": 51,
      "outputs": [
        {
          "output_type": "execute_result",
          "data": {
            "text/plain": [
              "count    2.740075e+06\n",
              "mean     1.703225e+05\n",
              "std      9.634014e+07\n",
              "min      0.000000e+00\n",
              "25%      2.030000e+00\n",
              "50%      8.510000e+00\n",
              "75%      2.822000e+01\n",
              "max      8.510645e+10\n",
              "Name: amount_usd, dtype: float64"
            ]
          },
          "metadata": {},
          "execution_count": 51
        }
      ]
    },
    {
      "cell_type": "markdown",
      "source": [
        "seule variable quantitative qui va nous servir dans nos calculs et pour faire des prévisions."
      ],
      "metadata": {
        "id": "DkYn_4wWcw1L"
      }
    },
    {
      "cell_type": "markdown",
      "metadata": {
        "id": "Vpcoti6fSTqv"
      },
      "source": [
        "**`Résumé découverte de la table\"Transactions\"`**"
      ]
    },
    {
      "cell_type": "markdown",
      "metadata": {
        "id": "2RlKC2UALHj9"
      },
      "source": [
        "Données au bon format mais table très lourde. Il faudra faire des échantillonnages. Répartition peut-être à revoir\n",
        "\n",
        "les 4 dernières colonnes sont lièes car il faut avoir une carte pour pouvoir remplir les 3 autres cases. Il faudra crér un filtre sur ea_cardholerpresence = true pour exploiter les 3 autres colonnes\n",
        "\n",
        "**Variables qualitatives:**\n",
        "- 0.transaction_id : numéro de la transaction _ clé primaire\n",
        "- 1.transactions_type: 10 types de transactions(paiement par carte, recharge, transfert, change...)- Mettre en relation avec OuTBOUND/INBOUD\n",
        "- 3.transactions_currency: 35 monnaies des transactions\n",
        "- 5.transactions_state: 6 motifs (complet, refusé...)\n",
        "- 6.ea_cardholderpresence: titulaires d'une carte bancaire, 4 motifs(null, fasle, unknow, true)-filtre à mettre\n",
        "- 7.ea_merchant_mcc:code équivalent au code APE. sert à catoriser les entreprises par secteur d'activité. ne sera rempli que si la transaction est par cb. il faudra lier à table mcc_codes.csv sur gitub\n",
        "- 8.ea_merchant-city: ville de destination de la transaction Ne sera rempli que si la transaction est par cb\n",
        "- 9.ea_merchant_country: pays de destination de la transaction. Ne sera rempli que si la transaction est par cb\n",
        "- 10.direction: OUTBOUND(sortant) INBOUND(entrant)\n",
        "- 11.user_id: clé secondaire qui sert à lier l'ensemble des tables entre elles.\n",
        "\n",
        "**Variables quantitatives:**\n",
        "- 4.amount_usd: montant de la transaction convertie en usd\n",
        "- 12.date de la transaction en datetime64\n"
      ]
    },
    {
      "cell_type": "markdown",
      "metadata": {
        "id": "veiuylfmYjfZ"
      },
      "source": [
        "# 3.2-Analyses des variables"
      ]
    },
    {
      "cell_type": "markdown",
      "metadata": {
        "id": "kJwoSM78Yvnx"
      },
      "source": [
        "#3.2.1.Analyses des variables qualitatives de la table transactions\n",
        "\n",
        "Nous allons les compter et nous sevir de ce nombre pour transformer notre variable qualitative en quantitative.\n",
        "\n",
        "Il nous sera alors possible de déterminer nos valeurs abérantes"
      ]
    },
    {
      "cell_type": "markdown",
      "metadata": {
        "id": "wdpiPYojVZpg"
      },
      "source": [
        "#Transaction_id\n",
        "Nous allons les compter et nous sevir de ce nombre pour transformer notre variable qualitative en quantitative.\n",
        "\n"
      ]
    },
    {
      "cell_type": "code",
      "execution_count": null,
      "metadata": {
        "colab": {
          "base_uri": "https://localhost:8080/"
        },
        "id": "D5MeRw54Rbb-",
        "outputId": "ab12749d-d6c7-4ff7-8850-73f09a9ec007"
      },
      "outputs": [
        {
          "output_type": "execute_result",
          "data": {
            "text/plain": [
              "transaction_505        1\n",
              "transaction_2330592    1\n",
              "transaction_1287248    1\n",
              "transaction_2709992    1\n",
              "transaction_2545158    1\n",
              "                      ..\n",
              "transaction_774758     1\n",
              "transaction_832658     1\n",
              "transaction_975970     1\n",
              "transaction_852525     1\n",
              "transaction_1846516    1\n",
              "Name: transaction_id, Length: 2740075, dtype: int64"
            ]
          },
          "metadata": {},
          "execution_count": 8
        }
      ],
      "source": [
        "## transactions_id = clé primaire\n",
        "nb_t_df = transactions_df['transaction_id'].value_counts()\n",
        "nb_t_df"
      ]
    },
    {
      "cell_type": "markdown",
      "source": [
        "faut-il garder cette colonne?"
      ],
      "metadata": {
        "id": "7Z-mEfAOsZJL"
      }
    },
    {
      "cell_type": "markdown",
      "metadata": {
        "id": "PFumxICci1RB"
      },
      "source": [
        "nous allons compter le nombre de transaction pour chaque variable et voir si il ya corrélation entre elle."
      ]
    },
    {
      "cell_type": "markdown",
      "source": [
        "# Transaction_type"
      ],
      "metadata": {
        "id": "an9-v8S0bXHW"
      }
    },
    {
      "cell_type": "code",
      "execution_count": null,
      "metadata": {
        "colab": {
          "base_uri": "https://localhost:8080/"
        },
        "id": "5QiEiSg7WgOI",
        "outputId": "27cb9993-94ae-458f-f03d-9fbac9e3f6a7"
      },
      "outputs": [
        {
          "output_type": "execute_result",
          "data": {
            "text/plain": [
              "CARD_PAYMENT    1475780\n",
              "TRANSFER         500409\n",
              "TOPUP            388331\n",
              "EXCHANGE         159148\n",
              "ATM               93675\n",
              "CASHBACK          82789\n",
              "FEE               23659\n",
              "CARD_REFUND       11962\n",
              "TAX                2829\n",
              "REFUND             1493\n",
              "Name: transactions_type, dtype: int64"
            ]
          },
          "metadata": {},
          "execution_count": 22
        }
      ],
      "source": [
        "##transaction_type\n",
        "nb_t_type = transactions_df['transactions_type'].value_counts()\n",
        "nb_t_type"
      ]
    },
    {
      "cell_type": "code",
      "source": [
        "transactions_type_counts = transactions_df['transactions_type'].value_counts()"
      ],
      "metadata": {
        "id": "rWkMvKCUvjdj"
      },
      "execution_count": 52,
      "outputs": []
    },
    {
      "cell_type": "code",
      "execution_count": 53,
      "metadata": {
        "colab": {
          "base_uri": "https://localhost:8080/",
          "height": 462
        },
        "id": "ABh9bAJgoPNI",
        "outputId": "98f4d5d1-97e4-48e7-b61a-d9715d38153c"
      },
      "outputs": [
        {
          "output_type": "execute_result",
          "data": {
            "text/plain": [
              "<Axes: >"
            ]
          },
          "metadata": {},
          "execution_count": 53
        },
        {
          "output_type": "display_data",
          "data": {
            "text/plain": [
              "<Figure size 640x480 with 1 Axes>"
            ],
            "image/png": "[encoded data removed]"
          },
          "metadata": {}
        }
      ],
      "source": [
        "transactions_df['transactions_type'].value_counts().plot(kind='box')"
      ]
    },
    {
      "cell_type": "markdown",
      "metadata": {
        "id": "KAgBn_DORcWE"
      },
      "source": [
        "**La majorités des transactions en nombre sont des paiements par carte suivi par les tansferts et les recharges du compte.\n",
        "faire un graph avec pour filtrer l'user, voir ses transactions sur la durée en fonction du type de transaction\n"
      ]
    },
    {
      "cell_type": "markdown",
      "source": [
        "# Transactions_currency"
      ],
      "metadata": {
        "id": "mChEXSQtbono"
      }
    },
    {
      "cell_type": "code",
      "execution_count": 54,
      "metadata": {
        "colab": {
          "base_uri": "https://localhost:8080/"
        },
        "id": "Jy8D4SmvbBb5",
        "outputId": "3baae019-858f-4065-ddcf-02573a457b14"
      },
      "outputs": [
        {
          "output_type": "execute_result",
          "data": {
            "text/plain": [
              "EUR    1160135\n",
              "GBP     887795\n",
              "PLN     231583\n",
              "RON     167806\n",
              "USD      80639\n",
              "CZK      44970\n",
              "CHF      39716\n",
              "SEK      26804\n",
              "AUD      16871\n",
              "NOK      14271\n",
              "DKK      14058\n",
              "CAD       8772\n",
              "HUF       8408\n",
              "TRY       4429\n",
              "AED       3774\n",
              "NZD       3727\n",
              "ILS       3563\n",
              "BTC       3327\n",
              "JPY       3200\n",
              "XRP       2932\n",
              "ZAR       2897\n",
              "SGD       2207\n",
              "THB       2159\n",
              "HKD       1818\n",
              "ETH       1145\n",
              "MAD        925\n",
              "LTC        584\n",
              "BCH        326\n",
              "QAR        314\n",
              "HRK        287\n",
              "BGN        257\n",
              "MXN        159\n",
              "INR        148\n",
              "RUB         58\n",
              "SAR         11\n",
              "Name: transactions_currency, dtype: int64"
            ]
          },
          "metadata": {},
          "execution_count": 54
        }
      ],
      "source": [
        "##transactions_currency\n",
        "nb_t_cur_df = transactions_df['transactions_currency'].value_counts()\n",
        "nb_t_cur_df"
      ]
    },
    {
      "cell_type": "code",
      "execution_count": 55,
      "metadata": {
        "colab": {
          "base_uri": "https://localhost:8080/",
          "height": 462
        },
        "id": "eUsoVRgRb_dg",
        "outputId": "adb796ad-3c28-40e0-86aa-8303496d086b"
      },
      "outputs": [
        {
          "output_type": "execute_result",
          "data": {
            "text/plain": [
              "<Axes: >"
            ]
          },
          "metadata": {},
          "execution_count": 55
        },
        {
          "output_type": "display_data",
          "data": {
            "text/plain": [
              "<Figure size 640x480 with 1 Axes>"
            ],
            "image/png": "[encoded data removed]"
          },
          "metadata": {}
        }
      ],
      "source": [
        "transactions_df['transactions_currency'].value_counts().plot(kind='box')"
      ]
    },
    {
      "cell_type": "markdown",
      "metadata": {
        "id": "Sxj6ZjbojtBb"
      },
      "source": [
        "** Majoritée des transactions en euro ou GBP. A mettre en relation avec la table client **"
      ]
    },
    {
      "cell_type": "markdown",
      "source": [
        "# Transactions_state"
      ],
      "metadata": {
        "id": "RpYrvZpnb6e2"
      }
    },
    {
      "cell_type": "code",
      "execution_count": 56,
      "metadata": {
        "colab": {
          "base_uri": "https://localhost:8080/"
        },
        "id": "1cxCUmpNco3Z",
        "outputId": "c12944c9-1524-4f5d-b6fc-8c4fb7e11ffe"
      },
      "outputs": [
        {
          "output_type": "execute_result",
          "data": {
            "text/plain": [
              "COMPLETED    2407968\n",
              "DECLINED      155286\n",
              "REVERTED      112618\n",
              "FAILED         41053\n",
              "PENDING        21492\n",
              "CANCELLED       1658\n",
              "Name: transactions_state, dtype: int64"
            ]
          },
          "metadata": {},
          "execution_count": 56
        }
      ],
      "source": [
        "##transactions_state\n",
        "nb_t_sate_df = transactions_df['transactions_state'].value_counts()\n",
        "nb_t_sate_df"
      ]
    },
    {
      "cell_type": "code",
      "execution_count": 57,
      "metadata": {
        "colab": {
          "base_uri": "https://localhost:8080/"
        },
        "id": "Ihfc-KXrpfmz",
        "outputId": "1a481634-159e-4baf-db1a-2652c4c45678"
      },
      "outputs": [
        {
          "output_type": "execute_result",
          "data": {
            "text/plain": [
              "count    6.000000e+00\n",
              "mean     4.566792e+05\n",
              "std      9.576974e+05\n",
              "min      1.658000e+03\n",
              "25%      2.638225e+04\n",
              "50%      7.683550e+04\n",
              "75%      1.446190e+05\n",
              "max      2.407968e+06\n",
              "Name: transactions_state, dtype: float64"
            ]
          },
          "metadata": {},
          "execution_count": 57
        }
      ],
      "source": [
        "nb_t_sate_df.describe()"
      ]
    },
    {
      "cell_type": "code",
      "execution_count": 58,
      "metadata": {
        "colab": {
          "base_uri": "https://localhost:8080/",
          "height": 462
        },
        "id": "H95vxeUfeA2_",
        "outputId": "2fc53e34-f0b0-4d42-d59e-2bed11f25033"
      },
      "outputs": [
        {
          "output_type": "execute_result",
          "data": {
            "text/plain": [
              "<Axes: >"
            ]
          },
          "metadata": {},
          "execution_count": 58
        },
        {
          "output_type": "display_data",
          "data": {
            "text/plain": [
              "<Figure size 640x480 with 1 Axes>"
            ],
            "image/png": "[encoded data removed]"
          },
          "metadata": {}
        }
      ],
      "source": [
        "##transactions_state_graph\n",
        "transactions_df['transactions_state'].value_counts().plot(kind='box')"
      ]
    },
    {
      "cell_type": "markdown",
      "metadata": {
        "id": "2q1AYp3hkQRz"
      },
      "source": [
        "** Majotié sont completes. A mettre en relation avec le nbre d'opérations par clients, le device. - faire un graph avec pour filtrer l'user, voir ses transactions sur la durée en fonctions des statuts **"
      ]
    },
    {
      "cell_type": "markdown",
      "source": [
        "# Transactions_state"
      ],
      "metadata": {
        "id": "--y4BTjkcCIX"
      }
    },
    {
      "cell_type": "code",
      "execution_count": 59,
      "metadata": {
        "colab": {
          "base_uri": "https://localhost:8080/"
        },
        "id": "PWqXLnX-enJa",
        "outputId": "eafd4468-10c9-4af8-a777-18ab89566bbb"
      },
      "outputs": [
        {
          "output_type": "execute_result",
          "data": {
            "text/plain": [
              "FALSE      1275460\n",
              "TRUE        288489\n",
              "UNKNOWN       5532\n",
              "Name: ea_cardholderpresence, dtype: int64"
            ]
          },
          "metadata": {},
          "execution_count": 59
        }
      ],
      "source": [
        "##transactions_state\n",
        "nb_t_card = transactions_df['ea_cardholderpresence'].value_counts()\n",
        "nb_t_card\n"
      ]
    },
    {
      "cell_type": "code",
      "execution_count": 60,
      "metadata": {
        "colab": {
          "base_uri": "https://localhost:8080/"
        },
        "id": "rDpKgIV6qNSr",
        "outputId": "b6cbe4f4-3c6d-4237-fe7a-2203d56dab08"
      },
      "outputs": [
        {
          "output_type": "execute_result",
          "data": {
            "text/plain": [
              "count    3.000000e+00\n",
              "mean     5.231603e+05\n",
              "std      6.666950e+05\n",
              "min      5.532000e+03\n",
              "25%      1.470105e+05\n",
              "50%      2.884890e+05\n",
              "75%      7.819745e+05\n",
              "max      1.275460e+06\n",
              "Name: ea_cardholderpresence, dtype: float64"
            ]
          },
          "metadata": {},
          "execution_count": 60
        }
      ],
      "source": [
        "nb_t_card.describe()"
      ]
    },
    {
      "cell_type": "code",
      "execution_count": 61,
      "metadata": {
        "colab": {
          "base_uri": "https://localhost:8080/",
          "height": 462
        },
        "id": "LBPycoKRfmra",
        "outputId": "f02bf107-07e4-4d67-d86b-6ee8a31b615e"
      },
      "outputs": [
        {
          "output_type": "execute_result",
          "data": {
            "text/plain": [
              "<Axes: >"
            ]
          },
          "metadata": {},
          "execution_count": 61
        },
        {
          "output_type": "display_data",
          "data": {
            "text/plain": [
              "<Figure size 640x480 with 1 Axes>"
            ],
            "image/png": "[encoded data removed]"
          },
          "metadata": {}
        }
      ],
      "source": [
        "transactions_df['ea_cardholderpresence'].value_counts().plot(kind=\"box\")"
      ]
    },
    {
      "cell_type": "markdown",
      "metadata": {
        "id": "KPDoj3SYe6kJ"
      },
      "source": [
        "** Peu d'user détienne une carte - relation avec nombre de transaction. Filtre à mettre - voir si relation avec age/pays- table notification - déterminer à partir de quand utilisation de la carte **"
      ]
    },
    {
      "cell_type": "markdown",
      "source": [
        "# ea_merchant_mcc"
      ],
      "metadata": {
        "id": "g9ikUIE7cKge"
      }
    },
    {
      "cell_type": "code",
      "execution_count": 62,
      "metadata": {
        "colab": {
          "base_uri": "https://localhost:8080/"
        },
        "id": "NivoUJv2hRSi",
        "outputId": "c71a807b-5af9-4531-9f93-54daf97bcdb5"
      },
      "outputs": [
        {
          "output_type": "execute_result",
          "data": {
            "text/plain": [
              "5812.0    230209\n",
              "5411.0    225700\n",
              "5814.0     98509\n",
              "6011.0     93783\n",
              "4121.0     66692\n",
              "           ...  \n",
              "3523.0         1\n",
              "3267.0         1\n",
              "3598.0         1\n",
              "4813.0         1\n",
              "3788.0         1\n",
              "Name: ea_merchant_mcc, Length: 664, dtype: int64"
            ]
          },
          "metadata": {},
          "execution_count": 62
        }
      ],
      "source": [
        "##ea_merchant_mcc\n",
        "nb_t_merchant_df = transactions_df['ea_merchant_mcc'].value_counts()\n",
        "nb_t_merchant_df"
      ]
    },
    {
      "cell_type": "code",
      "execution_count": 63,
      "metadata": {
        "colab": {
          "base_uri": "https://localhost:8080/"
        },
        "id": "3Mog6EZhqsbr",
        "outputId": "1120df52-790b-49d5-f598-318d1d923062"
      },
      "outputs": [
        {
          "output_type": "execute_result",
          "data": {
            "text/plain": [
              "count       664.000000\n",
              "mean       2381.652108\n",
              "std       14674.101385\n",
              "min           1.000000\n",
              "25%           4.000000\n",
              "50%          29.000000\n",
              "75%         258.250000\n",
              "max      230209.000000\n",
              "Name: ea_merchant_mcc, dtype: float64"
            ]
          },
          "metadata": {},
          "execution_count": 63
        }
      ],
      "source": [
        "nb_t_merchant_df.describe()"
      ]
    },
    {
      "cell_type": "code",
      "execution_count": 64,
      "metadata": {
        "colab": {
          "base_uri": "https://localhost:8080/",
          "height": 447
        },
        "id": "rm3eBZByp16_",
        "outputId": "61da666d-9b69-4a34-9347-20e9c4f89b7d"
      },
      "outputs": [
        {
          "output_type": "execute_result",
          "data": {
            "text/plain": [
              "<Axes: >"
            ]
          },
          "metadata": {},
          "execution_count": 64
        },
        {
          "output_type": "display_data",
          "data": {
            "text/plain": [
              "<Figure size 640x480 with 1 Axes>"
            ],
            "image/png": "[encoded data removed]"
          },
          "metadata": {}
        }
      ],
      "source": [
        "transactions_df['ea_merchant_mcc'].value_counts().plot(kind='box')"
      ]
    },
    {
      "cell_type": "markdown",
      "metadata": {
        "id": "2wtMqC6YhlQR"
      },
      "source": [
        "Pas de sens si on ne lie pas à une table MCC\n",
        "a voir si on garde ou supprime"
      ]
    },
    {
      "cell_type": "markdown",
      "source": [
        "# Ea_merchant_city"
      ],
      "metadata": {
        "id": "tbwbWVJ1cR6e"
      }
    },
    {
      "cell_type": "code",
      "execution_count": 65,
      "metadata": {
        "colab": {
          "base_uri": "https://localhost:8080/"
        },
        "id": "wpmrhceJmYL7",
        "outputId": "ce0f7020-a356-4472-c9d6-eda72e127c34"
      },
      "outputs": [
        {
          "output_type": "execute_result",
          "data": {
            "text/plain": [
              "London           92745\n",
              "Bucuresti        33227\n",
              "Vilnius          30379\n",
              "Dublin           25246\n",
              "35314369001      23157\n",
              "                 ...  \n",
              "75parisbbb115        1\n",
              "75paris 15 Be        1\n",
              "Triftern             1\n",
              "Belford Roxo         1\n",
              "Overport             1\n",
              "Name: ea_merchant_city, Length: 63253, dtype: int64"
            ]
          },
          "metadata": {},
          "execution_count": 65
        }
      ],
      "source": [
        "##ea_merchant_city\n",
        "nb_t_city_df = transactions_df['ea_merchant_city'].value_counts()\n",
        "nb_t_city_df"
      ]
    },
    {
      "cell_type": "code",
      "execution_count": 66,
      "metadata": {
        "colab": {
          "base_uri": "https://localhost:8080/"
        },
        "id": "Qt3GiS-5rHqD",
        "outputId": "abcf2f14-5039-4c27-faba-8495e33a4054"
      },
      "outputs": [
        {
          "output_type": "execute_result",
          "data": {
            "text/plain": [
              "count    63253.000000\n",
              "mean        24.999304\n",
              "std        510.507568\n",
              "min          1.000000\n",
              "25%          1.000000\n",
              "50%          2.000000\n",
              "75%          6.000000\n",
              "max      92745.000000\n",
              "Name: ea_merchant_city, dtype: float64"
            ]
          },
          "metadata": {},
          "execution_count": 66
        }
      ],
      "source": [
        "nb_t_city_df.describe()"
      ]
    },
    {
      "cell_type": "code",
      "execution_count": 67,
      "metadata": {
        "colab": {
          "base_uri": "https://localhost:8080/",
          "height": 447
        },
        "id": "Pqj-TRG1m6oV",
        "outputId": "2fc7342d-1519-4a5b-d1f0-46b69e711041"
      },
      "outputs": [
        {
          "output_type": "execute_result",
          "data": {
            "text/plain": [
              "<Axes: >"
            ]
          },
          "metadata": {},
          "execution_count": 67
        },
        {
          "output_type": "display_data",
          "data": {
            "text/plain": [
              "<Figure size 640x480 with 1 Axes>"
            ],
            "image/png": "[encoded data removed]"
          },
          "metadata": {}
        }
      ],
      "source": [
        "transactions_df['ea_merchant_city'].value_counts().plot(kind='box')"
      ]
    },
    {
      "cell_type": "markdown",
      "source": [
        "# Ea_merchant_country"
      ],
      "metadata": {
        "id": "MUm-nRJkcZxI"
      }
    },
    {
      "cell_type": "code",
      "execution_count": 68,
      "metadata": {
        "colab": {
          "base_uri": "https://localhost:8080/"
        },
        "id": "jMiISYylo7XM",
        "outputId": "0f9f657f-dbcb-40c8-de30-a4e9f6a98996"
      },
      "outputs": [
        {
          "output_type": "execute_result",
          "data": {
            "text/plain": [
              "GBR    455924\n",
              "IRL    122993\n",
              "USA    100203\n",
              "FRA     99637\n",
              "POL     83431\n",
              "        ...  \n",
              "SCH         1\n",
              "LSO         1\n",
              "PGB         1\n",
              "GNQ         1\n",
              "TGO         1\n",
              "Name: ea_merchant_country, Length: 198, dtype: int64"
            ]
          },
          "metadata": {},
          "execution_count": 68
        }
      ],
      "source": [
        "##ea_merchant_country\n",
        "nb_t_country_df = transactions_df['ea_merchant_country'].value_counts()\n",
        "nb_t_country_df"
      ]
    },
    {
      "cell_type": "code",
      "execution_count": 69,
      "metadata": {
        "colab": {
          "base_uri": "https://localhost:8080/"
        },
        "id": "fAsGWdBBrYv0",
        "outputId": "eb068fa4-5fb5-495a-a2c2-d48d012e7f10"
      },
      "outputs": [
        {
          "output_type": "execute_result",
          "data": {
            "text/plain": [
              "count       198.000000\n",
              "mean       7985.333333\n",
              "std       36059.312486\n",
              "min           1.000000\n",
              "25%          28.500000\n",
              "50%         189.500000\n",
              "75%        3173.750000\n",
              "max      455924.000000\n",
              "Name: ea_merchant_country, dtype: float64"
            ]
          },
          "metadata": {},
          "execution_count": 69
        }
      ],
      "source": [
        "nb_t_country_df.describe()"
      ]
    },
    {
      "cell_type": "markdown",
      "metadata": {
        "id": "H9W8h2IcpguL"
      },
      "source": [
        "** intéressant même si la majorité des transactions se fait en euro, les pays receveurs sont GBR/IRL/USA. a rapporcher avec les clients et leurs nationalités et leur pays\n",
        "\n",
        "ces données pour être raprochée avec pib/pays **"
      ]
    },
    {
      "cell_type": "markdown",
      "source": [
        "# Direction"
      ],
      "metadata": {
        "id": "as9WfTZ1chRm"
      }
    },
    {
      "cell_type": "code",
      "execution_count": 70,
      "metadata": {
        "colab": {
          "base_uri": "https://localhost:8080/"
        },
        "id": "VO6CUbSsqOVL",
        "outputId": "4865691b-2d2f-403e-c7c6-5e4f6d6f5449"
      },
      "outputs": [
        {
          "output_type": "execute_result",
          "data": {
            "text/plain": [
              "OUTBOUND    2209795\n",
              "INBOUND      530280\n",
              "Name: direction, dtype: int64"
            ]
          },
          "metadata": {},
          "execution_count": 70
        }
      ],
      "source": [
        "##direction\n",
        "nb_t_direction_df = transactions_df['direction'].value_counts()\n",
        "nb_t_direction_df"
      ]
    },
    {
      "cell_type": "code",
      "execution_count": 71,
      "metadata": {
        "colab": {
          "base_uri": "https://localhost:8080/"
        },
        "id": "aqyOtt_Crxzs",
        "outputId": "874a90ff-704a-4dd3-c5f1-8970c5cf08d8"
      },
      "outputs": [
        {
          "output_type": "execute_result",
          "data": {
            "text/plain": [
              "count    2.000000e+00\n",
              "mean     1.370038e+06\n",
              "std      1.187596e+06\n",
              "min      5.302800e+05\n",
              "25%      9.501588e+05\n",
              "50%      1.370038e+06\n",
              "75%      1.789916e+06\n",
              "max      2.209795e+06\n",
              "Name: direction, dtype: float64"
            ]
          },
          "metadata": {},
          "execution_count": 71
        }
      ],
      "source": [
        "nb_t_direction_df.describe()"
      ]
    },
    {
      "cell_type": "code",
      "execution_count": 72,
      "metadata": {
        "colab": {
          "base_uri": "https://localhost:8080/",
          "height": 462
        },
        "id": "x5FBk0qkx6m2",
        "outputId": "37c21c57-7e97-4c1a-cb93-ce8cfd0f8ded"
      },
      "outputs": [
        {
          "output_type": "execute_result",
          "data": {
            "text/plain": [
              "<Axes: >"
            ]
          },
          "metadata": {},
          "execution_count": 72
        },
        {
          "output_type": "display_data",
          "data": {
            "text/plain": [
              "<Figure size 640x480 with 1 Axes>"
            ],
            "image/png": "[encoded data removed]"
          },
          "metadata": {}
        }
      ],
      "source": [
        "transactions_df['direction'].value_counts().plot(kind='box')"
      ]
    },
    {
      "cell_type": "markdown",
      "metadata": {
        "id": "f9z8TLMDuyIM"
      },
      "source": [
        "** a voir pour chaque utilisataire pour compter l'activité du compte\n",
        "faire une table utilistaure/nombre de transactions outbound/nombre de transactions inbound **"
      ]
    },
    {
      "cell_type": "markdown",
      "source": [
        "# Users"
      ],
      "metadata": {
        "id": "5NfkPQ-2cmYO"
      }
    },
    {
      "cell_type": "code",
      "execution_count": 73,
      "metadata": {
        "colab": {
          "base_uri": "https://localhost:8080/"
        },
        "id": "pLzzAz95vTct",
        "outputId": "e770c128-5fb3-41ff-922d-80e9d1e186c6"
      },
      "outputs": [
        {
          "output_type": "execute_result",
          "data": {
            "text/plain": [
              "user_12657    5285\n",
              "user_4243     3381\n",
              "user_10794    3223\n",
              "user_1285     3056\n",
              "user_10869    2913\n",
              "              ... \n",
              "user_11996       1\n",
              "user_10546       1\n",
              "user_4398        1\n",
              "user_3244        1\n",
              "user_13835       1\n",
              "Name: user_id, Length: 18766, dtype: int64"
            ]
          },
          "metadata": {},
          "execution_count": 73
        }
      ],
      "source": [
        "##users\n",
        "nb_t_users_df = transactions_df['user_id'].value_counts()\n",
        "nb_t_users_df"
      ]
    },
    {
      "cell_type": "code",
      "execution_count": 74,
      "metadata": {
        "colab": {
          "base_uri": "https://localhost:8080/"
        },
        "id": "qDIcERjRsQE8",
        "outputId": "640ce362-8257-4de3-8355-eafd67d5816e"
      },
      "outputs": [
        {
          "output_type": "execute_result",
          "data": {
            "text/plain": [
              "count    18766.000000\n",
              "mean       146.012736\n",
              "std        245.809785\n",
              "min          1.000000\n",
              "25%         17.000000\n",
              "50%         60.000000\n",
              "75%        166.000000\n",
              "max       5285.000000\n",
              "Name: user_id, dtype: float64"
            ]
          },
          "metadata": {},
          "execution_count": 74
        }
      ],
      "source": [
        "nb_t_users_df.describe()"
      ]
    },
    {
      "cell_type": "code",
      "execution_count": 75,
      "metadata": {
        "colab": {
          "base_uri": "https://localhost:8080/",
          "height": 447
        },
        "id": "XL6JxFfx-m6V",
        "outputId": "f884110d-a341-4886-9bc3-f1f339ace07a"
      },
      "outputs": [
        {
          "output_type": "execute_result",
          "data": {
            "text/plain": [
              "<Axes: >"
            ]
          },
          "metadata": {},
          "execution_count": 75
        },
        {
          "output_type": "display_data",
          "data": {
            "text/plain": [
              "<Figure size 640x480 with 1 Axes>"
            ],
            "image/png": "[encoded data removed]"
          },
          "metadata": {}
        }
      ],
      "source": [
        "transactions_df['user_id'].value_counts().plot(kind ='box')"
      ]
    },
    {
      "cell_type": "markdown",
      "metadata": {
        "id": "RPn4pOCQ_Qh-"
      },
      "source": [
        "** la plupart des utilisateurs font peu de transactions. Notre but augmenter le nombre de transactions par utilisateur pour déplacer notre droite vers la droite\n",
        "\n",
        "a voir la colonne plan dans users si elle est connectee aux nombres de transactions et/ou au montant **"
      ]
    },
    {
      "cell_type": "code",
      "execution_count": 76,
      "metadata": {
        "id": "qbDSXPot-i9u"
      },
      "outputs": [],
      "source": [
        "#on va créer un goup by id, ce sera utile\n",
        "user_grp = transactions_df.groupby(['user_id'])"
      ]
    },
    {
      "cell_type": "code",
      "execution_count": 77,
      "metadata": {
        "colab": {
          "base_uri": "https://localhost:8080/",
          "height": 455
        },
        "id": "9J6DeUfM-B-d",
        "outputId": "a4a17ddf-9e02-44cd-9c9d-d6657fc55477"
      },
      "outputs": [
        {
          "output_type": "execute_result",
          "data": {
            "text/plain": [
              "          count unique                  top freq\n",
              "user_id                                         \n",
              "user_0      389    389  transaction_1063127    1\n",
              "user_1      129    129  transaction_1411884    1\n",
              "user_10    1053   1053  transaction_1190695    1\n",
              "user_100    133    133   transaction_670100    1\n",
              "user_1000    39     39   transaction_545739    1\n",
              "...         ...    ...                  ...  ...\n",
              "user_9995   984    984  transaction_1271723    1\n",
              "user_9996   240    240    transaction_58969    1\n",
              "user_9997    83     83   transaction_688573    1\n",
              "user_9998     8      8   transaction_295911    1\n",
              "user_9999    82     82  transaction_1605728    1\n",
              "\n",
              "[18766 rows x 4 columns]"
            ],
            "text/html": [
              "\n",
              "  <div id=\"df-562dcffa-755a-49dc-a069-4847ac130e9a\" class=\"colab-df-container\">\n",
              "    <div>\n",
              "<style scoped>\n",
              "    .dataframe tbody tr th:only-of-type {\n",
              "        vertical-align: middle;\n",
              "    }\n",
              "\n",
              "    .dataframe tbody tr th {\n",
              "        vertical-align: top;\n",
              "    }\n",
              "\n",
              "    .dataframe thead th {\n",
              "        text-align: right;\n",
              "    }\n",
              "</style>\n",
              "<table border=\"1\" class=\"dataframe\">\n",
              "  <thead>\n",
              "    <tr style=\"text-align: right;\">\n",
              "      <th></th>\n",
              "      <th>count</th>\n",
              "      <th>unique</th>\n",
              "      <th>top</th>\n",
              "      <th>freq</th>\n",
              "    </tr>\n",
              "    <tr>\n",
              "      <th>user_id</th>\n",
              "      <th></th>\n",
              "      <th></th>\n",
              "      <th></th>\n",
              "      <th></th>\n",
              "    </tr>\n",
              "  </thead>\n",
              "  <tbody>\n",
              "    <tr>\n",
              "      <th>user_0</th>\n",
              "      <td>389</td>\n",
              "      <td>389</td>\n",
              "      <td>transaction_1063127</td>\n",
              "      <td>1</td>\n",
              "    </tr>\n",
              "    <tr>\n",
              "      <th>user_1</th>\n",
              "      <td>129</td>\n",
              "      <td>129</td>\n",
              "      <td>transaction_1411884</td>\n",
              "      <td>1</td>\n",
              "    </tr>\n",
              "    <tr>\n",
              "      <th>user_10</th>\n",
              "      <td>1053</td>\n",
              "      <td>1053</td>\n",
              "      <td>transaction_1190695</td>\n",
              "      <td>1</td>\n",
              "    </tr>\n",
              "    <tr>\n",
              "      <th>user_100</th>\n",
              "      <td>133</td>\n",
              "      <td>133</td>\n",
              "      <td>transaction_670100</td>\n",
              "      <td>1</td>\n",
              "    </tr>\n",
              "    <tr>\n",
              "      <th>user_1000</th>\n",
              "      <td>39</td>\n",
              "      <td>39</td>\n",
              "      <td>transaction_545739</td>\n",
              "      <td>1</td>\n",
              "    </tr>\n",
              "    <tr>\n",
              "      <th>...</th>\n",
              "      <td>...</td>\n",
              "      <td>...</td>\n",
              "      <td>...</td>\n",
              "      <td>...</td>\n",
              "    </tr>\n",
              "    <tr>\n",
              "      <th>user_9995</th>\n",
              "      <td>984</td>\n",
              "      <td>984</td>\n",
              "      <td>transaction_1271723</td>\n",
              "      <td>1</td>\n",
              "    </tr>\n",
              "    <tr>\n",
              "      <th>user_9996</th>\n",
              "      <td>240</td>\n",
              "      <td>240</td>\n",
              "      <td>transaction_58969</td>\n",
              "      <td>1</td>\n",
              "    </tr>\n",
              "    <tr>\n",
              "      <th>user_9997</th>\n",
              "      <td>83</td>\n",
              "      <td>83</td>\n",
              "      <td>transaction_688573</td>\n",
              "      <td>1</td>\n",
              "    </tr>\n",
              "    <tr>\n",
              "      <th>user_9998</th>\n",
              "      <td>8</td>\n",
              "      <td>8</td>\n",
              "      <td>transaction_295911</td>\n",
              "      <td>1</td>\n",
              "    </tr>\n",
              "    <tr>\n",
              "      <th>user_9999</th>\n",
              "      <td>82</td>\n",
              "      <td>82</td>\n",
              "      <td>transaction_1605728</td>\n",
              "      <td>1</td>\n",
              "    </tr>\n",
              "  </tbody>\n",
              "</table>\n",
              "<p>18766 rows × 4 columns</p>\n",
              "</div>\n",
              "    <div class=\"colab-df-buttons\">\n",
              "\n",
              "  <div class=\"colab-df-container\">\n",
              "    <button class=\"colab-df-convert\" onclick=\"convertToInteractive('df-562dcffa-755a-49dc-a069-4847ac130e9a')\"\n",
              "            title=\"Convert this dataframe to an interactive table.\"\n",
              "            style=\"display:none;\">\n",
              "\n",
              "  <svg xmlns=\"http://www.w3.org/2000/svg\" height=\"24px\" viewBox=\"0 -960 960 960\">\n",
              "    <path d=\"M120-120v-720h720v720H120Zm60-500h600v-160H180v160Zm220 220h160v-160H400v160Zm0 220h160v-160H400v160ZM180-400h160v-160H180v160Zm440 0h160v-160H620v160ZM180-180h160v-160H180v160Zm440 0h160v-160H620v160Z\"/>\n",
              "  </svg>\n",
              "    </button>\n",
              "\n",
              "  <style>\n",
              "    .colab-df-container {\n",
              "      display:flex;\n",
              "      gap: 12px;\n",
              "    }\n",
              "\n",
              "    .colab-df-convert {\n",
              "      background-color: #E8F0FE;\n",
              "      border: none;\n",
              "      border-radius: 50%;\n",
              "      cursor: pointer;\n",
              "      display: none;\n",
              "      fill: #1967D2;\n",
              "      height: 32px;\n",
              "      padding: 0 0 0 0;\n",
              "      width: 32px;\n",
              "    }\n",
              "\n",
              "    .colab-df-convert:hover {\n",
              "      background-color: #E2EBFA;\n",
              "      box-shadow: 0px 1px 2px rgba(60, 64, 67, 0.3), 0px 1px 3px 1px rgba(60, 64, 67, 0.15);\n",
              "      fill: #174EA6;\n",
              "    }\n",
              "\n",
              "    .colab-df-buttons div {\n",
              "      margin-bottom: 4px;\n",
              "    }\n",
              "\n",
              "    [theme=dark] .colab-df-convert {\n",
              "      background-color: #3B4455;\n",
              "      fill: #D2E3FC;\n",
              "    }\n",
              "\n",
              "    [theme=dark] .colab-df-convert:hover {\n",
              "      background-color: #434B5C;\n",
              "      box-shadow: 0px 1px 3px 1px rgba(0, 0, 0, 0.15);\n",
              "      filter: drop-shadow(0px 1px 2px rgba(0, 0, 0, 0.3));\n",
              "      fill: #FFFFFF;\n",
              "    }\n",
              "  </style>\n",
              "\n",
              "    <script>\n",
              "      const buttonEl =\n",
              "        document.querySelector('#df-562dcffa-755a-49dc-a069-4847ac130e9a button.colab-df-convert');\n",
              "      buttonEl.style.display =\n",
              "        google.colab.kernel.accessAllowed ? 'block' : 'none';\n",
              "\n",
              "      async function convertToInteractive(key) {\n",
              "        const element = document.querySelector('#df-562dcffa-755a-49dc-a069-4847ac130e9a');\n",
              "        const dataTable =\n",
              "          await google.colab.kernel.invokeFunction('convertToInteractive',\n",
              "                                                    [key], {});\n",
              "        if (!dataTable) return;\n",
              "\n",
              "        const docLinkHtml = 'Like what you see? Visit the ' +\n",
              "          '<a target=\"_blank\" href=https://colab.research.google.com/notebooks/data_table.ipynb>data table notebook</a>'\n",
              "          + ' to learn more about interactive tables.';\n",
              "        element.innerHTML = '';\n",
              "        dataTable['output_type'] = 'display_data';\n",
              "        await google.colab.output.renderOutput(dataTable, element);\n",
              "        const docLink = document.createElement('div');\n",
              "        docLink.innerHTML = docLinkHtml;\n",
              "        element.appendChild(docLink);\n",
              "      }\n",
              "    </script>\n",
              "  </div>\n",
              "\n",
              "\n",
              "<div id=\"df-923b1d12-9820-468b-8404-7e3f0352ded5\">\n",
              "  <button class=\"colab-df-quickchart\" onclick=\"quickchart('df-923b1d12-9820-468b-8404-7e3f0352ded5')\"\n",
              "            title=\"Suggest charts\"\n",
              "            style=\"display:none;\">\n",
              "\n",
              "<svg xmlns=\"http://www.w3.org/2000/svg\" height=\"24px\"viewBox=\"0 0 24 24\"\n",
              "     width=\"24px\">\n",
              "    <g>\n",
              "        <path d=\"M19 3H5c-1.1 0-2 .9-2 2v14c0 1.1.9 2 2 2h14c1.1 0 2-.9 2-2V5c0-1.1-.9-2-2-2zM9 17H7v-7h2v7zm4 0h-2V7h2v10zm4 0h-2v-4h2v4z\"/>\n",
              "    </g>\n",
              "</svg>\n",
              "  </button>\n",
              "\n",
              "<style>\n",
              "  .colab-df-quickchart {\n",
              "      --bg-color: #E8F0FE;\n",
              "      --fill-color: #1967D2;\n",
              "      --hover-bg-color: #E2EBFA;\n",
              "      --hover-fill-color: #174EA6;\n",
              "      --disabled-fill-color: #AAA;\n",
              "      --disabled-bg-color: #DDD;\n",
              "  }\n",
              "\n",
              "  [theme=dark] .colab-df-quickchart {\n",
              "      --bg-color: #3B4455;\n",
              "      --fill-color: #D2E3FC;\n",
              "      --hover-bg-color: #434B5C;\n",
              "      --hover-fill-color: #FFFFFF;\n",
              "      --disabled-bg-color: #3B4455;\n",
              "      --disabled-fill-color: #666;\n",
              "  }\n",
              "\n",
              "  .colab-df-quickchart {\n",
              "    background-color: var(--bg-color);\n",
              "    border: none;\n",
              "    border-radius: 50%;\n",
              "    cursor: pointer;\n",
              "    display: none;\n",
              "    fill: var(--fill-color);\n",
              "    height: 32px;\n",
              "    padding: 0;\n",
              "    width: 32px;\n",
              "  }\n",
              "\n",
              "  .colab-df-quickchart:hover {\n",
              "    background-color: var(--hover-bg-color);\n",
              "    box-shadow: 0 1px 2px rgba(60, 64, 67, 0.3), 0 1px 3px 1px rgba(60, 64, 67, 0.15);\n",
              "    fill: var(--button-hover-fill-color);\n",
              "  }\n",
              "\n",
              "  .colab-df-quickchart-complete:disabled,\n",
              "  .colab-df-quickchart-complete:disabled:hover {\n",
              "    background-color: var(--disabled-bg-color);\n",
              "    fill: var(--disabled-fill-color);\n",
              "    box-shadow: none;\n",
              "  }\n",
              "\n",
              "  .colab-df-spinner {\n",
              "    border: 2px solid var(--fill-color);\n",
              "    border-color: transparent;\n",
              "    border-bottom-color: var(--fill-color);\n",
              "    animation:\n",
              "      spin 1s steps(1) infinite;\n",
              "  }\n",
              "\n",
              "  @keyframes spin {\n",
              "    0% {\n",
              "      border-color: transparent;\n",
              "      border-bottom-color: var(--fill-color);\n",
              "      border-left-color: var(--fill-color);\n",
              "    }\n",
              "    20% {\n",
              "      border-color: transparent;\n",
              "      border-left-color: var(--fill-color);\n",
              "      border-top-color: var(--fill-color);\n",
              "    }\n",
              "    30% {\n",
              "      border-color: transparent;\n",
              "      border-left-color: var(--fill-color);\n",
              "      border-top-color: var(--fill-color);\n",
              "      border-right-color: var(--fill-color);\n",
              "    }\n",
              "    40% {\n",
              "      border-color: transparent;\n",
              "      border-right-color: var(--fill-color);\n",
              "      border-top-color: var(--fill-color);\n",
              "    }\n",
              "    60% {\n",
              "      border-color: transparent;\n",
              "      border-right-color: var(--fill-color);\n",
              "    }\n",
              "    80% {\n",
              "      border-color: transparent;\n",
              "      border-right-color: var(--fill-color);\n",
              "      border-bottom-color: var(--fill-color);\n",
              "    }\n",
              "    90% {\n",
              "      border-color: transparent;\n",
              "      border-bottom-color: var(--fill-color);\n",
              "    }\n",
              "  }\n",
              "</style>\n",
              "\n",
              "  <script>\n",
              "    async function quickchart(key) {\n",
              "      const quickchartButtonEl =\n",
              "        document.querySelector('#' + key + ' button');\n",
              "      quickchartButtonEl.disabled = true;  // To prevent multiple clicks.\n",
              "      quickchartButtonEl.classList.add('colab-df-spinner');\n",
              "      try {\n",
              "        const charts = await google.colab.kernel.invokeFunction(\n",
              "            'suggestCharts', [key], {});\n",
              "      } catch (error) {\n",
              "        console.error('Error during call to suggestCharts:', error);\n",
              "      }\n",
              "      quickchartButtonEl.classList.remove('colab-df-spinner');\n",
              "      quickchartButtonEl.classList.add('colab-df-quickchart-complete');\n",
              "    }\n",
              "    (() => {\n",
              "      let quickchartButtonEl =\n",
              "        document.querySelector('#df-923b1d12-9820-468b-8404-7e3f0352ded5 button');\n",
              "      quickchartButtonEl.style.display =\n",
              "        google.colab.kernel.accessAllowed ? 'block' : 'none';\n",
              "    })();\n",
              "  </script>\n",
              "</div>\n",
              "    </div>\n",
              "  </div>\n"
            ]
          },
          "metadata": {},
          "execution_count": 77
        }
      ],
      "source": [
        "#Nombre de transactions par users\n",
        "user_grp['transaction_id'].describe()"
      ]
    },
    {
      "cell_type": "code",
      "execution_count": 78,
      "metadata": {
        "colab": {
          "base_uri": "https://localhost:8080/",
          "height": 455
        },
        "id": "C-8oqGevwI69",
        "outputId": "12e77992-e689-4018-8ae7-bd5bb66c0b06"
      },
      "outputs": [
        {
          "output_type": "execute_result",
          "data": {
            "text/plain": [
              "          count unique           top freq\n",
              "user_id                                  \n",
              "user_0      389      7  CARD_PAYMENT  217\n",
              "user_1      129      5  CARD_PAYMENT   83\n",
              "user_10    1053      7  CARD_PAYMENT  410\n",
              "user_100    133      5  CARD_PAYMENT  100\n",
              "user_1000    39      4         TOPUP   16\n",
              "...         ...    ...           ...  ...\n",
              "user_9995   984      7      TRANSFER  493\n",
              "user_9996   240      6      EXCHANGE  100\n",
              "user_9997    83      6      TRANSFER   43\n",
              "user_9998     8      3  CARD_PAYMENT    5\n",
              "user_9999    82      6      TRANSFER   42\n",
              "\n",
              "[18766 rows x 4 columns]"
            ],
            "text/html": [
              "\n",
              "  <div id=\"df-f14c7765-fada-4255-8029-801f16fbdcc1\" class=\"colab-df-container\">\n",
              "    <div>\n",
              "<style scoped>\n",
              "    .dataframe tbody tr th:only-of-type {\n",
              "        vertical-align: middle;\n",
              "    }\n",
              "\n",
              "    .dataframe tbody tr th {\n",
              "        vertical-align: top;\n",
              "    }\n",
              "\n",
              "    .dataframe thead th {\n",
              "        text-align: right;\n",
              "    }\n",
              "</style>\n",
              "<table border=\"1\" class=\"dataframe\">\n",
              "  <thead>\n",
              "    <tr style=\"text-align: right;\">\n",
              "      <th></th>\n",
              "      <th>count</th>\n",
              "      <th>unique</th>\n",
              "      <th>top</th>\n",
              "      <th>freq</th>\n",
              "    </tr>\n",
              "    <tr>\n",
              "      <th>user_id</th>\n",
              "      <th></th>\n",
              "      <th></th>\n",
              "      <th></th>\n",
              "      <th></th>\n",
              "    </tr>\n",
              "  </thead>\n",
              "  <tbody>\n",
              "    <tr>\n",
              "      <th>user_0</th>\n",
              "      <td>389</td>\n",
              "      <td>7</td>\n",
              "      <td>CARD_PAYMENT</td>\n",
              "      <td>217</td>\n",
              "    </tr>\n",
              "    <tr>\n",
              "      <th>user_1</th>\n",
              "      <td>129</td>\n",
              "      <td>5</td>\n",
              "      <td>CARD_PAYMENT</td>\n",
              "      <td>83</td>\n",
              "    </tr>\n",
              "    <tr>\n",
              "      <th>user_10</th>\n",
              "      <td>1053</td>\n",
              "      <td>7</td>\n",
              "      <td>CARD_PAYMENT</td>\n",
              "      <td>410</td>\n",
              "    </tr>\n",
              "    <tr>\n",
              "      <th>user_100</th>\n",
              "      <td>133</td>\n",
              "      <td>5</td>\n",
              "      <td>CARD_PAYMENT</td>\n",
              "      <td>100</td>\n",
              "    </tr>\n",
              "    <tr>\n",
              "      <th>user_1000</th>\n",
              "      <td>39</td>\n",
              "      <td>4</td>\n",
              "      <td>TOPUP</td>\n",
              "      <td>16</td>\n",
              "    </tr>\n",
              "    <tr>\n",
              "      <th>...</th>\n",
              "      <td>...</td>\n",
              "      <td>...</td>\n",
              "      <td>...</td>\n",
              "      <td>...</td>\n",
              "    </tr>\n",
              "    <tr>\n",
              "      <th>user_9995</th>\n",
              "      <td>984</td>\n",
              "      <td>7</td>\n",
              "      <td>TRANSFER</td>\n",
              "      <td>493</td>\n",
              "    </tr>\n",
              "    <tr>\n",
              "      <th>user_9996</th>\n",
              "      <td>240</td>\n",
              "      <td>6</td>\n",
              "      <td>EXCHANGE</td>\n",
              "      <td>100</td>\n",
              "    </tr>\n",
              "    <tr>\n",
              "      <th>user_9997</th>\n",
              "      <td>83</td>\n",
              "      <td>6</td>\n",
              "      <td>TRANSFER</td>\n",
              "      <td>43</td>\n",
              "    </tr>\n",
              "    <tr>\n",
              "      <th>user_9998</th>\n",
              "      <td>8</td>\n",
              "      <td>3</td>\n",
              "      <td>CARD_PAYMENT</td>\n",
              "      <td>5</td>\n",
              "    </tr>\n",
              "    <tr>\n",
              "      <th>user_9999</th>\n",
              "      <td>82</td>\n",
              "      <td>6</td>\n",
              "      <td>TRANSFER</td>\n",
              "      <td>42</td>\n",
              "    </tr>\n",
              "  </tbody>\n",
              "</table>\n",
              "<p>18766 rows × 4 columns</p>\n",
              "</div>\n",
              "    <div class=\"colab-df-buttons\">\n",
              "\n",
              "  <div class=\"colab-df-container\">\n",
              "    <button class=\"colab-df-convert\" onclick=\"convertToInteractive('df-f14c7765-fada-4255-8029-801f16fbdcc1')\"\n",
              "            title=\"Convert this dataframe to an interactive table.\"\n",
              "            style=\"display:none;\">\n",
              "\n",
              "  <svg xmlns=\"http://www.w3.org/2000/svg\" height=\"24px\" viewBox=\"0 -960 960 960\">\n",
              "    <path d=\"M120-120v-720h720v720H120Zm60-500h600v-160H180v160Zm220 220h160v-160H400v160Zm0 220h160v-160H400v160ZM180-400h160v-160H180v160Zm440 0h160v-160H620v160ZM180-180h160v-160H180v160Zm440 0h160v-160H620v160Z\"/>\n",
              "  </svg>\n",
              "    </button>\n",
              "\n",
              "  <style>\n",
              "    .colab-df-container {\n",
              "      display:flex;\n",
              "      gap: 12px;\n",
              "    }\n",
              "\n",
              "    .colab-df-convert {\n",
              "      background-color: #E8F0FE;\n",
              "      border: none;\n",
              "      border-radius: 50%;\n",
              "      cursor: pointer;\n",
              "      display: none;\n",
              "      fill: #1967D2;\n",
              "      height: 32px;\n",
              "      padding: 0 0 0 0;\n",
              "      width: 32px;\n",
              "    }\n",
              "\n",
              "    .colab-df-convert:hover {\n",
              "      background-color: #E2EBFA;\n",
              "      box-shadow: 0px 1px 2px rgba(60, 64, 67, 0.3), 0px 1px 3px 1px rgba(60, 64, 67, 0.15);\n",
              "      fill: #174EA6;\n",
              "    }\n",
              "\n",
              "    .colab-df-buttons div {\n",
              "      margin-bottom: 4px;\n",
              "    }\n",
              "\n",
              "    [theme=dark] .colab-df-convert {\n",
              "      background-color: #3B4455;\n",
              "      fill: #D2E3FC;\n",
              "    }\n",
              "\n",
              "    [theme=dark] .colab-df-convert:hover {\n",
              "      background-color: #434B5C;\n",
              "      box-shadow: 0px 1px 3px 1px rgba(0, 0, 0, 0.15);\n",
              "      filter: drop-shadow(0px 1px 2px rgba(0, 0, 0, 0.3));\n",
              "      fill: #FFFFFF;\n",
              "    }\n",
              "  </style>\n",
              "\n",
              "    <script>\n",
              "      const buttonEl =\n",
              "        document.querySelector('#df-f14c7765-fada-4255-8029-801f16fbdcc1 button.colab-df-convert');\n",
              "      buttonEl.style.display =\n",
              "        google.colab.kernel.accessAllowed ? 'block' : 'none';\n",
              "\n",
              "      async function convertToInteractive(key) {\n",
              "        const element = document.querySelector('#df-f14c7765-fada-4255-8029-801f16fbdcc1');\n",
              "        const dataTable =\n",
              "          await google.colab.kernel.invokeFunction('convertToInteractive',\n",
              "                                                    [key], {});\n",
              "        if (!dataTable) return;\n",
              "\n",
              "        const docLinkHtml = 'Like what you see? Visit the ' +\n",
              "          '<a target=\"_blank\" href=https://colab.research.google.com/notebooks/data_table.ipynb>data table notebook</a>'\n",
              "          + ' to learn more about interactive tables.';\n",
              "        element.innerHTML = '';\n",
              "        dataTable['output_type'] = 'display_data';\n",
              "        await google.colab.output.renderOutput(dataTable, element);\n",
              "        const docLink = document.createElement('div');\n",
              "        docLink.innerHTML = docLinkHtml;\n",
              "        element.appendChild(docLink);\n",
              "      }\n",
              "    </script>\n",
              "  </div>\n",
              "\n",
              "\n",
              "<div id=\"df-510251c5-a633-4e14-a27a-51eead0b85f3\">\n",
              "  <button class=\"colab-df-quickchart\" onclick=\"quickchart('df-510251c5-a633-4e14-a27a-51eead0b85f3')\"\n",
              "            title=\"Suggest charts\"\n",
              "            style=\"display:none;\">\n",
              "\n",
              "<svg xmlns=\"http://www.w3.org/2000/svg\" height=\"24px\"viewBox=\"0 0 24 24\"\n",
              "     width=\"24px\">\n",
              "    <g>\n",
              "        <path d=\"M19 3H5c-1.1 0-2 .9-2 2v14c0 1.1.9 2 2 2h14c1.1 0 2-.9 2-2V5c0-1.1-.9-2-2-2zM9 17H7v-7h2v7zm4 0h-2V7h2v10zm4 0h-2v-4h2v4z\"/>\n",
              "    </g>\n",
              "</svg>\n",
              "  </button>\n",
              "\n",
              "<style>\n",
              "  .colab-df-quickchart {\n",
              "      --bg-color: #E8F0FE;\n",
              "      --fill-color: #1967D2;\n",
              "      --hover-bg-color: #E2EBFA;\n",
              "      --hover-fill-color: #174EA6;\n",
              "      --disabled-fill-color: #AAA;\n",
              "      --disabled-bg-color: #DDD;\n",
              "  }\n",
              "\n",
              "  [theme=dark] .colab-df-quickchart {\n",
              "      --bg-color: #3B4455;\n",
              "      --fill-color: #D2E3FC;\n",
              "      --hover-bg-color: #434B5C;\n",
              "      --hover-fill-color: #FFFFFF;\n",
              "      --disabled-bg-color: #3B4455;\n",
              "      --disabled-fill-color: #666;\n",
              "  }\n",
              "\n",
              "  .colab-df-quickchart {\n",
              "    background-color: var(--bg-color);\n",
              "    border: none;\n",
              "    border-radius: 50%;\n",
              "    cursor: pointer;\n",
              "    display: none;\n",
              "    fill: var(--fill-color);\n",
              "    height: 32px;\n",
              "    padding: 0;\n",
              "    width: 32px;\n",
              "  }\n",
              "\n",
              "  .colab-df-quickchart:hover {\n",
              "    background-color: var(--hover-bg-color);\n",
              "    box-shadow: 0 1px 2px rgba(60, 64, 67, 0.3), 0 1px 3px 1px rgba(60, 64, 67, 0.15);\n",
              "    fill: var(--button-hover-fill-color);\n",
              "  }\n",
              "\n",
              "  .colab-df-quickchart-complete:disabled,\n",
              "  .colab-df-quickchart-complete:disabled:hover {\n",
              "    background-color: var(--disabled-bg-color);\n",
              "    fill: var(--disabled-fill-color);\n",
              "    box-shadow: none;\n",
              "  }\n",
              "\n",
              "  .colab-df-spinner {\n",
              "    border: 2px solid var(--fill-color);\n",
              "    border-color: transparent;\n",
              "    border-bottom-color: var(--fill-color);\n",
              "    animation:\n",
              "      spin 1s steps(1) infinite;\n",
              "  }\n",
              "\n",
              "  @keyframes spin {\n",
              "    0% {\n",
              "      border-color: transparent;\n",
              "      border-bottom-color: var(--fill-color);\n",
              "      border-left-color: var(--fill-color);\n",
              "    }\n",
              "    20% {\n",
              "      border-color: transparent;\n",
              "      border-left-color: var(--fill-color);\n",
              "      border-top-color: var(--fill-color);\n",
              "    }\n",
              "    30% {\n",
              "      border-color: transparent;\n",
              "      border-left-color: var(--fill-color);\n",
              "      border-top-color: var(--fill-color);\n",
              "      border-right-color: var(--fill-color);\n",
              "    }\n",
              "    40% {\n",
              "      border-color: transparent;\n",
              "      border-right-color: var(--fill-color);\n",
              "      border-top-color: var(--fill-color);\n",
              "    }\n",
              "    60% {\n",
              "      border-color: transparent;\n",
              "      border-right-color: var(--fill-color);\n",
              "    }\n",
              "    80% {\n",
              "      border-color: transparent;\n",
              "      border-right-color: var(--fill-color);\n",
              "      border-bottom-color: var(--fill-color);\n",
              "    }\n",
              "    90% {\n",
              "      border-color: transparent;\n",
              "      border-bottom-color: var(--fill-color);\n",
              "    }\n",
              "  }\n",
              "</style>\n",
              "\n",
              "  <script>\n",
              "    async function quickchart(key) {\n",
              "      const quickchartButtonEl =\n",
              "        document.querySelector('#' + key + ' button');\n",
              "      quickchartButtonEl.disabled = true;  // To prevent multiple clicks.\n",
              "      quickchartButtonEl.classList.add('colab-df-spinner');\n",
              "      try {\n",
              "        const charts = await google.colab.kernel.invokeFunction(\n",
              "            'suggestCharts', [key], {});\n",
              "      } catch (error) {\n",
              "        console.error('Error during call to suggestCharts:', error);\n",
              "      }\n",
              "      quickchartButtonEl.classList.remove('colab-df-spinner');\n",
              "      quickchartButtonEl.classList.add('colab-df-quickchart-complete');\n",
              "    }\n",
              "    (() => {\n",
              "      let quickchartButtonEl =\n",
              "        document.querySelector('#df-510251c5-a633-4e14-a27a-51eead0b85f3 button');\n",
              "      quickchartButtonEl.style.display =\n",
              "        google.colab.kernel.accessAllowed ? 'block' : 'none';\n",
              "    })();\n",
              "  </script>\n",
              "</div>\n",
              "    </div>\n",
              "  </div>\n"
            ]
          },
          "metadata": {},
          "execution_count": 78
        }
      ],
      "source": [
        "#Nombre de transactions par type et par users\n",
        "user_grp['transactions_type'].describe()"
      ]
    },
    {
      "cell_type": "code",
      "execution_count": 79,
      "metadata": {
        "colab": {
          "base_uri": "https://localhost:8080/",
          "height": 455
        },
        "id": "2V-dQ7zpAf8o",
        "outputId": "c1256bd7-8ea1-42c2-a7ce-f9f43ae79cf7"
      },
      "outputs": [
        {
          "output_type": "execute_result",
          "data": {
            "text/plain": [
              "          count unique  top  freq\n",
              "user_id                          \n",
              "user_0      389      5  PLN   207\n",
              "user_1      129      1  GBP   129\n",
              "user_10    1053      1  EUR  1053\n",
              "user_100    133      2  GBP   132\n",
              "user_1000    39      3  GBP    26\n",
              "...         ...    ...  ...   ...\n",
              "user_9995   984      3  EUR   981\n",
              "user_9996   240      5  CHF   153\n",
              "user_9997    83      1  EUR    83\n",
              "user_9998     8      1  PLN     8\n",
              "user_9999    82      1  EUR    82\n",
              "\n",
              "[18766 rows x 4 columns]"
            ],
            "text/html": [
              "\n",
              "  <div id=\"df-04207d54-4364-481f-a3b4-c07938ab3af9\" class=\"colab-df-container\">\n",
              "    <div>\n",
              "<style scoped>\n",
              "    .dataframe tbody tr th:only-of-type {\n",
              "        vertical-align: middle;\n",
              "    }\n",
              "\n",
              "    .dataframe tbody tr th {\n",
              "        vertical-align: top;\n",
              "    }\n",
              "\n",
              "    .dataframe thead th {\n",
              "        text-align: right;\n",
              "    }\n",
              "</style>\n",
              "<table border=\"1\" class=\"dataframe\">\n",
              "  <thead>\n",
              "    <tr style=\"text-align: right;\">\n",
              "      <th></th>\n",
              "      <th>count</th>\n",
              "      <th>unique</th>\n",
              "      <th>top</th>\n",
              "      <th>freq</th>\n",
              "    </tr>\n",
              "    <tr>\n",
              "      <th>user_id</th>\n",
              "      <th></th>\n",
              "      <th></th>\n",
              "      <th></th>\n",
              "      <th></th>\n",
              "    </tr>\n",
              "  </thead>\n",
              "  <tbody>\n",
              "    <tr>\n",
              "      <th>user_0</th>\n",
              "      <td>389</td>\n",
              "      <td>5</td>\n",
              "      <td>PLN</td>\n",
              "      <td>207</td>\n",
              "    </tr>\n",
              "    <tr>\n",
              "      <th>user_1</th>\n",
              "      <td>129</td>\n",
              "      <td>1</td>\n",
              "      <td>GBP</td>\n",
              "      <td>129</td>\n",
              "    </tr>\n",
              "    <tr>\n",
              "      <th>user_10</th>\n",
              "      <td>1053</td>\n",
              "      <td>1</td>\n",
              "      <td>EUR</td>\n",
              "      <td>1053</td>\n",
              "    </tr>\n",
              "    <tr>\n",
              "      <th>user_100</th>\n",
              "      <td>133</td>\n",
              "      <td>2</td>\n",
              "      <td>GBP</td>\n",
              "      <td>132</td>\n",
              "    </tr>\n",
              "    <tr>\n",
              "      <th>user_1000</th>\n",
              "      <td>39</td>\n",
              "      <td>3</td>\n",
              "      <td>GBP</td>\n",
              "      <td>26</td>\n",
              "    </tr>\n",
              "    <tr>\n",
              "      <th>...</th>\n",
              "      <td>...</td>\n",
              "      <td>...</td>\n",
              "      <td>...</td>\n",
              "      <td>...</td>\n",
              "    </tr>\n",
              "    <tr>\n",
              "      <th>user_9995</th>\n",
              "      <td>984</td>\n",
              "      <td>3</td>\n",
              "      <td>EUR</td>\n",
              "      <td>981</td>\n",
              "    </tr>\n",
              "    <tr>\n",
              "      <th>user_9996</th>\n",
              "      <td>240</td>\n",
              "      <td>5</td>\n",
              "      <td>CHF</td>\n",
              "      <td>153</td>\n",
              "    </tr>\n",
              "    <tr>\n",
              "      <th>user_9997</th>\n",
              "      <td>83</td>\n",
              "      <td>1</td>\n",
              "      <td>EUR</td>\n",
              "      <td>83</td>\n",
              "    </tr>\n",
              "    <tr>\n",
              "      <th>user_9998</th>\n",
              "      <td>8</td>\n",
              "      <td>1</td>\n",
              "      <td>PLN</td>\n",
              "      <td>8</td>\n",
              "    </tr>\n",
              "    <tr>\n",
              "      <th>user_9999</th>\n",
              "      <td>82</td>\n",
              "      <td>1</td>\n",
              "      <td>EUR</td>\n",
              "      <td>82</td>\n",
              "    </tr>\n",
              "  </tbody>\n",
              "</table>\n",
              "<p>18766 rows × 4 columns</p>\n",
              "</div>\n",
              "    <div class=\"colab-df-buttons\">\n",
              "\n",
              "  <div class=\"colab-df-container\">\n",
              "    <button class=\"colab-df-convert\" onclick=\"convertToInteractive('df-04207d54-4364-481f-a3b4-c07938ab3af9')\"\n",
              "            title=\"Convert this dataframe to an interactive table.\"\n",
              "            style=\"display:none;\">\n",
              "\n",
              "  <svg xmlns=\"http://www.w3.org/2000/svg\" height=\"24px\" viewBox=\"0 -960 960 960\">\n",
              "    <path d=\"M120-120v-720h720v720H120Zm60-500h600v-160H180v160Zm220 220h160v-160H400v160Zm0 220h160v-160H400v160ZM180-400h160v-160H180v160Zm440 0h160v-160H620v160ZM180-180h160v-160H180v160Zm440 0h160v-160H620v160Z\"/>\n",
              "  </svg>\n",
              "    </button>\n",
              "\n",
              "  <style>\n",
              "    .colab-df-container {\n",
              "      display:flex;\n",
              "      gap: 12px;\n",
              "    }\n",
              "\n",
              "    .colab-df-convert {\n",
              "      background-color: #E8F0FE;\n",
              "      border: none;\n",
              "      border-radius: 50%;\n",
              "      cursor: pointer;\n",
              "      display: none;\n",
              "      fill: #1967D2;\n",
              "      height: 32px;\n",
              "      padding: 0 0 0 0;\n",
              "      width: 32px;\n",
              "    }\n",
              "\n",
              "    .colab-df-convert:hover {\n",
              "      background-color: #E2EBFA;\n",
              "      box-shadow: 0px 1px 2px rgba(60, 64, 67, 0.3), 0px 1px 3px 1px rgba(60, 64, 67, 0.15);\n",
              "      fill: #174EA6;\n",
              "    }\n",
              "\n",
              "    .colab-df-buttons div {\n",
              "      margin-bottom: 4px;\n",
              "    }\n",
              "\n",
              "    [theme=dark] .colab-df-convert {\n",
              "      background-color: #3B4455;\n",
              "      fill: #D2E3FC;\n",
              "    }\n",
              "\n",
              "    [theme=dark] .colab-df-convert:hover {\n",
              "      background-color: #434B5C;\n",
              "      box-shadow: 0px 1px 3px 1px rgba(0, 0, 0, 0.15);\n",
              "      filter: drop-shadow(0px 1px 2px rgba(0, 0, 0, 0.3));\n",
              "      fill: #FFFFFF;\n",
              "    }\n",
              "  </style>\n",
              "\n",
              "    <script>\n",
              "      const buttonEl =\n",
              "        document.querySelector('#df-04207d54-4364-481f-a3b4-c07938ab3af9 button.colab-df-convert');\n",
              "      buttonEl.style.display =\n",
              "        google.colab.kernel.accessAllowed ? 'block' : 'none';\n",
              "\n",
              "      async function convertToInteractive(key) {\n",
              "        const element = document.querySelector('#df-04207d54-4364-481f-a3b4-c07938ab3af9');\n",
              "        const dataTable =\n",
              "          await google.colab.kernel.invokeFunction('convertToInteractive',\n",
              "                                                    [key], {});\n",
              "        if (!dataTable) return;\n",
              "\n",
              "        const docLinkHtml = 'Like what you see? Visit the ' +\n",
              "          '<a target=\"_blank\" href=https://colab.research.google.com/notebooks/data_table.ipynb>data table notebook</a>'\n",
              "          + ' to learn more about interactive tables.';\n",
              "        element.innerHTML = '';\n",
              "        dataTable['output_type'] = 'display_data';\n",
              "        await google.colab.output.renderOutput(dataTable, element);\n",
              "        const docLink = document.createElement('div');\n",
              "        docLink.innerHTML = docLinkHtml;\n",
              "        element.appendChild(docLink);\n",
              "      }\n",
              "    </script>\n",
              "  </div>\n",
              "\n",
              "\n",
              "<div id=\"df-c367f529-0167-48ee-990e-49e0c2f23813\">\n",
              "  <button class=\"colab-df-quickchart\" onclick=\"quickchart('df-c367f529-0167-48ee-990e-49e0c2f23813')\"\n",
              "            title=\"Suggest charts\"\n",
              "            style=\"display:none;\">\n",
              "\n",
              "<svg xmlns=\"http://www.w3.org/2000/svg\" height=\"24px\"viewBox=\"0 0 24 24\"\n",
              "     width=\"24px\">\n",
              "    <g>\n",
              "        <path d=\"M19 3H5c-1.1 0-2 .9-2 2v14c0 1.1.9 2 2 2h14c1.1 0 2-.9 2-2V5c0-1.1-.9-2-2-2zM9 17H7v-7h2v7zm4 0h-2V7h2v10zm4 0h-2v-4h2v4z\"/>\n",
              "    </g>\n",
              "</svg>\n",
              "  </button>\n",
              "\n",
              "<style>\n",
              "  .colab-df-quickchart {\n",
              "      --bg-color: #E8F0FE;\n",
              "      --fill-color: #1967D2;\n",
              "      --hover-bg-color: #E2EBFA;\n",
              "      --hover-fill-color: #174EA6;\n",
              "      --disabled-fill-color: #AAA;\n",
              "      --disabled-bg-color: #DDD;\n",
              "  }\n",
              "\n",
              "  [theme=dark] .colab-df-quickchart {\n",
              "      --bg-color: #3B4455;\n",
              "      --fill-color: #D2E3FC;\n",
              "      --hover-bg-color: #434B5C;\n",
              "      --hover-fill-color: #FFFFFF;\n",
              "      --disabled-bg-color: #3B4455;\n",
              "      --disabled-fill-color: #666;\n",
              "  }\n",
              "\n",
              "  .colab-df-quickchart {\n",
              "    background-color: var(--bg-color);\n",
              "    border: none;\n",
              "    border-radius: 50%;\n",
              "    cursor: pointer;\n",
              "    display: none;\n",
              "    fill: var(--fill-color);\n",
              "    height: 32px;\n",
              "    padding: 0;\n",
              "    width: 32px;\n",
              "  }\n",
              "\n",
              "  .colab-df-quickchart:hover {\n",
              "    background-color: var(--hover-bg-color);\n",
              "    box-shadow: 0 1px 2px rgba(60, 64, 67, 0.3), 0 1px 3px 1px rgba(60, 64, 67, 0.15);\n",
              "    fill: var(--button-hover-fill-color);\n",
              "  }\n",
              "\n",
              "  .colab-df-quickchart-complete:disabled,\n",
              "  .colab-df-quickchart-complete:disabled:hover {\n",
              "    background-color: var(--disabled-bg-color);\n",
              "    fill: var(--disabled-fill-color);\n",
              "    box-shadow: none;\n",
              "  }\n",
              "\n",
              "  .colab-df-spinner {\n",
              "    border: 2px solid var(--fill-color);\n",
              "    border-color: transparent;\n",
              "    border-bottom-color: var(--fill-color);\n",
              "    animation:\n",
              "      spin 1s steps(1) infinite;\n",
              "  }\n",
              "\n",
              "  @keyframes spin {\n",
              "    0% {\n",
              "      border-color: transparent;\n",
              "      border-bottom-color: var(--fill-color);\n",
              "      border-left-color: var(--fill-color);\n",
              "    }\n",
              "    20% {\n",
              "      border-color: transparent;\n",
              "      border-left-color: var(--fill-color);\n",
              "      border-top-color: var(--fill-color);\n",
              "    }\n",
              "    30% {\n",
              "      border-color: transparent;\n",
              "      border-left-color: var(--fill-color);\n",
              "      border-top-color: var(--fill-color);\n",
              "      border-right-color: var(--fill-color);\n",
              "    }\n",
              "    40% {\n",
              "      border-color: transparent;\n",
              "      border-right-color: var(--fill-color);\n",
              "      border-top-color: var(--fill-color);\n",
              "    }\n",
              "    60% {\n",
              "      border-color: transparent;\n",
              "      border-right-color: var(--fill-color);\n",
              "    }\n",
              "    80% {\n",
              "      border-color: transparent;\n",
              "      border-right-color: var(--fill-color);\n",
              "      border-bottom-color: var(--fill-color);\n",
              "    }\n",
              "    90% {\n",
              "      border-color: transparent;\n",
              "      border-bottom-color: var(--fill-color);\n",
              "    }\n",
              "  }\n",
              "</style>\n",
              "\n",
              "  <script>\n",
              "    async function quickchart(key) {\n",
              "      const quickchartButtonEl =\n",
              "        document.querySelector('#' + key + ' button');\n",
              "      quickchartButtonEl.disabled = true;  // To prevent multiple clicks.\n",
              "      quickchartButtonEl.classList.add('colab-df-spinner');\n",
              "      try {\n",
              "        const charts = await google.colab.kernel.invokeFunction(\n",
              "            'suggestCharts', [key], {});\n",
              "      } catch (error) {\n",
              "        console.error('Error during call to suggestCharts:', error);\n",
              "      }\n",
              "      quickchartButtonEl.classList.remove('colab-df-spinner');\n",
              "      quickchartButtonEl.classList.add('colab-df-quickchart-complete');\n",
              "    }\n",
              "    (() => {\n",
              "      let quickchartButtonEl =\n",
              "        document.querySelector('#df-c367f529-0167-48ee-990e-49e0c2f23813 button');\n",
              "      quickchartButtonEl.style.display =\n",
              "        google.colab.kernel.accessAllowed ? 'block' : 'none';\n",
              "    })();\n",
              "  </script>\n",
              "</div>\n",
              "    </div>\n",
              "  </div>\n"
            ]
          },
          "metadata": {},
          "execution_count": 79
        }
      ],
      "source": [
        "#Nombre de tansactions par monnaie et par users\n",
        "user_grp['transactions_currency'].describe()"
      ]
    },
    {
      "cell_type": "code",
      "execution_count": 80,
      "metadata": {
        "colab": {
          "base_uri": "https://localhost:8080/",
          "height": 455
        },
        "id": "_kUz9s6uAzFG",
        "outputId": "b3e460f4-d4c2-48de-e4f6-bd0284ab4efa"
      },
      "outputs": [
        {
          "output_type": "execute_result",
          "data": {
            "text/plain": [
              "          count unique        top freq\n",
              "user_id                               \n",
              "user_0      389      4  COMPLETED  350\n",
              "user_1      129      4  COMPLETED  114\n",
              "user_10    1053      5  COMPLETED  846\n",
              "user_100    133      3  COMPLETED  110\n",
              "user_1000    39      4  COMPLETED   35\n",
              "...         ...    ...        ...  ...\n",
              "user_9995   984      6  COMPLETED  947\n",
              "user_9996   240      3  COMPLETED  237\n",
              "user_9997    83      4  COMPLETED   77\n",
              "user_9998     8      2  COMPLETED    5\n",
              "user_9999    82      3  COMPLETED   78\n",
              "\n",
              "[18766 rows x 4 columns]"
            ],
            "text/html": [
              "\n",
              "  <div id=\"df-1b8f9268-9fb0-4cf6-8f3e-4b942e9625c3\" class=\"colab-df-container\">\n",
              "    <div>\n",
              "<style scoped>\n",
              "    .dataframe tbody tr th:only-of-type {\n",
              "        vertical-align: middle;\n",
              "    }\n",
              "\n",
              "    .dataframe tbody tr th {\n",
              "        vertical-align: top;\n",
              "    }\n",
              "\n",
              "    .dataframe thead th {\n",
              "        text-align: right;\n",
              "    }\n",
              "</style>\n",
              "<table border=\"1\" class=\"dataframe\">\n",
              "  <thead>\n",
              "    <tr style=\"text-align: right;\">\n",
              "      <th></th>\n",
              "      <th>count</th>\n",
              "      <th>unique</th>\n",
              "      <th>top</th>\n",
              "      <th>freq</th>\n",
              "    </tr>\n",
              "    <tr>\n",
              "      <th>user_id</th>\n",
              "      <th></th>\n",
              "      <th></th>\n",
              "      <th></th>\n",
              "      <th></th>\n",
              "    </tr>\n",
              "  </thead>\n",
              "  <tbody>\n",
              "    <tr>\n",
              "      <th>user_0</th>\n",
              "      <td>389</td>\n",
              "      <td>4</td>\n",
              "      <td>COMPLETED</td>\n",
              "      <td>350</td>\n",
              "    </tr>\n",
              "    <tr>\n",
              "      <th>user_1</th>\n",
              "      <td>129</td>\n",
              "      <td>4</td>\n",
              "      <td>COMPLETED</td>\n",
              "      <td>114</td>\n",
              "    </tr>\n",
              "    <tr>\n",
              "      <th>user_10</th>\n",
              "      <td>1053</td>\n",
              "      <td>5</td>\n",
              "      <td>COMPLETED</td>\n",
              "      <td>846</td>\n",
              "    </tr>\n",
              "    <tr>\n",
              "      <th>user_100</th>\n",
              "      <td>133</td>\n",
              "      <td>3</td>\n",
              "      <td>COMPLETED</td>\n",
              "      <td>110</td>\n",
              "    </tr>\n",
              "    <tr>\n",
              "      <th>user_1000</th>\n",
              "      <td>39</td>\n",
              "      <td>4</td>\n",
              "      <td>COMPLETED</td>\n",
              "      <td>35</td>\n",
              "    </tr>\n",
              "    <tr>\n",
              "      <th>...</th>\n",
              "      <td>...</td>\n",
              "      <td>...</td>\n",
              "      <td>...</td>\n",
              "      <td>...</td>\n",
              "    </tr>\n",
              "    <tr>\n",
              "      <th>user_9995</th>\n",
              "      <td>984</td>\n",
              "      <td>6</td>\n",
              "      <td>COMPLETED</td>\n",
              "      <td>947</td>\n",
              "    </tr>\n",
              "    <tr>\n",
              "      <th>user_9996</th>\n",
              "      <td>240</td>\n",
              "      <td>3</td>\n",
              "      <td>COMPLETED</td>\n",
              "      <td>237</td>\n",
              "    </tr>\n",
              "    <tr>\n",
              "      <th>user_9997</th>\n",
              "      <td>83</td>\n",
              "      <td>4</td>\n",
              "      <td>COMPLETED</td>\n",
              "      <td>77</td>\n",
              "    </tr>\n",
              "    <tr>\n",
              "      <th>user_9998</th>\n",
              "      <td>8</td>\n",
              "      <td>2</td>\n",
              "      <td>COMPLETED</td>\n",
              "      <td>5</td>\n",
              "    </tr>\n",
              "    <tr>\n",
              "      <th>user_9999</th>\n",
              "      <td>82</td>\n",
              "      <td>3</td>\n",
              "      <td>COMPLETED</td>\n",
              "      <td>78</td>\n",
              "    </tr>\n",
              "  </tbody>\n",
              "</table>\n",
              "<p>18766 rows × 4 columns</p>\n",
              "</div>\n",
              "    <div class=\"colab-df-buttons\">\n",
              "\n",
              "  <div class=\"colab-df-container\">\n",
              "    <button class=\"colab-df-convert\" onclick=\"convertToInteractive('df-1b8f9268-9fb0-4cf6-8f3e-4b942e9625c3')\"\n",
              "            title=\"Convert this dataframe to an interactive table.\"\n",
              "            style=\"display:none;\">\n",
              "\n",
              "  <svg xmlns=\"http://www.w3.org/2000/svg\" height=\"24px\" viewBox=\"0 -960 960 960\">\n",
              "    <path d=\"M120-120v-720h720v720H120Zm60-500h600v-160H180v160Zm220 220h160v-160H400v160Zm0 220h160v-160H400v160ZM180-400h160v-160H180v160Zm440 0h160v-160H620v160ZM180-180h160v-160H180v160Zm440 0h160v-160H620v160Z\"/>\n",
              "  </svg>\n",
              "    </button>\n",
              "\n",
              "  <style>\n",
              "    .colab-df-container {\n",
              "      display:flex;\n",
              "      gap: 12px;\n",
              "    }\n",
              "\n",
              "    .colab-df-convert {\n",
              "      background-color: #E8F0FE;\n",
              "      border: none;\n",
              "      border-radius: 50%;\n",
              "      cursor: pointer;\n",
              "      display: none;\n",
              "      fill: #1967D2;\n",
              "      height: 32px;\n",
              "      padding: 0 0 0 0;\n",
              "      width: 32px;\n",
              "    }\n",
              "\n",
              "    .colab-df-convert:hover {\n",
              "      background-color: #E2EBFA;\n",
              "      box-shadow: 0px 1px 2px rgba(60, 64, 67, 0.3), 0px 1px 3px 1px rgba(60, 64, 67, 0.15);\n",
              "      fill: #174EA6;\n",
              "    }\n",
              "\n",
              "    .colab-df-buttons div {\n",
              "      margin-bottom: 4px;\n",
              "    }\n",
              "\n",
              "    [theme=dark] .colab-df-convert {\n",
              "      background-color: #3B4455;\n",
              "      fill: #D2E3FC;\n",
              "    }\n",
              "\n",
              "    [theme=dark] .colab-df-convert:hover {\n",
              "      background-color: #434B5C;\n",
              "      box-shadow: 0px 1px 3px 1px rgba(0, 0, 0, 0.15);\n",
              "      filter: drop-shadow(0px 1px 2px rgba(0, 0, 0, 0.3));\n",
              "      fill: #FFFFFF;\n",
              "    }\n",
              "  </style>\n",
              "\n",
              "    <script>\n",
              "      const buttonEl =\n",
              "        document.querySelector('#df-1b8f9268-9fb0-4cf6-8f3e-4b942e9625c3 button.colab-df-convert');\n",
              "      buttonEl.style.display =\n",
              "        google.colab.kernel.accessAllowed ? 'block' : 'none';\n",
              "\n",
              "      async function convertToInteractive(key) {\n",
              "        const element = document.querySelector('#df-1b8f9268-9fb0-4cf6-8f3e-4b942e9625c3');\n",
              "        const dataTable =\n",
              "          await google.colab.kernel.invokeFunction('convertToInteractive',\n",
              "                                                    [key], {});\n",
              "        if (!dataTable) return;\n",
              "\n",
              "        const docLinkHtml = 'Like what you see? Visit the ' +\n",
              "          '<a target=\"_blank\" href=https://colab.research.google.com/notebooks/data_table.ipynb>data table notebook</a>'\n",
              "          + ' to learn more about interactive tables.';\n",
              "        element.innerHTML = '';\n",
              "        dataTable['output_type'] = 'display_data';\n",
              "        await google.colab.output.renderOutput(dataTable, element);\n",
              "        const docLink = document.createElement('div');\n",
              "        docLink.innerHTML = docLinkHtml;\n",
              "        element.appendChild(docLink);\n",
              "      }\n",
              "    </script>\n",
              "  </div>\n",
              "\n",
              "\n",
              "<div id=\"df-c17cd2de-253f-4dcf-9e07-dd33baf324b6\">\n",
              "  <button class=\"colab-df-quickchart\" onclick=\"quickchart('df-c17cd2de-253f-4dcf-9e07-dd33baf324b6')\"\n",
              "            title=\"Suggest charts\"\n",
              "            style=\"display:none;\">\n",
              "\n",
              "<svg xmlns=\"http://www.w3.org/2000/svg\" height=\"24px\"viewBox=\"0 0 24 24\"\n",
              "     width=\"24px\">\n",
              "    <g>\n",
              "        <path d=\"M19 3H5c-1.1 0-2 .9-2 2v14c0 1.1.9 2 2 2h14c1.1 0 2-.9 2-2V5c0-1.1-.9-2-2-2zM9 17H7v-7h2v7zm4 0h-2V7h2v10zm4 0h-2v-4h2v4z\"/>\n",
              "    </g>\n",
              "</svg>\n",
              "  </button>\n",
              "\n",
              "<style>\n",
              "  .colab-df-quickchart {\n",
              "      --bg-color: #E8F0FE;\n",
              "      --fill-color: #1967D2;\n",
              "      --hover-bg-color: #E2EBFA;\n",
              "      --hover-fill-color: #174EA6;\n",
              "      --disabled-fill-color: #AAA;\n",
              "      --disabled-bg-color: #DDD;\n",
              "  }\n",
              "\n",
              "  [theme=dark] .colab-df-quickchart {\n",
              "      --bg-color: #3B4455;\n",
              "      --fill-color: #D2E3FC;\n",
              "      --hover-bg-color: #434B5C;\n",
              "      --hover-fill-color: #FFFFFF;\n",
              "      --disabled-bg-color: #3B4455;\n",
              "      --disabled-fill-color: #666;\n",
              "  }\n",
              "\n",
              "  .colab-df-quickchart {\n",
              "    background-color: var(--bg-color);\n",
              "    border: none;\n",
              "    border-radius: 50%;\n",
              "    cursor: pointer;\n",
              "    display: none;\n",
              "    fill: var(--fill-color);\n",
              "    height: 32px;\n",
              "    padding: 0;\n",
              "    width: 32px;\n",
              "  }\n",
              "\n",
              "  .colab-df-quickchart:hover {\n",
              "    background-color: var(--hover-bg-color);\n",
              "    box-shadow: 0 1px 2px rgba(60, 64, 67, 0.3), 0 1px 3px 1px rgba(60, 64, 67, 0.15);\n",
              "    fill: var(--button-hover-fill-color);\n",
              "  }\n",
              "\n",
              "  .colab-df-quickchart-complete:disabled,\n",
              "  .colab-df-quickchart-complete:disabled:hover {\n",
              "    background-color: var(--disabled-bg-color);\n",
              "    fill: var(--disabled-fill-color);\n",
              "    box-shadow: none;\n",
              "  }\n",
              "\n",
              "  .colab-df-spinner {\n",
              "    border: 2px solid var(--fill-color);\n",
              "    border-color: transparent;\n",
              "    border-bottom-color: var(--fill-color);\n",
              "    animation:\n",
              "      spin 1s steps(1) infinite;\n",
              "  }\n",
              "\n",
              "  @keyframes spin {\n",
              "    0% {\n",
              "      border-color: transparent;\n",
              "      border-bottom-color: var(--fill-color);\n",
              "      border-left-color: var(--fill-color);\n",
              "    }\n",
              "    20% {\n",
              "      border-color: transparent;\n",
              "      border-left-color: var(--fill-color);\n",
              "      border-top-color: var(--fill-color);\n",
              "    }\n",
              "    30% {\n",
              "      border-color: transparent;\n",
              "      border-left-color: var(--fill-color);\n",
              "      border-top-color: var(--fill-color);\n",
              "      border-right-color: var(--fill-color);\n",
              "    }\n",
              "    40% {\n",
              "      border-color: transparent;\n",
              "      border-right-color: var(--fill-color);\n",
              "      border-top-color: var(--fill-color);\n",
              "    }\n",
              "    60% {\n",
              "      border-color: transparent;\n",
              "      border-right-color: var(--fill-color);\n",
              "    }\n",
              "    80% {\n",
              "      border-color: transparent;\n",
              "      border-right-color: var(--fill-color);\n",
              "      border-bottom-color: var(--fill-color);\n",
              "    }\n",
              "    90% {\n",
              "      border-color: transparent;\n",
              "      border-bottom-color: var(--fill-color);\n",
              "    }\n",
              "  }\n",
              "</style>\n",
              "\n",
              "  <script>\n",
              "    async function quickchart(key) {\n",
              "      const quickchartButtonEl =\n",
              "        document.querySelector('#' + key + ' button');\n",
              "      quickchartButtonEl.disabled = true;  // To prevent multiple clicks.\n",
              "      quickchartButtonEl.classList.add('colab-df-spinner');\n",
              "      try {\n",
              "        const charts = await google.colab.kernel.invokeFunction(\n",
              "            'suggestCharts', [key], {});\n",
              "      } catch (error) {\n",
              "        console.error('Error during call to suggestCharts:', error);\n",
              "      }\n",
              "      quickchartButtonEl.classList.remove('colab-df-spinner');\n",
              "      quickchartButtonEl.classList.add('colab-df-quickchart-complete');\n",
              "    }\n",
              "    (() => {\n",
              "      let quickchartButtonEl =\n",
              "        document.querySelector('#df-c17cd2de-253f-4dcf-9e07-dd33baf324b6 button');\n",
              "      quickchartButtonEl.style.display =\n",
              "        google.colab.kernel.accessAllowed ? 'block' : 'none';\n",
              "    })();\n",
              "  </script>\n",
              "</div>\n",
              "    </div>\n",
              "  </div>\n"
            ]
          },
          "metadata": {},
          "execution_count": 80
        }
      ],
      "source": [
        "#Nombre de transactions par statut et par users\n",
        "user_grp['transactions_state'].describe()"
      ]
    },
    {
      "cell_type": "code",
      "execution_count": 81,
      "metadata": {
        "colab": {
          "base_uri": "https://localhost:8080/",
          "height": 455
        },
        "id": "Nq8cvERtBmTP",
        "outputId": "80c50293-aaef-4df0-ae5c-6a7761f8b1f9"
      },
      "outputs": [
        {
          "output_type": "execute_result",
          "data": {
            "text/plain": [
              "          count unique    top freq\n",
              "user_id                           \n",
              "user_0      224      2  FALSE  182\n",
              "user_1       83      2  FALSE   79\n",
              "user_10     448      3  FALSE  382\n",
              "user_100    104      2  FALSE  100\n",
              "user_1000     1      1  FALSE    1\n",
              "...         ...    ...    ...  ...\n",
              "user_9995   442      3  FALSE  399\n",
              "user_9996   103      3  FALSE   84\n",
              "user_9997    29      2  FALSE   21\n",
              "user_9998     5      2   TRUE    4\n",
              "user_9999    27      2  FALSE   26\n",
              "\n",
              "[18766 rows x 4 columns]"
            ],
            "text/html": [
              "\n",
              "  <div id=\"df-2e541c87-1c9f-449b-bd7b-3f299ab5669c\" class=\"colab-df-container\">\n",
              "    <div>\n",
              "<style scoped>\n",
              "    .dataframe tbody tr th:only-of-type {\n",
              "        vertical-align: middle;\n",
              "    }\n",
              "\n",
              "    .dataframe tbody tr th {\n",
              "        vertical-align: top;\n",
              "    }\n",
              "\n",
              "    .dataframe thead th {\n",
              "        text-align: right;\n",
              "    }\n",
              "</style>\n",
              "<table border=\"1\" class=\"dataframe\">\n",
              "  <thead>\n",
              "    <tr style=\"text-align: right;\">\n",
              "      <th></th>\n",
              "      <th>count</th>\n",
              "      <th>unique</th>\n",
              "      <th>top</th>\n",
              "      <th>freq</th>\n",
              "    </tr>\n",
              "    <tr>\n",
              "      <th>user_id</th>\n",
              "      <th></th>\n",
              "      <th></th>\n",
              "      <th></th>\n",
              "      <th></th>\n",
              "    </tr>\n",
              "  </thead>\n",
              "  <tbody>\n",
              "    <tr>\n",
              "      <th>user_0</th>\n",
              "      <td>224</td>\n",
              "      <td>2</td>\n",
              "      <td>FALSE</td>\n",
              "      <td>182</td>\n",
              "    </tr>\n",
              "    <tr>\n",
              "      <th>user_1</th>\n",
              "      <td>83</td>\n",
              "      <td>2</td>\n",
              "      <td>FALSE</td>\n",
              "      <td>79</td>\n",
              "    </tr>\n",
              "    <tr>\n",
              "      <th>user_10</th>\n",
              "      <td>448</td>\n",
              "      <td>3</td>\n",
              "      <td>FALSE</td>\n",
              "      <td>382</td>\n",
              "    </tr>\n",
              "    <tr>\n",
              "      <th>user_100</th>\n",
              "      <td>104</td>\n",
              "      <td>2</td>\n",
              "      <td>FALSE</td>\n",
              "      <td>100</td>\n",
              "    </tr>\n",
              "    <tr>\n",
              "      <th>user_1000</th>\n",
              "      <td>1</td>\n",
              "      <td>1</td>\n",
              "      <td>FALSE</td>\n",
              "      <td>1</td>\n",
              "    </tr>\n",
              "    <tr>\n",
              "      <th>...</th>\n",
              "      <td>...</td>\n",
              "      <td>...</td>\n",
              "      <td>...</td>\n",
              "      <td>...</td>\n",
              "    </tr>\n",
              "    <tr>\n",
              "      <th>user_9995</th>\n",
              "      <td>442</td>\n",
              "      <td>3</td>\n",
              "      <td>FALSE</td>\n",
              "      <td>399</td>\n",
              "    </tr>\n",
              "    <tr>\n",
              "      <th>user_9996</th>\n",
              "      <td>103</td>\n",
              "      <td>3</td>\n",
              "      <td>FALSE</td>\n",
              "      <td>84</td>\n",
              "    </tr>\n",
              "    <tr>\n",
              "      <th>user_9997</th>\n",
              "      <td>29</td>\n",
              "      <td>2</td>\n",
              "      <td>FALSE</td>\n",
              "      <td>21</td>\n",
              "    </tr>\n",
              "    <tr>\n",
              "      <th>user_9998</th>\n",
              "      <td>5</td>\n",
              "      <td>2</td>\n",
              "      <td>TRUE</td>\n",
              "      <td>4</td>\n",
              "    </tr>\n",
              "    <tr>\n",
              "      <th>user_9999</th>\n",
              "      <td>27</td>\n",
              "      <td>2</td>\n",
              "      <td>FALSE</td>\n",
              "      <td>26</td>\n",
              "    </tr>\n",
              "  </tbody>\n",
              "</table>\n",
              "<p>18766 rows × 4 columns</p>\n",
              "</div>\n",
              "    <div class=\"colab-df-buttons\">\n",
              "\n",
              "  <div class=\"colab-df-container\">\n",
              "    <button class=\"colab-df-convert\" onclick=\"convertToInteractive('df-2e541c87-1c9f-449b-bd7b-3f299ab5669c')\"\n",
              "            title=\"Convert this dataframe to an interactive table.\"\n",
              "            style=\"display:none;\">\n",
              "\n",
              "  <svg xmlns=\"http://www.w3.org/2000/svg\" height=\"24px\" viewBox=\"0 -960 960 960\">\n",
              "    <path d=\"M120-120v-720h720v720H120Zm60-500h600v-160H180v160Zm220 220h160v-160H400v160Zm0 220h160v-160H400v160ZM180-400h160v-160H180v160Zm440 0h160v-160H620v160ZM180-180h160v-160H180v160Zm440 0h160v-160H620v160Z\"/>\n",
              "  </svg>\n",
              "    </button>\n",
              "\n",
              "  <style>\n",
              "    .colab-df-container {\n",
              "      display:flex;\n",
              "      gap: 12px;\n",
              "    }\n",
              "\n",
              "    .colab-df-convert {\n",
              "      background-color: #E8F0FE;\n",
              "      border: none;\n",
              "      border-radius: 50%;\n",
              "      cursor: pointer;\n",
              "      display: none;\n",
              "      fill: #1967D2;\n",
              "      height: 32px;\n",
              "      padding: 0 0 0 0;\n",
              "      width: 32px;\n",
              "    }\n",
              "\n",
              "    .colab-df-convert:hover {\n",
              "      background-color: #E2EBFA;\n",
              "      box-shadow: 0px 1px 2px rgba(60, 64, 67, 0.3), 0px 1px 3px 1px rgba(60, 64, 67, 0.15);\n",
              "      fill: #174EA6;\n",
              "    }\n",
              "\n",
              "    .colab-df-buttons div {\n",
              "      margin-bottom: 4px;\n",
              "    }\n",
              "\n",
              "    [theme=dark] .colab-df-convert {\n",
              "      background-color: #3B4455;\n",
              "      fill: #D2E3FC;\n",
              "    }\n",
              "\n",
              "    [theme=dark] .colab-df-convert:hover {\n",
              "      background-color: #434B5C;\n",
              "      box-shadow: 0px 1px 3px 1px rgba(0, 0, 0, 0.15);\n",
              "      filter: drop-shadow(0px 1px 2px rgba(0, 0, 0, 0.3));\n",
              "      fill: #FFFFFF;\n",
              "    }\n",
              "  </style>\n",
              "\n",
              "    <script>\n",
              "      const buttonEl =\n",
              "        document.querySelector('#df-2e541c87-1c9f-449b-bd7b-3f299ab5669c button.colab-df-convert');\n",
              "      buttonEl.style.display =\n",
              "        google.colab.kernel.accessAllowed ? 'block' : 'none';\n",
              "\n",
              "      async function convertToInteractive(key) {\n",
              "        const element = document.querySelector('#df-2e541c87-1c9f-449b-bd7b-3f299ab5669c');\n",
              "        const dataTable =\n",
              "          await google.colab.kernel.invokeFunction('convertToInteractive',\n",
              "                                                    [key], {});\n",
              "        if (!dataTable) return;\n",
              "\n",
              "        const docLinkHtml = 'Like what you see? Visit the ' +\n",
              "          '<a target=\"_blank\" href=https://colab.research.google.com/notebooks/data_table.ipynb>data table notebook</a>'\n",
              "          + ' to learn more about interactive tables.';\n",
              "        element.innerHTML = '';\n",
              "        dataTable['output_type'] = 'display_data';\n",
              "        await google.colab.output.renderOutput(dataTable, element);\n",
              "        const docLink = document.createElement('div');\n",
              "        docLink.innerHTML = docLinkHtml;\n",
              "        element.appendChild(docLink);\n",
              "      }\n",
              "    </script>\n",
              "  </div>\n",
              "\n",
              "\n",
              "<div id=\"df-d34a4d27-b857-4a64-a7a2-33461779df5a\">\n",
              "  <button class=\"colab-df-quickchart\" onclick=\"quickchart('df-d34a4d27-b857-4a64-a7a2-33461779df5a')\"\n",
              "            title=\"Suggest charts\"\n",
              "            style=\"display:none;\">\n",
              "\n",
              "<svg xmlns=\"http://www.w3.org/2000/svg\" height=\"24px\"viewBox=\"0 0 24 24\"\n",
              "     width=\"24px\">\n",
              "    <g>\n",
              "        <path d=\"M19 3H5c-1.1 0-2 .9-2 2v14c0 1.1.9 2 2 2h14c1.1 0 2-.9 2-2V5c0-1.1-.9-2-2-2zM9 17H7v-7h2v7zm4 0h-2V7h2v10zm4 0h-2v-4h2v4z\"/>\n",
              "    </g>\n",
              "</svg>\n",
              "  </button>\n",
              "\n",
              "<style>\n",
              "  .colab-df-quickchart {\n",
              "      --bg-color: #E8F0FE;\n",
              "      --fill-color: #1967D2;\n",
              "      --hover-bg-color: #E2EBFA;\n",
              "      --hover-fill-color: #174EA6;\n",
              "      --disabled-fill-color: #AAA;\n",
              "      --disabled-bg-color: #DDD;\n",
              "  }\n",
              "\n",
              "  [theme=dark] .colab-df-quickchart {\n",
              "      --bg-color: #3B4455;\n",
              "      --fill-color: #D2E3FC;\n",
              "      --hover-bg-color: #434B5C;\n",
              "      --hover-fill-color: #FFFFFF;\n",
              "      --disabled-bg-color: #3B4455;\n",
              "      --disabled-fill-color: #666;\n",
              "  }\n",
              "\n",
              "  .colab-df-quickchart {\n",
              "    background-color: var(--bg-color);\n",
              "    border: none;\n",
              "    border-radius: 50%;\n",
              "    cursor: pointer;\n",
              "    display: none;\n",
              "    fill: var(--fill-color);\n",
              "    height: 32px;\n",
              "    padding: 0;\n",
              "    width: 32px;\n",
              "  }\n",
              "\n",
              "  .colab-df-quickchart:hover {\n",
              "    background-color: var(--hover-bg-color);\n",
              "    box-shadow: 0 1px 2px rgba(60, 64, 67, 0.3), 0 1px 3px 1px rgba(60, 64, 67, 0.15);\n",
              "    fill: var(--button-hover-fill-color);\n",
              "  }\n",
              "\n",
              "  .colab-df-quickchart-complete:disabled,\n",
              "  .colab-df-quickchart-complete:disabled:hover {\n",
              "    background-color: var(--disabled-bg-color);\n",
              "    fill: var(--disabled-fill-color);\n",
              "    box-shadow: none;\n",
              "  }\n",
              "\n",
              "  .colab-df-spinner {\n",
              "    border: 2px solid var(--fill-color);\n",
              "    border-color: transparent;\n",
              "    border-bottom-color: var(--fill-color);\n",
              "    animation:\n",
              "      spin 1s steps(1) infinite;\n",
              "  }\n",
              "\n",
              "  @keyframes spin {\n",
              "    0% {\n",
              "      border-color: transparent;\n",
              "      border-bottom-color: var(--fill-color);\n",
              "      border-left-color: var(--fill-color);\n",
              "    }\n",
              "    20% {\n",
              "      border-color: transparent;\n",
              "      border-left-color: var(--fill-color);\n",
              "      border-top-color: var(--fill-color);\n",
              "    }\n",
              "    30% {\n",
              "      border-color: transparent;\n",
              "      border-left-color: var(--fill-color);\n",
              "      border-top-color: var(--fill-color);\n",
              "      border-right-color: var(--fill-color);\n",
              "    }\n",
              "    40% {\n",
              "      border-color: transparent;\n",
              "      border-right-color: var(--fill-color);\n",
              "      border-top-color: var(--fill-color);\n",
              "    }\n",
              "    60% {\n",
              "      border-color: transparent;\n",
              "      border-right-color: var(--fill-color);\n",
              "    }\n",
              "    80% {\n",
              "      border-color: transparent;\n",
              "      border-right-color: var(--fill-color);\n",
              "      border-bottom-color: var(--fill-color);\n",
              "    }\n",
              "    90% {\n",
              "      border-color: transparent;\n",
              "      border-bottom-color: var(--fill-color);\n",
              "    }\n",
              "  }\n",
              "</style>\n",
              "\n",
              "  <script>\n",
              "    async function quickchart(key) {\n",
              "      const quickchartButtonEl =\n",
              "        document.querySelector('#' + key + ' button');\n",
              "      quickchartButtonEl.disabled = true;  // To prevent multiple clicks.\n",
              "      quickchartButtonEl.classList.add('colab-df-spinner');\n",
              "      try {\n",
              "        const charts = await google.colab.kernel.invokeFunction(\n",
              "            'suggestCharts', [key], {});\n",
              "      } catch (error) {\n",
              "        console.error('Error during call to suggestCharts:', error);\n",
              "      }\n",
              "      quickchartButtonEl.classList.remove('colab-df-spinner');\n",
              "      quickchartButtonEl.classList.add('colab-df-quickchart-complete');\n",
              "    }\n",
              "    (() => {\n",
              "      let quickchartButtonEl =\n",
              "        document.querySelector('#df-d34a4d27-b857-4a64-a7a2-33461779df5a button');\n",
              "      quickchartButtonEl.style.display =\n",
              "        google.colab.kernel.accessAllowed ? 'block' : 'none';\n",
              "    })();\n",
              "  </script>\n",
              "</div>\n",
              "    </div>\n",
              "  </div>\n"
            ]
          },
          "metadata": {},
          "execution_count": 81
        }
      ],
      "source": [
        "#Nombre de transactions par detenteurs de cartes et par users\n",
        "user_grp['ea_cardholderpresence'].describe()"
      ]
    },
    {
      "cell_type": "code",
      "execution_count": 82,
      "metadata": {
        "colab": {
          "base_uri": "https://localhost:8080/",
          "height": 455
        },
        "id": "GhtiizhpCaxg",
        "outputId": "388f853e-6a3b-4f9f-ffaf-797013d4d122"
      },
      "outputs": [
        {
          "output_type": "execute_result",
          "data": {
            "text/plain": [
              "           count         mean          std     min      25%     50%      75%  \\\n",
              "user_id                                                                        \n",
              "user_0     226.0  5872.884956   957.037310  1731.0  5499.00  5812.0  5947.00   \n",
              "user_1      84.0  5948.833333  1108.852037  4111.0  5449.25  5813.5  5977.00   \n",
              "user_10    451.0  5547.629712  1470.996319   763.0  5331.00  5541.0  5988.00   \n",
              "user_100   104.0  5987.057692  1007.449137  4111.0  5542.00  5812.0  5958.75   \n",
              "user_1000    1.0  6211.000000          NaN  6211.0  6211.00  6211.0  6211.00   \n",
              "...          ...          ...          ...     ...      ...     ...      ...   \n",
              "user_9995  448.0  6027.598214   964.773460   742.0  5411.00  5999.0  6011.00   \n",
              "user_9996  103.0  5736.737864  1014.362863  3245.0  5520.00  5812.0  5947.00   \n",
              "user_9997   30.0  6103.100000   805.454909  5499.0  5541.00  5814.0  5933.00   \n",
              "user_9998    6.0  7633.166667  1411.563448  5816.0  6497.50  7993.0  8747.50   \n",
              "user_9999   27.0  5777.222222   586.245901  4789.0  5480.50  5812.0  5947.00   \n",
              "\n",
              "              max  \n",
              "user_id            \n",
              "user_0     8699.0  \n",
              "user_1     9402.0  \n",
              "user_10    9405.0  \n",
              "user_100   9405.0  \n",
              "user_1000  6211.0  \n",
              "...           ...  \n",
              "user_9995  8062.0  \n",
              "user_9996  8099.0  \n",
              "user_9997  7995.0  \n",
              "user_9998  8999.0  \n",
              "user_9999  7641.0  \n",
              "\n",
              "[18766 rows x 8 columns]"
            ],
            "text/html": [
              "\n",
              "  <div id=\"df-b4264d6a-e82f-4c57-a181-951b78e90c3e\" class=\"colab-df-container\">\n",
              "    <div>\n",
              "<style scoped>\n",
              "    .dataframe tbody tr th:only-of-type {\n",
              "        vertical-align: middle;\n",
              "    }\n",
              "\n",
              "    .dataframe tbody tr th {\n",
              "        vertical-align: top;\n",
              "    }\n",
              "\n",
              "    .dataframe thead th {\n",
              "        text-align: right;\n",
              "    }\n",
              "</style>\n",
              "<table border=\"1\" class=\"dataframe\">\n",
              "  <thead>\n",
              "    <tr style=\"text-align: right;\">\n",
              "      <th></th>\n",
              "      <th>count</th>\n",
              "      <th>mean</th>\n",
              "      <th>std</th>\n",
              "      <th>min</th>\n",
              "      <th>25%</th>\n",
              "      <th>50%</th>\n",
              "      <th>75%</th>\n",
              "      <th>max</th>\n",
              "    </tr>\n",
              "    <tr>\n",
              "      <th>user_id</th>\n",
              "      <th></th>\n",
              "      <th></th>\n",
              "      <th></th>\n",
              "      <th></th>\n",
              "      <th></th>\n",
              "      <th></th>\n",
              "      <th></th>\n",
              "      <th></th>\n",
              "    </tr>\n",
              "  </thead>\n",
              "  <tbody>\n",
              "    <tr>\n",
              "      <th>user_0</th>\n",
              "      <td>226.0</td>\n",
              "      <td>5872.884956</td>\n",
              "      <td>957.037310</td>\n",
              "      <td>1731.0</td>\n",
              "      <td>5499.00</td>\n",
              "      <td>5812.0</td>\n",
              "      <td>5947.00</td>\n",
              "      <td>8699.0</td>\n",
              "    </tr>\n",
              "    <tr>\n",
              "      <th>user_1</th>\n",
              "      <td>84.0</td>\n",
              "      <td>5948.833333</td>\n",
              "      <td>1108.852037</td>\n",
              "      <td>4111.0</td>\n",
              "      <td>5449.25</td>\n",
              "      <td>5813.5</td>\n",
              "      <td>5977.00</td>\n",
              "      <td>9402.0</td>\n",
              "    </tr>\n",
              "    <tr>\n",
              "      <th>user_10</th>\n",
              "      <td>451.0</td>\n",
              "      <td>5547.629712</td>\n",
              "      <td>1470.996319</td>\n",
              "      <td>763.0</td>\n",
              "      <td>5331.00</td>\n",
              "      <td>5541.0</td>\n",
              "      <td>5988.00</td>\n",
              "      <td>9405.0</td>\n",
              "    </tr>\n",
              "    <tr>\n",
              "      <th>user_100</th>\n",
              "      <td>104.0</td>\n",
              "      <td>5987.057692</td>\n",
              "      <td>1007.449137</td>\n",
              "      <td>4111.0</td>\n",
              "      <td>5542.00</td>\n",
              "      <td>5812.0</td>\n",
              "      <td>5958.75</td>\n",
              "      <td>9405.0</td>\n",
              "    </tr>\n",
              "    <tr>\n",
              "      <th>user_1000</th>\n",
              "      <td>1.0</td>\n",
              "      <td>6211.000000</td>\n",
              "      <td>NaN</td>\n",
              "      <td>6211.0</td>\n",
              "      <td>6211.00</td>\n",
              "      <td>6211.0</td>\n",
              "      <td>6211.00</td>\n",
              "      <td>6211.0</td>\n",
              "    </tr>\n",
              "    <tr>\n",
              "      <th>...</th>\n",
              "      <td>...</td>\n",
              "      <td>...</td>\n",
              "      <td>...</td>\n",
              "      <td>...</td>\n",
              "      <td>...</td>\n",
              "      <td>...</td>\n",
              "      <td>...</td>\n",
              "      <td>...</td>\n",
              "    </tr>\n",
              "    <tr>\n",
              "      <th>user_9995</th>\n",
              "      <td>448.0</td>\n",
              "      <td>6027.598214</td>\n",
              "      <td>964.773460</td>\n",
              "      <td>742.0</td>\n",
              "      <td>5411.00</td>\n",
              "      <td>5999.0</td>\n",
              "      <td>6011.00</td>\n",
              "      <td>8062.0</td>\n",
              "    </tr>\n",
              "    <tr>\n",
              "      <th>user_9996</th>\n",
              "      <td>103.0</td>\n",
              "      <td>5736.737864</td>\n",
              "      <td>1014.362863</td>\n",
              "      <td>3245.0</td>\n",
              "      <td>5520.00</td>\n",
              "      <td>5812.0</td>\n",
              "      <td>5947.00</td>\n",
              "      <td>8099.0</td>\n",
              "    </tr>\n",
              "    <tr>\n",
              "      <th>user_9997</th>\n",
              "      <td>30.0</td>\n",
              "      <td>6103.100000</td>\n",
              "      <td>805.454909</td>\n",
              "      <td>5499.0</td>\n",
              "      <td>5541.00</td>\n",
              "      <td>5814.0</td>\n",
              "      <td>5933.00</td>\n",
              "      <td>7995.0</td>\n",
              "    </tr>\n",
              "    <tr>\n",
              "      <th>user_9998</th>\n",
              "      <td>6.0</td>\n",
              "      <td>7633.166667</td>\n",
              "      <td>1411.563448</td>\n",
              "      <td>5816.0</td>\n",
              "      <td>6497.50</td>\n",
              "      <td>7993.0</td>\n",
              "      <td>8747.50</td>\n",
              "      <td>8999.0</td>\n",
              "    </tr>\n",
              "    <tr>\n",
              "      <th>user_9999</th>\n",
              "      <td>27.0</td>\n",
              "      <td>5777.222222</td>\n",
              "      <td>586.245901</td>\n",
              "      <td>4789.0</td>\n",
              "      <td>5480.50</td>\n",
              "      <td>5812.0</td>\n",
              "      <td>5947.00</td>\n",
              "      <td>7641.0</td>\n",
              "    </tr>\n",
              "  </tbody>\n",
              "</table>\n",
              "<p>18766 rows × 8 columns</p>\n",
              "</div>\n",
              "    <div class=\"colab-df-buttons\">\n",
              "\n",
              "  <div class=\"colab-df-container\">\n",
              "    <button class=\"colab-df-convert\" onclick=\"convertToInteractive('df-b4264d6a-e82f-4c57-a181-951b78e90c3e')\"\n",
              "            title=\"Convert this dataframe to an interactive table.\"\n",
              "            style=\"display:none;\">\n",
              "\n",
              "  <svg xmlns=\"http://www.w3.org/2000/svg\" height=\"24px\" viewBox=\"0 -960 960 960\">\n",
              "    <path d=\"M120-120v-720h720v720H120Zm60-500h600v-160H180v160Zm220 220h160v-160H400v160Zm0 220h160v-160H400v160ZM180-400h160v-160H180v160Zm440 0h160v-160H620v160ZM180-180h160v-160H180v160Zm440 0h160v-160H620v160Z\"/>\n",
              "  </svg>\n",
              "    </button>\n",
              "\n",
              "  <style>\n",
              "    .colab-df-container {\n",
              "      display:flex;\n",
              "      gap: 12px;\n",
              "    }\n",
              "\n",
              "    .colab-df-convert {\n",
              "      background-color: #E8F0FE;\n",
              "      border: none;\n",
              "      border-radius: 50%;\n",
              "      cursor: pointer;\n",
              "      display: none;\n",
              "      fill: #1967D2;\n",
              "      height: 32px;\n",
              "      padding: 0 0 0 0;\n",
              "      width: 32px;\n",
              "    }\n",
              "\n",
              "    .colab-df-convert:hover {\n",
              "      background-color: #E2EBFA;\n",
              "      box-shadow: 0px 1px 2px rgba(60, 64, 67, 0.3), 0px 1px 3px 1px rgba(60, 64, 67, 0.15);\n",
              "      fill: #174EA6;\n",
              "    }\n",
              "\n",
              "    .colab-df-buttons div {\n",
              "      margin-bottom: 4px;\n",
              "    }\n",
              "\n",
              "    [theme=dark] .colab-df-convert {\n",
              "      background-color: #3B4455;\n",
              "      fill: #D2E3FC;\n",
              "    }\n",
              "\n",
              "    [theme=dark] .colab-df-convert:hover {\n",
              "      background-color: #434B5C;\n",
              "      box-shadow: 0px 1px 3px 1px rgba(0, 0, 0, 0.15);\n",
              "      filter: drop-shadow(0px 1px 2px rgba(0, 0, 0, 0.3));\n",
              "      fill: #FFFFFF;\n",
              "    }\n",
              "  </style>\n",
              "\n",
              "    <script>\n",
              "      const buttonEl =\n",
              "        document.querySelector('#df-b4264d6a-e82f-4c57-a181-951b78e90c3e button.colab-df-convert');\n",
              "      buttonEl.style.display =\n",
              "        google.colab.kernel.accessAllowed ? 'block' : 'none';\n",
              "\n",
              "      async function convertToInteractive(key) {\n",
              "        const element = document.querySelector('#df-b4264d6a-e82f-4c57-a181-951b78e90c3e');\n",
              "        const dataTable =\n",
              "          await google.colab.kernel.invokeFunction('convertToInteractive',\n",
              "                                                    [key], {});\n",
              "        if (!dataTable) return;\n",
              "\n",
              "        const docLinkHtml = 'Like what you see? Visit the ' +\n",
              "          '<a target=\"_blank\" href=https://colab.research.google.com/notebooks/data_table.ipynb>data table notebook</a>'\n",
              "          + ' to learn more about interactive tables.';\n",
              "        element.innerHTML = '';\n",
              "        dataTable['output_type'] = 'display_data';\n",
              "        await google.colab.output.renderOutput(dataTable, element);\n",
              "        const docLink = document.createElement('div');\n",
              "        docLink.innerHTML = docLinkHtml;\n",
              "        element.appendChild(docLink);\n",
              "      }\n",
              "    </script>\n",
              "  </div>\n",
              "\n",
              "\n",
              "<div id=\"df-2e9389ac-8239-48d2-8db1-1a08c38497ec\">\n",
              "  <button class=\"colab-df-quickchart\" onclick=\"quickchart('df-2e9389ac-8239-48d2-8db1-1a08c38497ec')\"\n",
              "            title=\"Suggest charts\"\n",
              "            style=\"display:none;\">\n",
              "\n",
              "<svg xmlns=\"http://www.w3.org/2000/svg\" height=\"24px\"viewBox=\"0 0 24 24\"\n",
              "     width=\"24px\">\n",
              "    <g>\n",
              "        <path d=\"M19 3H5c-1.1 0-2 .9-2 2v14c0 1.1.9 2 2 2h14c1.1 0 2-.9 2-2V5c0-1.1-.9-2-2-2zM9 17H7v-7h2v7zm4 0h-2V7h2v10zm4 0h-2v-4h2v4z\"/>\n",
              "    </g>\n",
              "</svg>\n",
              "  </button>\n",
              "\n",
              "<style>\n",
              "  .colab-df-quickchart {\n",
              "      --bg-color: #E8F0FE;\n",
              "      --fill-color: #1967D2;\n",
              "      --hover-bg-color: #E2EBFA;\n",
              "      --hover-fill-color: #174EA6;\n",
              "      --disabled-fill-color: #AAA;\n",
              "      --disabled-bg-color: #DDD;\n",
              "  }\n",
              "\n",
              "  [theme=dark] .colab-df-quickchart {\n",
              "      --bg-color: #3B4455;\n",
              "      --fill-color: #D2E3FC;\n",
              "      --hover-bg-color: #434B5C;\n",
              "      --hover-fill-color: #FFFFFF;\n",
              "      --disabled-bg-color: #3B4455;\n",
              "      --disabled-fill-color: #666;\n",
              "  }\n",
              "\n",
              "  .colab-df-quickchart {\n",
              "    background-color: var(--bg-color);\n",
              "    border: none;\n",
              "    border-radius: 50%;\n",
              "    cursor: pointer;\n",
              "    display: none;\n",
              "    fill: var(--fill-color);\n",
              "    height: 32px;\n",
              "    padding: 0;\n",
              "    width: 32px;\n",
              "  }\n",
              "\n",
              "  .colab-df-quickchart:hover {\n",
              "    background-color: var(--hover-bg-color);\n",
              "    box-shadow: 0 1px 2px rgba(60, 64, 67, 0.3), 0 1px 3px 1px rgba(60, 64, 67, 0.15);\n",
              "    fill: var(--button-hover-fill-color);\n",
              "  }\n",
              "\n",
              "  .colab-df-quickchart-complete:disabled,\n",
              "  .colab-df-quickchart-complete:disabled:hover {\n",
              "    background-color: var(--disabled-bg-color);\n",
              "    fill: var(--disabled-fill-color);\n",
              "    box-shadow: none;\n",
              "  }\n",
              "\n",
              "  .colab-df-spinner {\n",
              "    border: 2px solid var(--fill-color);\n",
              "    border-color: transparent;\n",
              "    border-bottom-color: var(--fill-color);\n",
              "    animation:\n",
              "      spin 1s steps(1) infinite;\n",
              "  }\n",
              "\n",
              "  @keyframes spin {\n",
              "    0% {\n",
              "      border-color: transparent;\n",
              "      border-bottom-color: var(--fill-color);\n",
              "      border-left-color: var(--fill-color);\n",
              "    }\n",
              "    20% {\n",
              "      border-color: transparent;\n",
              "      border-left-color: var(--fill-color);\n",
              "      border-top-color: var(--fill-color);\n",
              "    }\n",
              "    30% {\n",
              "      border-color: transparent;\n",
              "      border-left-color: var(--fill-color);\n",
              "      border-top-color: var(--fill-color);\n",
              "      border-right-color: var(--fill-color);\n",
              "    }\n",
              "    40% {\n",
              "      border-color: transparent;\n",
              "      border-right-color: var(--fill-color);\n",
              "      border-top-color: var(--fill-color);\n",
              "    }\n",
              "    60% {\n",
              "      border-color: transparent;\n",
              "      border-right-color: var(--fill-color);\n",
              "    }\n",
              "    80% {\n",
              "      border-color: transparent;\n",
              "      border-right-color: var(--fill-color);\n",
              "      border-bottom-color: var(--fill-color);\n",
              "    }\n",
              "    90% {\n",
              "      border-color: transparent;\n",
              "      border-bottom-color: var(--fill-color);\n",
              "    }\n",
              "  }\n",
              "</style>\n",
              "\n",
              "  <script>\n",
              "    async function quickchart(key) {\n",
              "      const quickchartButtonEl =\n",
              "        document.querySelector('#' + key + ' button');\n",
              "      quickchartButtonEl.disabled = true;  // To prevent multiple clicks.\n",
              "      quickchartButtonEl.classList.add('colab-df-spinner');\n",
              "      try {\n",
              "        const charts = await google.colab.kernel.invokeFunction(\n",
              "            'suggestCharts', [key], {});\n",
              "      } catch (error) {\n",
              "        console.error('Error during call to suggestCharts:', error);\n",
              "      }\n",
              "      quickchartButtonEl.classList.remove('colab-df-spinner');\n",
              "      quickchartButtonEl.classList.add('colab-df-quickchart-complete');\n",
              "    }\n",
              "    (() => {\n",
              "      let quickchartButtonEl =\n",
              "        document.querySelector('#df-2e9389ac-8239-48d2-8db1-1a08c38497ec button');\n",
              "      quickchartButtonEl.style.display =\n",
              "        google.colab.kernel.accessAllowed ? 'block' : 'none';\n",
              "    })();\n",
              "  </script>\n",
              "</div>\n",
              "    </div>\n",
              "  </div>\n"
            ]
          },
          "metadata": {},
          "execution_count": 82
        }
      ],
      "source": [
        "#Nombre de transactions par mcc (achat) et par users\n",
        "user_grp['ea_merchant_mcc'].describe()"
      ]
    },
    {
      "cell_type": "code",
      "execution_count": 83,
      "metadata": {
        "colab": {
          "base_uri": "https://localhost:8080/",
          "height": 455
        },
        "id": "sJ5WW7v6HIPA",
        "outputId": "bc8036e2-d235-4929-c421-3f5a8b8758c5"
      },
      "outputs": [
        {
          "output_type": "execute_result",
          "data": {
            "text/plain": [
              "          count unique          top freq\n",
              "user_id                                 \n",
              "user_0      226     57       Gdansk   29\n",
              "user_1       84     30     New York   24\n",
              "user_10     451     93        Paris  173\n",
              "user_100    104     51     Fornells    9\n",
              "user_1000     1      1     Internet    1\n",
              "...         ...    ...          ...  ...\n",
              "user_9995   448     62  +3562226800   82\n",
              "user_9996   103     42       Poznan    9\n",
              "user_9997    30     14     Drogheda   10\n",
              "user_9998     6      2   Versailles    3\n",
              "user_9999    27     14      Toronto    7\n",
              "\n",
              "[18766 rows x 4 columns]"
            ],
            "text/html": [
              "\n",
              "  <div id=\"df-e9fb5ef8-93f5-4e01-9f6e-85f08eafa0da\" class=\"colab-df-container\">\n",
              "    <div>\n",
              "<style scoped>\n",
              "    .dataframe tbody tr th:only-of-type {\n",
              "        vertical-align: middle;\n",
              "    }\n",
              "\n",
              "    .dataframe tbody tr th {\n",
              "        vertical-align: top;\n",
              "    }\n",
              "\n",
              "    .dataframe thead th {\n",
              "        text-align: right;\n",
              "    }\n",
              "</style>\n",
              "<table border=\"1\" class=\"dataframe\">\n",
              "  <thead>\n",
              "    <tr style=\"text-align: right;\">\n",
              "      <th></th>\n",
              "      <th>count</th>\n",
              "      <th>unique</th>\n",
              "      <th>top</th>\n",
              "      <th>freq</th>\n",
              "    </tr>\n",
              "    <tr>\n",
              "      <th>user_id</th>\n",
              "      <th></th>\n",
              "      <th></th>\n",
              "      <th></th>\n",
              "      <th></th>\n",
              "    </tr>\n",
              "  </thead>\n",
              "  <tbody>\n",
              "    <tr>\n",
              "      <th>user_0</th>\n",
              "      <td>226</td>\n",
              "      <td>57</td>\n",
              "      <td>Gdansk</td>\n",
              "      <td>29</td>\n",
              "    </tr>\n",
              "    <tr>\n",
              "      <th>user_1</th>\n",
              "      <td>84</td>\n",
              "      <td>30</td>\n",
              "      <td>New York</td>\n",
              "      <td>24</td>\n",
              "    </tr>\n",
              "    <tr>\n",
              "      <th>user_10</th>\n",
              "      <td>451</td>\n",
              "      <td>93</td>\n",
              "      <td>Paris</td>\n",
              "      <td>173</td>\n",
              "    </tr>\n",
              "    <tr>\n",
              "      <th>user_100</th>\n",
              "      <td>104</td>\n",
              "      <td>51</td>\n",
              "      <td>Fornells</td>\n",
              "      <td>9</td>\n",
              "    </tr>\n",
              "    <tr>\n",
              "      <th>user_1000</th>\n",
              "      <td>1</td>\n",
              "      <td>1</td>\n",
              "      <td>Internet</td>\n",
              "      <td>1</td>\n",
              "    </tr>\n",
              "    <tr>\n",
              "      <th>...</th>\n",
              "      <td>...</td>\n",
              "      <td>...</td>\n",
              "      <td>...</td>\n",
              "      <td>...</td>\n",
              "    </tr>\n",
              "    <tr>\n",
              "      <th>user_9995</th>\n",
              "      <td>448</td>\n",
              "      <td>62</td>\n",
              "      <td>+3562226800</td>\n",
              "      <td>82</td>\n",
              "    </tr>\n",
              "    <tr>\n",
              "      <th>user_9996</th>\n",
              "      <td>103</td>\n",
              "      <td>42</td>\n",
              "      <td>Poznan</td>\n",
              "      <td>9</td>\n",
              "    </tr>\n",
              "    <tr>\n",
              "      <th>user_9997</th>\n",
              "      <td>30</td>\n",
              "      <td>14</td>\n",
              "      <td>Drogheda</td>\n",
              "      <td>10</td>\n",
              "    </tr>\n",
              "    <tr>\n",
              "      <th>user_9998</th>\n",
              "      <td>6</td>\n",
              "      <td>2</td>\n",
              "      <td>Versailles</td>\n",
              "      <td>3</td>\n",
              "    </tr>\n",
              "    <tr>\n",
              "      <th>user_9999</th>\n",
              "      <td>27</td>\n",
              "      <td>14</td>\n",
              "      <td>Toronto</td>\n",
              "      <td>7</td>\n",
              "    </tr>\n",
              "  </tbody>\n",
              "</table>\n",
              "<p>18766 rows × 4 columns</p>\n",
              "</div>\n",
              "    <div class=\"colab-df-buttons\">\n",
              "\n",
              "  <div class=\"colab-df-container\">\n",
              "    <button class=\"colab-df-convert\" onclick=\"convertToInteractive('df-e9fb5ef8-93f5-4e01-9f6e-85f08eafa0da')\"\n",
              "            title=\"Convert this dataframe to an interactive table.\"\n",
              "            style=\"display:none;\">\n",
              "\n",
              "  <svg xmlns=\"http://www.w3.org/2000/svg\" height=\"24px\" viewBox=\"0 -960 960 960\">\n",
              "    <path d=\"M120-120v-720h720v720H120Zm60-500h600v-160H180v160Zm220 220h160v-160H400v160Zm0 220h160v-160H400v160ZM180-400h160v-160H180v160Zm440 0h160v-160H620v160ZM180-180h160v-160H180v160Zm440 0h160v-160H620v160Z\"/>\n",
              "  </svg>\n",
              "    </button>\n",
              "\n",
              "  <style>\n",
              "    .colab-df-container {\n",
              "      display:flex;\n",
              "      gap: 12px;\n",
              "    }\n",
              "\n",
              "    .colab-df-convert {\n",
              "      background-color: #E8F0FE;\n",
              "      border: none;\n",
              "      border-radius: 50%;\n",
              "      cursor: pointer;\n",
              "      display: none;\n",
              "      fill: #1967D2;\n",
              "      height: 32px;\n",
              "      padding: 0 0 0 0;\n",
              "      width: 32px;\n",
              "    }\n",
              "\n",
              "    .colab-df-convert:hover {\n",
              "      background-color: #E2EBFA;\n",
              "      box-shadow: 0px 1px 2px rgba(60, 64, 67, 0.3), 0px 1px 3px 1px rgba(60, 64, 67, 0.15);\n",
              "      fill: #174EA6;\n",
              "    }\n",
              "\n",
              "    .colab-df-buttons div {\n",
              "      margin-bottom: 4px;\n",
              "    }\n",
              "\n",
              "    [theme=dark] .colab-df-convert {\n",
              "      background-color: #3B4455;\n",
              "      fill: #D2E3FC;\n",
              "    }\n",
              "\n",
              "    [theme=dark] .colab-df-convert:hover {\n",
              "      background-color: #434B5C;\n",
              "      box-shadow: 0px 1px 3px 1px rgba(0, 0, 0, 0.15);\n",
              "      filter: drop-shadow(0px 1px 2px rgba(0, 0, 0, 0.3));\n",
              "      fill: #FFFFFF;\n",
              "    }\n",
              "  </style>\n",
              "\n",
              "    <script>\n",
              "      const buttonEl =\n",
              "        document.querySelector('#df-e9fb5ef8-93f5-4e01-9f6e-85f08eafa0da button.colab-df-convert');\n",
              "      buttonEl.style.display =\n",
              "        google.colab.kernel.accessAllowed ? 'block' : 'none';\n",
              "\n",
              "      async function convertToInteractive(key) {\n",
              "        const element = document.querySelector('#df-e9fb5ef8-93f5-4e01-9f6e-85f08eafa0da');\n",
              "        const dataTable =\n",
              "          await google.colab.kernel.invokeFunction('convertToInteractive',\n",
              "                                                    [key], {});\n",
              "        if (!dataTable) return;\n",
              "\n",
              "        const docLinkHtml = 'Like what you see? Visit the ' +\n",
              "          '<a target=\"_blank\" href=https://colab.research.google.com/notebooks/data_table.ipynb>data table notebook</a>'\n",
              "          + ' to learn more about interactive tables.';\n",
              "        element.innerHTML = '';\n",
              "        dataTable['output_type'] = 'display_data';\n",
              "        await google.colab.output.renderOutput(dataTable, element);\n",
              "        const docLink = document.createElement('div');\n",
              "        docLink.innerHTML = docLinkHtml;\n",
              "        element.appendChild(docLink);\n",
              "      }\n",
              "    </script>\n",
              "  </div>\n",
              "\n",
              "\n",
              "<div id=\"df-352aec1b-e9bd-4a43-a670-b058b0f6faa3\">\n",
              "  <button class=\"colab-df-quickchart\" onclick=\"quickchart('df-352aec1b-e9bd-4a43-a670-b058b0f6faa3')\"\n",
              "            title=\"Suggest charts\"\n",
              "            style=\"display:none;\">\n",
              "\n",
              "<svg xmlns=\"http://www.w3.org/2000/svg\" height=\"24px\"viewBox=\"0 0 24 24\"\n",
              "     width=\"24px\">\n",
              "    <g>\n",
              "        <path d=\"M19 3H5c-1.1 0-2 .9-2 2v14c0 1.1.9 2 2 2h14c1.1 0 2-.9 2-2V5c0-1.1-.9-2-2-2zM9 17H7v-7h2v7zm4 0h-2V7h2v10zm4 0h-2v-4h2v4z\"/>\n",
              "    </g>\n",
              "</svg>\n",
              "  </button>\n",
              "\n",
              "<style>\n",
              "  .colab-df-quickchart {\n",
              "      --bg-color: #E8F0FE;\n",
              "      --fill-color: #1967D2;\n",
              "      --hover-bg-color: #E2EBFA;\n",
              "      --hover-fill-color: #174EA6;\n",
              "      --disabled-fill-color: #AAA;\n",
              "      --disabled-bg-color: #DDD;\n",
              "  }\n",
              "\n",
              "  [theme=dark] .colab-df-quickchart {\n",
              "      --bg-color: #3B4455;\n",
              "      --fill-color: #D2E3FC;\n",
              "      --hover-bg-color: #434B5C;\n",
              "      --hover-fill-color: #FFFFFF;\n",
              "      --disabled-bg-color: #3B4455;\n",
              "      --disabled-fill-color: #666;\n",
              "  }\n",
              "\n",
              "  .colab-df-quickchart {\n",
              "    background-color: var(--bg-color);\n",
              "    border: none;\n",
              "    border-radius: 50%;\n",
              "    cursor: pointer;\n",
              "    display: none;\n",
              "    fill: var(--fill-color);\n",
              "    height: 32px;\n",
              "    padding: 0;\n",
              "    width: 32px;\n",
              "  }\n",
              "\n",
              "  .colab-df-quickchart:hover {\n",
              "    background-color: var(--hover-bg-color);\n",
              "    box-shadow: 0 1px 2px rgba(60, 64, 67, 0.3), 0 1px 3px 1px rgba(60, 64, 67, 0.15);\n",
              "    fill: var(--button-hover-fill-color);\n",
              "  }\n",
              "\n",
              "  .colab-df-quickchart-complete:disabled,\n",
              "  .colab-df-quickchart-complete:disabled:hover {\n",
              "    background-color: var(--disabled-bg-color);\n",
              "    fill: var(--disabled-fill-color);\n",
              "    box-shadow: none;\n",
              "  }\n",
              "\n",
              "  .colab-df-spinner {\n",
              "    border: 2px solid var(--fill-color);\n",
              "    border-color: transparent;\n",
              "    border-bottom-color: var(--fill-color);\n",
              "    animation:\n",
              "      spin 1s steps(1) infinite;\n",
              "  }\n",
              "\n",
              "  @keyframes spin {\n",
              "    0% {\n",
              "      border-color: transparent;\n",
              "      border-bottom-color: var(--fill-color);\n",
              "      border-left-color: var(--fill-color);\n",
              "    }\n",
              "    20% {\n",
              "      border-color: transparent;\n",
              "      border-left-color: var(--fill-color);\n",
              "      border-top-color: var(--fill-color);\n",
              "    }\n",
              "    30% {\n",
              "      border-color: transparent;\n",
              "      border-left-color: var(--fill-color);\n",
              "      border-top-color: var(--fill-color);\n",
              "      border-right-color: var(--fill-color);\n",
              "    }\n",
              "    40% {\n",
              "      border-color: transparent;\n",
              "      border-right-color: var(--fill-color);\n",
              "      border-top-color: var(--fill-color);\n",
              "    }\n",
              "    60% {\n",
              "      border-color: transparent;\n",
              "      border-right-color: var(--fill-color);\n",
              "    }\n",
              "    80% {\n",
              "      border-color: transparent;\n",
              "      border-right-color: var(--fill-color);\n",
              "      border-bottom-color: var(--fill-color);\n",
              "    }\n",
              "    90% {\n",
              "      border-color: transparent;\n",
              "      border-bottom-color: var(--fill-color);\n",
              "    }\n",
              "  }\n",
              "</style>\n",
              "\n",
              "  <script>\n",
              "    async function quickchart(key) {\n",
              "      const quickchartButtonEl =\n",
              "        document.querySelector('#' + key + ' button');\n",
              "      quickchartButtonEl.disabled = true;  // To prevent multiple clicks.\n",
              "      quickchartButtonEl.classList.add('colab-df-spinner');\n",
              "      try {\n",
              "        const charts = await google.colab.kernel.invokeFunction(\n",
              "            'suggestCharts', [key], {});\n",
              "      } catch (error) {\n",
              "        console.error('Error during call to suggestCharts:', error);\n",
              "      }\n",
              "      quickchartButtonEl.classList.remove('colab-df-spinner');\n",
              "      quickchartButtonEl.classList.add('colab-df-quickchart-complete');\n",
              "    }\n",
              "    (() => {\n",
              "      let quickchartButtonEl =\n",
              "        document.querySelector('#df-352aec1b-e9bd-4a43-a670-b058b0f6faa3 button');\n",
              "      quickchartButtonEl.style.display =\n",
              "        google.colab.kernel.accessAllowed ? 'block' : 'none';\n",
              "    })();\n",
              "  </script>\n",
              "</div>\n",
              "    </div>\n",
              "  </div>\n"
            ]
          },
          "metadata": {},
          "execution_count": 83
        }
      ],
      "source": [
        "#Nombre de transactions par villes et par users\n",
        "user_grp['ea_merchant_city'].describe()"
      ]
    },
    {
      "cell_type": "code",
      "execution_count": 84,
      "metadata": {
        "colab": {
          "base_uri": "https://localhost:8080/",
          "height": 455
        },
        "id": "PEb72ETYHTR4",
        "outputId": "e88ba9b4-426e-40a6-d04e-e44153f290dc"
      },
      "outputs": [
        {
          "output_type": "execute_result",
          "data": {
            "text/plain": [
              "          count unique  top freq\n",
              "user_id                         \n",
              "user_0      226     12  GRC   67\n",
              "user_1       84      5  USA   33\n",
              "user_10     451     21  FRA  331\n",
              "user_100    104      8  FRA   37\n",
              "user_1000     1      1  CYP    1\n",
              "...         ...    ...  ...  ...\n",
              "user_9995   448     17  MLT  320\n",
              "user_9996   103      9  ITA   30\n",
              "user_9997    30      4  IRL   18\n",
              "user_9998     6      3  FRA    3\n",
              "user_9999    27      3  CAN   15\n",
              "\n",
              "[18766 rows x 4 columns]"
            ],
            "text/html": [
              "\n",
              "  <div id=\"df-c462a57c-ad78-4a0c-9c13-26131d6006f5\" class=\"colab-df-container\">\n",
              "    <div>\n",
              "<style scoped>\n",
              "    .dataframe tbody tr th:only-of-type {\n",
              "        vertical-align: middle;\n",
              "    }\n",
              "\n",
              "    .dataframe tbody tr th {\n",
              "        vertical-align: top;\n",
              "    }\n",
              "\n",
              "    .dataframe thead th {\n",
              "        text-align: right;\n",
              "    }\n",
              "</style>\n",
              "<table border=\"1\" class=\"dataframe\">\n",
              "  <thead>\n",
              "    <tr style=\"text-align: right;\">\n",
              "      <th></th>\n",
              "      <th>count</th>\n",
              "      <th>unique</th>\n",
              "      <th>top</th>\n",
              "      <th>freq</th>\n",
              "    </tr>\n",
              "    <tr>\n",
              "      <th>user_id</th>\n",
              "      <th></th>\n",
              "      <th></th>\n",
              "      <th></th>\n",
              "      <th></th>\n",
              "    </tr>\n",
              "  </thead>\n",
              "  <tbody>\n",
              "    <tr>\n",
              "      <th>user_0</th>\n",
              "      <td>226</td>\n",
              "      <td>12</td>\n",
              "      <td>GRC</td>\n",
              "      <td>67</td>\n",
              "    </tr>\n",
              "    <tr>\n",
              "      <th>user_1</th>\n",
              "      <td>84</td>\n",
              "      <td>5</td>\n",
              "      <td>USA</td>\n",
              "      <td>33</td>\n",
              "    </tr>\n",
              "    <tr>\n",
              "      <th>user_10</th>\n",
              "      <td>451</td>\n",
              "      <td>21</td>\n",
              "      <td>FRA</td>\n",
              "      <td>331</td>\n",
              "    </tr>\n",
              "    <tr>\n",
              "      <th>user_100</th>\n",
              "      <td>104</td>\n",
              "      <td>8</td>\n",
              "      <td>FRA</td>\n",
              "      <td>37</td>\n",
              "    </tr>\n",
              "    <tr>\n",
              "      <th>user_1000</th>\n",
              "      <td>1</td>\n",
              "      <td>1</td>\n",
              "      <td>CYP</td>\n",
              "      <td>1</td>\n",
              "    </tr>\n",
              "    <tr>\n",
              "      <th>...</th>\n",
              "      <td>...</td>\n",
              "      <td>...</td>\n",
              "      <td>...</td>\n",
              "      <td>...</td>\n",
              "    </tr>\n",
              "    <tr>\n",
              "      <th>user_9995</th>\n",
              "      <td>448</td>\n",
              "      <td>17</td>\n",
              "      <td>MLT</td>\n",
              "      <td>320</td>\n",
              "    </tr>\n",
              "    <tr>\n",
              "      <th>user_9996</th>\n",
              "      <td>103</td>\n",
              "      <td>9</td>\n",
              "      <td>ITA</td>\n",
              "      <td>30</td>\n",
              "    </tr>\n",
              "    <tr>\n",
              "      <th>user_9997</th>\n",
              "      <td>30</td>\n",
              "      <td>4</td>\n",
              "      <td>IRL</td>\n",
              "      <td>18</td>\n",
              "    </tr>\n",
              "    <tr>\n",
              "      <th>user_9998</th>\n",
              "      <td>6</td>\n",
              "      <td>3</td>\n",
              "      <td>FRA</td>\n",
              "      <td>3</td>\n",
              "    </tr>\n",
              "    <tr>\n",
              "      <th>user_9999</th>\n",
              "      <td>27</td>\n",
              "      <td>3</td>\n",
              "      <td>CAN</td>\n",
              "      <td>15</td>\n",
              "    </tr>\n",
              "  </tbody>\n",
              "</table>\n",
              "<p>18766 rows × 4 columns</p>\n",
              "</div>\n",
              "    <div class=\"colab-df-buttons\">\n",
              "\n",
              "  <div class=\"colab-df-container\">\n",
              "    <button class=\"colab-df-convert\" onclick=\"convertToInteractive('df-c462a57c-ad78-4a0c-9c13-26131d6006f5')\"\n",
              "            title=\"Convert this dataframe to an interactive table.\"\n",
              "            style=\"display:none;\">\n",
              "\n",
              "  <svg xmlns=\"http://www.w3.org/2000/svg\" height=\"24px\" viewBox=\"0 -960 960 960\">\n",
              "    <path d=\"M120-120v-720h720v720H120Zm60-500h600v-160H180v160Zm220 220h160v-160H400v160Zm0 220h160v-160H400v160ZM180-400h160v-160H180v160Zm440 0h160v-160H620v160ZM180-180h160v-160H180v160Zm440 0h160v-160H620v160Z\"/>\n",
              "  </svg>\n",
              "    </button>\n",
              "\n",
              "  <style>\n",
              "    .colab-df-container {\n",
              "      display:flex;\n",
              "      gap: 12px;\n",
              "    }\n",
              "\n",
              "    .colab-df-convert {\n",
              "      background-color: #E8F0FE;\n",
              "      border: none;\n",
              "      border-radius: 50%;\n",
              "      cursor: pointer;\n",
              "      display: none;\n",
              "      fill: #1967D2;\n",
              "      height: 32px;\n",
              "      padding: 0 0 0 0;\n",
              "      width: 32px;\n",
              "    }\n",
              "\n",
              "    .colab-df-convert:hover {\n",
              "      background-color: #E2EBFA;\n",
              "      box-shadow: 0px 1px 2px rgba(60, 64, 67, 0.3), 0px 1px 3px 1px rgba(60, 64, 67, 0.15);\n",
              "      fill: #174EA6;\n",
              "    }\n",
              "\n",
              "    .colab-df-buttons div {\n",
              "      margin-bottom: 4px;\n",
              "    }\n",
              "\n",
              "    [theme=dark] .colab-df-convert {\n",
              "      background-color: #3B4455;\n",
              "      fill: #D2E3FC;\n",
              "    }\n",
              "\n",
              "    [theme=dark] .colab-df-convert:hover {\n",
              "      background-color: #434B5C;\n",
              "      box-shadow: 0px 1px 3px 1px rgba(0, 0, 0, 0.15);\n",
              "      filter: drop-shadow(0px 1px 2px rgba(0, 0, 0, 0.3));\n",
              "      fill: #FFFFFF;\n",
              "    }\n",
              "  </style>\n",
              "\n",
              "    <script>\n",
              "      const buttonEl =\n",
              "        document.querySelector('#df-c462a57c-ad78-4a0c-9c13-26131d6006f5 button.colab-df-convert');\n",
              "      buttonEl.style.display =\n",
              "        google.colab.kernel.accessAllowed ? 'block' : 'none';\n",
              "\n",
              "      async function convertToInteractive(key) {\n",
              "        const element = document.querySelector('#df-c462a57c-ad78-4a0c-9c13-26131d6006f5');\n",
              "        const dataTable =\n",
              "          await google.colab.kernel.invokeFunction('convertToInteractive',\n",
              "                                                    [key], {});\n",
              "        if (!dataTable) return;\n",
              "\n",
              "        const docLinkHtml = 'Like what you see? Visit the ' +\n",
              "          '<a target=\"_blank\" href=https://colab.research.google.com/notebooks/data_table.ipynb>data table notebook</a>'\n",
              "          + ' to learn more about interactive tables.';\n",
              "        element.innerHTML = '';\n",
              "        dataTable['output_type'] = 'display_data';\n",
              "        await google.colab.output.renderOutput(dataTable, element);\n",
              "        const docLink = document.createElement('div');\n",
              "        docLink.innerHTML = docLinkHtml;\n",
              "        element.appendChild(docLink);\n",
              "      }\n",
              "    </script>\n",
              "  </div>\n",
              "\n",
              "\n",
              "<div id=\"df-36484b55-6a4f-4d54-af95-3a34f9a625c3\">\n",
              "  <button class=\"colab-df-quickchart\" onclick=\"quickchart('df-36484b55-6a4f-4d54-af95-3a34f9a625c3')\"\n",
              "            title=\"Suggest charts\"\n",
              "            style=\"display:none;\">\n",
              "\n",
              "<svg xmlns=\"http://www.w3.org/2000/svg\" height=\"24px\"viewBox=\"0 0 24 24\"\n",
              "     width=\"24px\">\n",
              "    <g>\n",
              "        <path d=\"M19 3H5c-1.1 0-2 .9-2 2v14c0 1.1.9 2 2 2h14c1.1 0 2-.9 2-2V5c0-1.1-.9-2-2-2zM9 17H7v-7h2v7zm4 0h-2V7h2v10zm4 0h-2v-4h2v4z\"/>\n",
              "    </g>\n",
              "</svg>\n",
              "  </button>\n",
              "\n",
              "<style>\n",
              "  .colab-df-quickchart {\n",
              "      --bg-color: #E8F0FE;\n",
              "      --fill-color: #1967D2;\n",
              "      --hover-bg-color: #E2EBFA;\n",
              "      --hover-fill-color: #174EA6;\n",
              "      --disabled-fill-color: #AAA;\n",
              "      --disabled-bg-color: #DDD;\n",
              "  }\n",
              "\n",
              "  [theme=dark] .colab-df-quickchart {\n",
              "      --bg-color: #3B4455;\n",
              "      --fill-color: #D2E3FC;\n",
              "      --hover-bg-color: #434B5C;\n",
              "      --hover-fill-color: #FFFFFF;\n",
              "      --disabled-bg-color: #3B4455;\n",
              "      --disabled-fill-color: #666;\n",
              "  }\n",
              "\n",
              "  .colab-df-quickchart {\n",
              "    background-color: var(--bg-color);\n",
              "    border: none;\n",
              "    border-radius: 50%;\n",
              "    cursor: pointer;\n",
              "    display: none;\n",
              "    fill: var(--fill-color);\n",
              "    height: 32px;\n",
              "    padding: 0;\n",
              "    width: 32px;\n",
              "  }\n",
              "\n",
              "  .colab-df-quickchart:hover {\n",
              "    background-color: var(--hover-bg-color);\n",
              "    box-shadow: 0 1px 2px rgba(60, 64, 67, 0.3), 0 1px 3px 1px rgba(60, 64, 67, 0.15);\n",
              "    fill: var(--button-hover-fill-color);\n",
              "  }\n",
              "\n",
              "  .colab-df-quickchart-complete:disabled,\n",
              "  .colab-df-quickchart-complete:disabled:hover {\n",
              "    background-color: var(--disabled-bg-color);\n",
              "    fill: var(--disabled-fill-color);\n",
              "    box-shadow: none;\n",
              "  }\n",
              "\n",
              "  .colab-df-spinner {\n",
              "    border: 2px solid var(--fill-color);\n",
              "    border-color: transparent;\n",
              "    border-bottom-color: var(--fill-color);\n",
              "    animation:\n",
              "      spin 1s steps(1) infinite;\n",
              "  }\n",
              "\n",
              "  @keyframes spin {\n",
              "    0% {\n",
              "      border-color: transparent;\n",
              "      border-bottom-color: var(--fill-color);\n",
              "      border-left-color: var(--fill-color);\n",
              "    }\n",
              "    20% {\n",
              "      border-color: transparent;\n",
              "      border-left-color: var(--fill-color);\n",
              "      border-top-color: var(--fill-color);\n",
              "    }\n",
              "    30% {\n",
              "      border-color: transparent;\n",
              "      border-left-color: var(--fill-color);\n",
              "      border-top-color: var(--fill-color);\n",
              "      border-right-color: var(--fill-color);\n",
              "    }\n",
              "    40% {\n",
              "      border-color: transparent;\n",
              "      border-right-color: var(--fill-color);\n",
              "      border-top-color: var(--fill-color);\n",
              "    }\n",
              "    60% {\n",
              "      border-color: transparent;\n",
              "      border-right-color: var(--fill-color);\n",
              "    }\n",
              "    80% {\n",
              "      border-color: transparent;\n",
              "      border-right-color: var(--fill-color);\n",
              "      border-bottom-color: var(--fill-color);\n",
              "    }\n",
              "    90% {\n",
              "      border-color: transparent;\n",
              "      border-bottom-color: var(--fill-color);\n",
              "    }\n",
              "  }\n",
              "</style>\n",
              "\n",
              "  <script>\n",
              "    async function quickchart(key) {\n",
              "      const quickchartButtonEl =\n",
              "        document.querySelector('#' + key + ' button');\n",
              "      quickchartButtonEl.disabled = true;  // To prevent multiple clicks.\n",
              "      quickchartButtonEl.classList.add('colab-df-spinner');\n",
              "      try {\n",
              "        const charts = await google.colab.kernel.invokeFunction(\n",
              "            'suggestCharts', [key], {});\n",
              "      } catch (error) {\n",
              "        console.error('Error during call to suggestCharts:', error);\n",
              "      }\n",
              "      quickchartButtonEl.classList.remove('colab-df-spinner');\n",
              "      quickchartButtonEl.classList.add('colab-df-quickchart-complete');\n",
              "    }\n",
              "    (() => {\n",
              "      let quickchartButtonEl =\n",
              "        document.querySelector('#df-36484b55-6a4f-4d54-af95-3a34f9a625c3 button');\n",
              "      quickchartButtonEl.style.display =\n",
              "        google.colab.kernel.accessAllowed ? 'block' : 'none';\n",
              "    })();\n",
              "  </script>\n",
              "</div>\n",
              "    </div>\n",
              "  </div>\n"
            ]
          },
          "metadata": {},
          "execution_count": 84
        }
      ],
      "source": [
        "#Nombre de transactions par pays et par users\n",
        "user_grp['ea_merchant_country'].describe()"
      ]
    },
    {
      "cell_type": "code",
      "execution_count": 85,
      "metadata": {
        "colab": {
          "base_uri": "https://localhost:8080/",
          "height": 455
        },
        "id": "jjtf2_I1HtGB",
        "outputId": "e10cb40f-49b0-43d3-8e45-a882266bf0de"
      },
      "outputs": [
        {
          "output_type": "execute_result",
          "data": {
            "text/plain": [
              "          count unique       top freq\n",
              "user_id                              \n",
              "user_0      389      2  OUTBOUND  320\n",
              "user_1      129      2  OUTBOUND   97\n",
              "user_10    1053      2  OUTBOUND  769\n",
              "user_100    133      2  OUTBOUND  108\n",
              "user_1000    39      2  OUTBOUND   23\n",
              "...         ...    ...       ...  ...\n",
              "user_9995   984      2  OUTBOUND  943\n",
              "user_9996   240      2  OUTBOUND  212\n",
              "user_9997    83      2  OUTBOUND   71\n",
              "user_9998     8      2  OUTBOUND    5\n",
              "user_9999    82      2  OUTBOUND   70\n",
              "\n",
              "[18766 rows x 4 columns]"
            ],
            "text/html": [
              "\n",
              "  <div id=\"df-d314f6e9-e020-4892-87df-d202fbb31907\" class=\"colab-df-container\">\n",
              "    <div>\n",
              "<style scoped>\n",
              "    .dataframe tbody tr th:only-of-type {\n",
              "        vertical-align: middle;\n",
              "    }\n",
              "\n",
              "    .dataframe tbody tr th {\n",
              "        vertical-align: top;\n",
              "    }\n",
              "\n",
              "    .dataframe thead th {\n",
              "        text-align: right;\n",
              "    }\n",
              "</style>\n",
              "<table border=\"1\" class=\"dataframe\">\n",
              "  <thead>\n",
              "    <tr style=\"text-align: right;\">\n",
              "      <th></th>\n",
              "      <th>count</th>\n",
              "      <th>unique</th>\n",
              "      <th>top</th>\n",
              "      <th>freq</th>\n",
              "    </tr>\n",
              "    <tr>\n",
              "      <th>user_id</th>\n",
              "      <th></th>\n",
              "      <th></th>\n",
              "      <th></th>\n",
              "      <th></th>\n",
              "    </tr>\n",
              "  </thead>\n",
              "  <tbody>\n",
              "    <tr>\n",
              "      <th>user_0</th>\n",
              "      <td>389</td>\n",
              "      <td>2</td>\n",
              "      <td>OUTBOUND</td>\n",
              "      <td>320</td>\n",
              "    </tr>\n",
              "    <tr>\n",
              "      <th>user_1</th>\n",
              "      <td>129</td>\n",
              "      <td>2</td>\n",
              "      <td>OUTBOUND</td>\n",
              "      <td>97</td>\n",
              "    </tr>\n",
              "    <tr>\n",
              "      <th>user_10</th>\n",
              "      <td>1053</td>\n",
              "      <td>2</td>\n",
              "      <td>OUTBOUND</td>\n",
              "      <td>769</td>\n",
              "    </tr>\n",
              "    <tr>\n",
              "      <th>user_100</th>\n",
              "      <td>133</td>\n",
              "      <td>2</td>\n",
              "      <td>OUTBOUND</td>\n",
              "      <td>108</td>\n",
              "    </tr>\n",
              "    <tr>\n",
              "      <th>user_1000</th>\n",
              "      <td>39</td>\n",
              "      <td>2</td>\n",
              "      <td>OUTBOUND</td>\n",
              "      <td>23</td>\n",
              "    </tr>\n",
              "    <tr>\n",
              "      <th>...</th>\n",
              "      <td>...</td>\n",
              "      <td>...</td>\n",
              "      <td>...</td>\n",
              "      <td>...</td>\n",
              "    </tr>\n",
              "    <tr>\n",
              "      <th>user_9995</th>\n",
              "      <td>984</td>\n",
              "      <td>2</td>\n",
              "      <td>OUTBOUND</td>\n",
              "      <td>943</td>\n",
              "    </tr>\n",
              "    <tr>\n",
              "      <th>user_9996</th>\n",
              "      <td>240</td>\n",
              "      <td>2</td>\n",
              "      <td>OUTBOUND</td>\n",
              "      <td>212</td>\n",
              "    </tr>\n",
              "    <tr>\n",
              "      <th>user_9997</th>\n",
              "      <td>83</td>\n",
              "      <td>2</td>\n",
              "      <td>OUTBOUND</td>\n",
              "      <td>71</td>\n",
              "    </tr>\n",
              "    <tr>\n",
              "      <th>user_9998</th>\n",
              "      <td>8</td>\n",
              "      <td>2</td>\n",
              "      <td>OUTBOUND</td>\n",
              "      <td>5</td>\n",
              "    </tr>\n",
              "    <tr>\n",
              "      <th>user_9999</th>\n",
              "      <td>82</td>\n",
              "      <td>2</td>\n",
              "      <td>OUTBOUND</td>\n",
              "      <td>70</td>\n",
              "    </tr>\n",
              "  </tbody>\n",
              "</table>\n",
              "<p>18766 rows × 4 columns</p>\n",
              "</div>\n",
              "    <div class=\"colab-df-buttons\">\n",
              "\n",
              "  <div class=\"colab-df-container\">\n",
              "    <button class=\"colab-df-convert\" onclick=\"convertToInteractive('df-d314f6e9-e020-4892-87df-d202fbb31907')\"\n",
              "            title=\"Convert this dataframe to an interactive table.\"\n",
              "            style=\"display:none;\">\n",
              "\n",
              "  <svg xmlns=\"http://www.w3.org/2000/svg\" height=\"24px\" viewBox=\"0 -960 960 960\">\n",
              "    <path d=\"M120-120v-720h720v720H120Zm60-500h600v-160H180v160Zm220 220h160v-160H400v160Zm0 220h160v-160H400v160ZM180-400h160v-160H180v160Zm440 0h160v-160H620v160ZM180-180h160v-160H180v160Zm440 0h160v-160H620v160Z\"/>\n",
              "  </svg>\n",
              "    </button>\n",
              "\n",
              "  <style>\n",
              "    .colab-df-container {\n",
              "      display:flex;\n",
              "      gap: 12px;\n",
              "    }\n",
              "\n",
              "    .colab-df-convert {\n",
              "      background-color: #E8F0FE;\n",
              "      border: none;\n",
              "      border-radius: 50%;\n",
              "      cursor: pointer;\n",
              "      display: none;\n",
              "      fill: #1967D2;\n",
              "      height: 32px;\n",
              "      padding: 0 0 0 0;\n",
              "      width: 32px;\n",
              "    }\n",
              "\n",
              "    .colab-df-convert:hover {\n",
              "      background-color: #E2EBFA;\n",
              "      box-shadow: 0px 1px 2px rgba(60, 64, 67, 0.3), 0px 1px 3px 1px rgba(60, 64, 67, 0.15);\n",
              "      fill: #174EA6;\n",
              "    }\n",
              "\n",
              "    .colab-df-buttons div {\n",
              "      margin-bottom: 4px;\n",
              "    }\n",
              "\n",
              "    [theme=dark] .colab-df-convert {\n",
              "      background-color: #3B4455;\n",
              "      fill: #D2E3FC;\n",
              "    }\n",
              "\n",
              "    [theme=dark] .colab-df-convert:hover {\n",
              "      background-color: #434B5C;\n",
              "      box-shadow: 0px 1px 3px 1px rgba(0, 0, 0, 0.15);\n",
              "      filter: drop-shadow(0px 1px 2px rgba(0, 0, 0, 0.3));\n",
              "      fill: #FFFFFF;\n",
              "    }\n",
              "  </style>\n",
              "\n",
              "    <script>\n",
              "      const buttonEl =\n",
              "        document.querySelector('#df-d314f6e9-e020-4892-87df-d202fbb31907 button.colab-df-convert');\n",
              "      buttonEl.style.display =\n",
              "        google.colab.kernel.accessAllowed ? 'block' : 'none';\n",
              "\n",
              "      async function convertToInteractive(key) {\n",
              "        const element = document.querySelector('#df-d314f6e9-e020-4892-87df-d202fbb31907');\n",
              "        const dataTable =\n",
              "          await google.colab.kernel.invokeFunction('convertToInteractive',\n",
              "                                                    [key], {});\n",
              "        if (!dataTable) return;\n",
              "\n",
              "        const docLinkHtml = 'Like what you see? Visit the ' +\n",
              "          '<a target=\"_blank\" href=https://colab.research.google.com/notebooks/data_table.ipynb>data table notebook</a>'\n",
              "          + ' to learn more about interactive tables.';\n",
              "        element.innerHTML = '';\n",
              "        dataTable['output_type'] = 'display_data';\n",
              "        await google.colab.output.renderOutput(dataTable, element);\n",
              "        const docLink = document.createElement('div');\n",
              "        docLink.innerHTML = docLinkHtml;\n",
              "        element.appendChild(docLink);\n",
              "      }\n",
              "    </script>\n",
              "  </div>\n",
              "\n",
              "\n",
              "<div id=\"df-30168acb-33f8-445a-813b-b1f055b5f828\">\n",
              "  <button class=\"colab-df-quickchart\" onclick=\"quickchart('df-30168acb-33f8-445a-813b-b1f055b5f828')\"\n",
              "            title=\"Suggest charts\"\n",
              "            style=\"display:none;\">\n",
              "\n",
              "<svg xmlns=\"http://www.w3.org/2000/svg\" height=\"24px\"viewBox=\"0 0 24 24\"\n",
              "     width=\"24px\">\n",
              "    <g>\n",
              "        <path d=\"M19 3H5c-1.1 0-2 .9-2 2v14c0 1.1.9 2 2 2h14c1.1 0 2-.9 2-2V5c0-1.1-.9-2-2-2zM9 17H7v-7h2v7zm4 0h-2V7h2v10zm4 0h-2v-4h2v4z\"/>\n",
              "    </g>\n",
              "</svg>\n",
              "  </button>\n",
              "\n",
              "<style>\n",
              "  .colab-df-quickchart {\n",
              "      --bg-color: #E8F0FE;\n",
              "      --fill-color: #1967D2;\n",
              "      --hover-bg-color: #E2EBFA;\n",
              "      --hover-fill-color: #174EA6;\n",
              "      --disabled-fill-color: #AAA;\n",
              "      --disabled-bg-color: #DDD;\n",
              "  }\n",
              "\n",
              "  [theme=dark] .colab-df-quickchart {\n",
              "      --bg-color: #3B4455;\n",
              "      --fill-color: #D2E3FC;\n",
              "      --hover-bg-color: #434B5C;\n",
              "      --hover-fill-color: #FFFFFF;\n",
              "      --disabled-bg-color: #3B4455;\n",
              "      --disabled-fill-color: #666;\n",
              "  }\n",
              "\n",
              "  .colab-df-quickchart {\n",
              "    background-color: var(--bg-color);\n",
              "    border: none;\n",
              "    border-radius: 50%;\n",
              "    cursor: pointer;\n",
              "    display: none;\n",
              "    fill: var(--fill-color);\n",
              "    height: 32px;\n",
              "    padding: 0;\n",
              "    width: 32px;\n",
              "  }\n",
              "\n",
              "  .colab-df-quickchart:hover {\n",
              "    background-color: var(--hover-bg-color);\n",
              "    box-shadow: 0 1px 2px rgba(60, 64, 67, 0.3), 0 1px 3px 1px rgba(60, 64, 67, 0.15);\n",
              "    fill: var(--button-hover-fill-color);\n",
              "  }\n",
              "\n",
              "  .colab-df-quickchart-complete:disabled,\n",
              "  .colab-df-quickchart-complete:disabled:hover {\n",
              "    background-color: var(--disabled-bg-color);\n",
              "    fill: var(--disabled-fill-color);\n",
              "    box-shadow: none;\n",
              "  }\n",
              "\n",
              "  .colab-df-spinner {\n",
              "    border: 2px solid var(--fill-color);\n",
              "    border-color: transparent;\n",
              "    border-bottom-color: var(--fill-color);\n",
              "    animation:\n",
              "      spin 1s steps(1) infinite;\n",
              "  }\n",
              "\n",
              "  @keyframes spin {\n",
              "    0% {\n",
              "      border-color: transparent;\n",
              "      border-bottom-color: var(--fill-color);\n",
              "      border-left-color: var(--fill-color);\n",
              "    }\n",
              "    20% {\n",
              "      border-color: transparent;\n",
              "      border-left-color: var(--fill-color);\n",
              "      border-top-color: var(--fill-color);\n",
              "    }\n",
              "    30% {\n",
              "      border-color: transparent;\n",
              "      border-left-color: var(--fill-color);\n",
              "      border-top-color: var(--fill-color);\n",
              "      border-right-color: var(--fill-color);\n",
              "    }\n",
              "    40% {\n",
              "      border-color: transparent;\n",
              "      border-right-color: var(--fill-color);\n",
              "      border-top-color: var(--fill-color);\n",
              "    }\n",
              "    60% {\n",
              "      border-color: transparent;\n",
              "      border-right-color: var(--fill-color);\n",
              "    }\n",
              "    80% {\n",
              "      border-color: transparent;\n",
              "      border-right-color: var(--fill-color);\n",
              "      border-bottom-color: var(--fill-color);\n",
              "    }\n",
              "    90% {\n",
              "      border-color: transparent;\n",
              "      border-bottom-color: var(--fill-color);\n",
              "    }\n",
              "  }\n",
              "</style>\n",
              "\n",
              "  <script>\n",
              "    async function quickchart(key) {\n",
              "      const quickchartButtonEl =\n",
              "        document.querySelector('#' + key + ' button');\n",
              "      quickchartButtonEl.disabled = true;  // To prevent multiple clicks.\n",
              "      quickchartButtonEl.classList.add('colab-df-spinner');\n",
              "      try {\n",
              "        const charts = await google.colab.kernel.invokeFunction(\n",
              "            'suggestCharts', [key], {});\n",
              "      } catch (error) {\n",
              "        console.error('Error during call to suggestCharts:', error);\n",
              "      }\n",
              "      quickchartButtonEl.classList.remove('colab-df-spinner');\n",
              "      quickchartButtonEl.classList.add('colab-df-quickchart-complete');\n",
              "    }\n",
              "    (() => {\n",
              "      let quickchartButtonEl =\n",
              "        document.querySelector('#df-30168acb-33f8-445a-813b-b1f055b5f828 button');\n",
              "      quickchartButtonEl.style.display =\n",
              "        google.colab.kernel.accessAllowed ? 'block' : 'none';\n",
              "    })();\n",
              "  </script>\n",
              "</div>\n",
              "    </div>\n",
              "  </div>\n"
            ]
          },
          "metadata": {},
          "execution_count": 85
        }
      ],
      "source": [
        "#Nombre de transactions par flux entrant/sortant et par users\n",
        "user_grp['direction'].describe()"
      ]
    },
    {
      "cell_type": "code",
      "execution_count": 86,
      "metadata": {
        "colab": {
          "base_uri": "https://localhost:8080/",
          "height": 455
        },
        "id": "FsKegKHZCR_3",
        "outputId": "6d05ab1c-59f2-4204-ee13-6b00aaea4a47"
      },
      "outputs": [
        {
          "output_type": "execute_result",
          "data": {
            "text/plain": [
              "            count        mean         std   min       25%      50%      75%  \\\n",
              "user_id                                                                       \n",
              "user_0      389.0   35.176787   66.833649  0.00    3.1500    8.430   39.770   \n",
              "user_1      129.0   47.316899   63.369764  0.00    7.8700   23.650   50.000   \n",
              "user_10    1053.0   49.525109  173.066372  0.00    5.1000   12.770   42.550   \n",
              "user_100    133.0  156.224211  180.201766  0.55   22.8300   85.490  242.400   \n",
              "user_1000    39.0  552.944615  348.723115  1.00  250.0000  500.000  960.425   \n",
              "...           ...         ...         ...   ...       ...      ...      ...   \n",
              "user_9995   984.0   46.735965  306.869730  0.00    0.6150    4.260   17.020   \n",
              "user_9996   240.0   69.556625   89.864732  0.53   14.8575   37.320   79.515   \n",
              "user_9997    83.0   10.977229   13.352181  0.00    0.6850    7.400   13.340   \n",
              "user_9998     8.0    1.281250    1.250011  0.00    0.6050    0.965    1.700   \n",
              "user_9999    82.0   11.867195   18.855948  0.05    0.2925    0.850   16.455   \n",
              "\n",
              "               max  \n",
              "user_id             \n",
              "user_0      582.18  \n",
              "user_1      350.00  \n",
              "user_10    2947.24  \n",
              "user_100    709.21  \n",
              "user_1000  1000.03  \n",
              "...            ...  \n",
              "user_9995  8510.65  \n",
              "user_9996   663.29  \n",
              "user_9997    57.46  \n",
              "user_9998     3.98  \n",
              "user_9999    85.11  \n",
              "\n",
              "[18766 rows x 8 columns]"
            ],
            "text/html": [
              "\n",
              "  <div id=\"df-0aab8767-8264-4078-b78d-da07ca4d8bfb\" class=\"colab-df-container\">\n",
              "    <div>\n",
              "<style scoped>\n",
              "    .dataframe tbody tr th:only-of-type {\n",
              "        vertical-align: middle;\n",
              "    }\n",
              "\n",
              "    .dataframe tbody tr th {\n",
              "        vertical-align: top;\n",
              "    }\n",
              "\n",
              "    .dataframe thead th {\n",
              "        text-align: right;\n",
              "    }\n",
              "</style>\n",
              "<table border=\"1\" class=\"dataframe\">\n",
              "  <thead>\n",
              "    <tr style=\"text-align: right;\">\n",
              "      <th></th>\n",
              "      <th>count</th>\n",
              "      <th>mean</th>\n",
              "      <th>std</th>\n",
              "      <th>min</th>\n",
              "      <th>25%</th>\n",
              "      <th>50%</th>\n",
              "      <th>75%</th>\n",
              "      <th>max</th>\n",
              "    </tr>\n",
              "    <tr>\n",
              "      <th>user_id</th>\n",
              "      <th></th>\n",
              "      <th></th>\n",
              "      <th></th>\n",
              "      <th></th>\n",
              "      <th></th>\n",
              "      <th></th>\n",
              "      <th></th>\n",
              "      <th></th>\n",
              "    </tr>\n",
              "  </thead>\n",
              "  <tbody>\n",
              "    <tr>\n",
              "      <th>user_0</th>\n",
              "      <td>389.0</td>\n",
              "      <td>35.176787</td>\n",
              "      <td>66.833649</td>\n",
              "      <td>0.00</td>\n",
              "      <td>3.1500</td>\n",
              "      <td>8.430</td>\n",
              "      <td>39.770</td>\n",
              "      <td>582.18</td>\n",
              "    </tr>\n",
              "    <tr>\n",
              "      <th>user_1</th>\n",
              "      <td>129.0</td>\n",
              "      <td>47.316899</td>\n",
              "      <td>63.369764</td>\n",
              "      <td>0.00</td>\n",
              "      <td>7.8700</td>\n",
              "      <td>23.650</td>\n",
              "      <td>50.000</td>\n",
              "      <td>350.00</td>\n",
              "    </tr>\n",
              "    <tr>\n",
              "      <th>user_10</th>\n",
              "      <td>1053.0</td>\n",
              "      <td>49.525109</td>\n",
              "      <td>173.066372</td>\n",
              "      <td>0.00</td>\n",
              "      <td>5.1000</td>\n",
              "      <td>12.770</td>\n",
              "      <td>42.550</td>\n",
              "      <td>2947.24</td>\n",
              "    </tr>\n",
              "    <tr>\n",
              "      <th>user_100</th>\n",
              "      <td>133.0</td>\n",
              "      <td>156.224211</td>\n",
              "      <td>180.201766</td>\n",
              "      <td>0.55</td>\n",
              "      <td>22.8300</td>\n",
              "      <td>85.490</td>\n",
              "      <td>242.400</td>\n",
              "      <td>709.21</td>\n",
              "    </tr>\n",
              "    <tr>\n",
              "      <th>user_1000</th>\n",
              "      <td>39.0</td>\n",
              "      <td>552.944615</td>\n",
              "      <td>348.723115</td>\n",
              "      <td>1.00</td>\n",
              "      <td>250.0000</td>\n",
              "      <td>500.000</td>\n",
              "      <td>960.425</td>\n",
              "      <td>1000.03</td>\n",
              "    </tr>\n",
              "    <tr>\n",
              "      <th>...</th>\n",
              "      <td>...</td>\n",
              "      <td>...</td>\n",
              "      <td>...</td>\n",
              "      <td>...</td>\n",
              "      <td>...</td>\n",
              "      <td>...</td>\n",
              "      <td>...</td>\n",
              "      <td>...</td>\n",
              "    </tr>\n",
              "    <tr>\n",
              "      <th>user_9995</th>\n",
              "      <td>984.0</td>\n",
              "      <td>46.735965</td>\n",
              "      <td>306.869730</td>\n",
              "      <td>0.00</td>\n",
              "      <td>0.6150</td>\n",
              "      <td>4.260</td>\n",
              "      <td>17.020</td>\n",
              "      <td>8510.65</td>\n",
              "    </tr>\n",
              "    <tr>\n",
              "      <th>user_9996</th>\n",
              "      <td>240.0</td>\n",
              "      <td>69.556625</td>\n",
              "      <td>89.864732</td>\n",
              "      <td>0.53</td>\n",
              "      <td>14.8575</td>\n",
              "      <td>37.320</td>\n",
              "      <td>79.515</td>\n",
              "      <td>663.29</td>\n",
              "    </tr>\n",
              "    <tr>\n",
              "      <th>user_9997</th>\n",
              "      <td>83.0</td>\n",
              "      <td>10.977229</td>\n",
              "      <td>13.352181</td>\n",
              "      <td>0.00</td>\n",
              "      <td>0.6850</td>\n",
              "      <td>7.400</td>\n",
              "      <td>13.340</td>\n",
              "      <td>57.46</td>\n",
              "    </tr>\n",
              "    <tr>\n",
              "      <th>user_9998</th>\n",
              "      <td>8.0</td>\n",
              "      <td>1.281250</td>\n",
              "      <td>1.250011</td>\n",
              "      <td>0.00</td>\n",
              "      <td>0.6050</td>\n",
              "      <td>0.965</td>\n",
              "      <td>1.700</td>\n",
              "      <td>3.98</td>\n",
              "    </tr>\n",
              "    <tr>\n",
              "      <th>user_9999</th>\n",
              "      <td>82.0</td>\n",
              "      <td>11.867195</td>\n",
              "      <td>18.855948</td>\n",
              "      <td>0.05</td>\n",
              "      <td>0.2925</td>\n",
              "      <td>0.850</td>\n",
              "      <td>16.455</td>\n",
              "      <td>85.11</td>\n",
              "    </tr>\n",
              "  </tbody>\n",
              "</table>\n",
              "<p>18766 rows × 8 columns</p>\n",
              "</div>\n",
              "    <div class=\"colab-df-buttons\">\n",
              "\n",
              "  <div class=\"colab-df-container\">\n",
              "    <button class=\"colab-df-convert\" onclick=\"convertToInteractive('df-0aab8767-8264-4078-b78d-da07ca4d8bfb')\"\n",
              "            title=\"Convert this dataframe to an interactive table.\"\n",
              "            style=\"display:none;\">\n",
              "\n",
              "  <svg xmlns=\"http://www.w3.org/2000/svg\" height=\"24px\" viewBox=\"0 -960 960 960\">\n",
              "    <path d=\"M120-120v-720h720v720H120Zm60-500h600v-160H180v160Zm220 220h160v-160H400v160Zm0 220h160v-160H400v160ZM180-400h160v-160H180v160Zm440 0h160v-160H620v160ZM180-180h160v-160H180v160Zm440 0h160v-160H620v160Z\"/>\n",
              "  </svg>\n",
              "    </button>\n",
              "\n",
              "  <style>\n",
              "    .colab-df-container {\n",
              "      display:flex;\n",
              "      gap: 12px;\n",
              "    }\n",
              "\n",
              "    .colab-df-convert {\n",
              "      background-color: #E8F0FE;\n",
              "      border: none;\n",
              "      border-radius: 50%;\n",
              "      cursor: pointer;\n",
              "      display: none;\n",
              "      fill: #1967D2;\n",
              "      height: 32px;\n",
              "      padding: 0 0 0 0;\n",
              "      width: 32px;\n",
              "    }\n",
              "\n",
              "    .colab-df-convert:hover {\n",
              "      background-color: #E2EBFA;\n",
              "      box-shadow: 0px 1px 2px rgba(60, 64, 67, 0.3), 0px 1px 3px 1px rgba(60, 64, 67, 0.15);\n",
              "      fill: #174EA6;\n",
              "    }\n",
              "\n",
              "    .colab-df-buttons div {\n",
              "      margin-bottom: 4px;\n",
              "    }\n",
              "\n",
              "    [theme=dark] .colab-df-convert {\n",
              "      background-color: #3B4455;\n",
              "      fill: #D2E3FC;\n",
              "    }\n",
              "\n",
              "    [theme=dark] .colab-df-convert:hover {\n",
              "      background-color: #434B5C;\n",
              "      box-shadow: 0px 1px 3px 1px rgba(0, 0, 0, 0.15);\n",
              "      filter: drop-shadow(0px 1px 2px rgba(0, 0, 0, 0.3));\n",
              "      fill: #FFFFFF;\n",
              "    }\n",
              "  </style>\n",
              "\n",
              "    <script>\n",
              "      const buttonEl =\n",
              "        document.querySelector('#df-0aab8767-8264-4078-b78d-da07ca4d8bfb button.colab-df-convert');\n",
              "      buttonEl.style.display =\n",
              "        google.colab.kernel.accessAllowed ? 'block' : 'none';\n",
              "\n",
              "      async function convertToInteractive(key) {\n",
              "        const element = document.querySelector('#df-0aab8767-8264-4078-b78d-da07ca4d8bfb');\n",
              "        const dataTable =\n",
              "          await google.colab.kernel.invokeFunction('convertToInteractive',\n",
              "                                                    [key], {});\n",
              "        if (!dataTable) return;\n",
              "\n",
              "        const docLinkHtml = 'Like what you see? Visit the ' +\n",
              "          '<a target=\"_blank\" href=https://colab.research.google.com/notebooks/data_table.ipynb>data table notebook</a>'\n",
              "          + ' to learn more about interactive tables.';\n",
              "        element.innerHTML = '';\n",
              "        dataTable['output_type'] = 'display_data';\n",
              "        await google.colab.output.renderOutput(dataTable, element);\n",
              "        const docLink = document.createElement('div');\n",
              "        docLink.innerHTML = docLinkHtml;\n",
              "        element.appendChild(docLink);\n",
              "      }\n",
              "    </script>\n",
              "  </div>\n",
              "\n",
              "\n",
              "<div id=\"df-9b1028ed-1c6a-4b2e-99f0-63e17e58f633\">\n",
              "  <button class=\"colab-df-quickchart\" onclick=\"quickchart('df-9b1028ed-1c6a-4b2e-99f0-63e17e58f633')\"\n",
              "            title=\"Suggest charts\"\n",
              "            style=\"display:none;\">\n",
              "\n",
              "<svg xmlns=\"http://www.w3.org/2000/svg\" height=\"24px\"viewBox=\"0 0 24 24\"\n",
              "     width=\"24px\">\n",
              "    <g>\n",
              "        <path d=\"M19 3H5c-1.1 0-2 .9-2 2v14c0 1.1.9 2 2 2h14c1.1 0 2-.9 2-2V5c0-1.1-.9-2-2-2zM9 17H7v-7h2v7zm4 0h-2V7h2v10zm4 0h-2v-4h2v4z\"/>\n",
              "    </g>\n",
              "</svg>\n",
              "  </button>\n",
              "\n",
              "<style>\n",
              "  .colab-df-quickchart {\n",
              "      --bg-color: #E8F0FE;\n",
              "      --fill-color: #1967D2;\n",
              "      --hover-bg-color: #E2EBFA;\n",
              "      --hover-fill-color: #174EA6;\n",
              "      --disabled-fill-color: #AAA;\n",
              "      --disabled-bg-color: #DDD;\n",
              "  }\n",
              "\n",
              "  [theme=dark] .colab-df-quickchart {\n",
              "      --bg-color: #3B4455;\n",
              "      --fill-color: #D2E3FC;\n",
              "      --hover-bg-color: #434B5C;\n",
              "      --hover-fill-color: #FFFFFF;\n",
              "      --disabled-bg-color: #3B4455;\n",
              "      --disabled-fill-color: #666;\n",
              "  }\n",
              "\n",
              "  .colab-df-quickchart {\n",
              "    background-color: var(--bg-color);\n",
              "    border: none;\n",
              "    border-radius: 50%;\n",
              "    cursor: pointer;\n",
              "    display: none;\n",
              "    fill: var(--fill-color);\n",
              "    height: 32px;\n",
              "    padding: 0;\n",
              "    width: 32px;\n",
              "  }\n",
              "\n",
              "  .colab-df-quickchart:hover {\n",
              "    background-color: var(--hover-bg-color);\n",
              "    box-shadow: 0 1px 2px rgba(60, 64, 67, 0.3), 0 1px 3px 1px rgba(60, 64, 67, 0.15);\n",
              "    fill: var(--button-hover-fill-color);\n",
              "  }\n",
              "\n",
              "  .colab-df-quickchart-complete:disabled,\n",
              "  .colab-df-quickchart-complete:disabled:hover {\n",
              "    background-color: var(--disabled-bg-color);\n",
              "    fill: var(--disabled-fill-color);\n",
              "    box-shadow: none;\n",
              "  }\n",
              "\n",
              "  .colab-df-spinner {\n",
              "    border: 2px solid var(--fill-color);\n",
              "    border-color: transparent;\n",
              "    border-bottom-color: var(--fill-color);\n",
              "    animation:\n",
              "      spin 1s steps(1) infinite;\n",
              "  }\n",
              "\n",
              "  @keyframes spin {\n",
              "    0% {\n",
              "      border-color: transparent;\n",
              "      border-bottom-color: var(--fill-color);\n",
              "      border-left-color: var(--fill-color);\n",
              "    }\n",
              "    20% {\n",
              "      border-color: transparent;\n",
              "      border-left-color: var(--fill-color);\n",
              "      border-top-color: var(--fill-color);\n",
              "    }\n",
              "    30% {\n",
              "      border-color: transparent;\n",
              "      border-left-color: var(--fill-color);\n",
              "      border-top-color: var(--fill-color);\n",
              "      border-right-color: var(--fill-color);\n",
              "    }\n",
              "    40% {\n",
              "      border-color: transparent;\n",
              "      border-right-color: var(--fill-color);\n",
              "      border-top-color: var(--fill-color);\n",
              "    }\n",
              "    60% {\n",
              "      border-color: transparent;\n",
              "      border-right-color: var(--fill-color);\n",
              "    }\n",
              "    80% {\n",
              "      border-color: transparent;\n",
              "      border-right-color: var(--fill-color);\n",
              "      border-bottom-color: var(--fill-color);\n",
              "    }\n",
              "    90% {\n",
              "      border-color: transparent;\n",
              "      border-bottom-color: var(--fill-color);\n",
              "    }\n",
              "  }\n",
              "</style>\n",
              "\n",
              "  <script>\n",
              "    async function quickchart(key) {\n",
              "      const quickchartButtonEl =\n",
              "        document.querySelector('#' + key + ' button');\n",
              "      quickchartButtonEl.disabled = true;  // To prevent multiple clicks.\n",
              "      quickchartButtonEl.classList.add('colab-df-spinner');\n",
              "      try {\n",
              "        const charts = await google.colab.kernel.invokeFunction(\n",
              "            'suggestCharts', [key], {});\n",
              "      } catch (error) {\n",
              "        console.error('Error during call to suggestCharts:', error);\n",
              "      }\n",
              "      quickchartButtonEl.classList.remove('colab-df-spinner');\n",
              "      quickchartButtonEl.classList.add('colab-df-quickchart-complete');\n",
              "    }\n",
              "    (() => {\n",
              "      let quickchartButtonEl =\n",
              "        document.querySelector('#df-9b1028ed-1c6a-4b2e-99f0-63e17e58f633 button');\n",
              "      quickchartButtonEl.style.display =\n",
              "        google.colab.kernel.accessAllowed ? 'block' : 'none';\n",
              "    })();\n",
              "  </script>\n",
              "</div>\n",
              "    </div>\n",
              "  </div>\n"
            ]
          },
          "metadata": {},
          "execution_count": 86
        }
      ],
      "source": [
        "#Moyenne des transactions par users en $\n",
        "user_grp['amount_usd'].describe()"
      ]
    },
    {
      "cell_type": "code",
      "source": [],
      "metadata": {
        "id": "AN3cZDPNd3ci"
      },
      "execution_count": null,
      "outputs": []
    },
    {
      "cell_type": "code",
      "execution_count": null,
      "metadata": {
        "colab": {
          "background_save": true
        },
        "id": "N5rfBRwuCYqW"
      },
      "outputs": [],
      "source": [
        "#Moyenne des transactions par users\n",
        "#user_grp['created_date'].describe()"
      ]
    },
    {
      "cell_type": "markdown",
      "source": [
        "#Created-date"
      ],
      "metadata": {
        "id": "lghA5oJJg8qx"
      }
    },
    {
      "cell_type": "code",
      "source": [
        "nb_t_par_jour_df = transactions_df['created_date'].value_counts()\n",
        "nb_t_par_jour_df"
      ],
      "metadata": {
        "colab": {
          "base_uri": "https://localhost:8080/"
        },
        "id": "t1myY2g0h1LA",
        "outputId": "6268df2b-9332-49ad-c8e0-91cdd60947ca"
      },
      "execution_count": 91,
      "outputs": [
        {
          "output_type": "execute_result",
          "data": {
            "text/plain": [
              "2018-12-04 12:13:34.572326+00:00    4\n",
              "2018-12-22 07:24:30.960017+00:00    3\n",
              "2018-12-13 14:49:24.314528+00:00    3\n",
              "2019-05-09 08:48:56.864973+00:00    3\n",
              "2018-10-25 10:06:43.624650+00:00    3\n",
              "                                   ..\n",
              "2019-02-22 05:20:38.821686+00:00    1\n",
              "2018-10-21 07:22:34.766171+00:00    1\n",
              "2018-08-11 06:50:11.613606+00:00    1\n",
              "2018-09-10 01:33:24.315097+00:00    1\n",
              "2019-04-11 12:21:16.181703+00:00    1\n",
              "Name: created_date, Length: 2739658, dtype: int64"
            ]
          },
          "metadata": {},
          "execution_count": 91
        }
      ]
    },
    {
      "cell_type": "code",
      "source": [
        "nb_t_par_jour_df.describe()"
      ],
      "metadata": {
        "colab": {
          "base_uri": "https://localhost:8080/"
        },
        "id": "9UAdiGzjh1Bq",
        "outputId": "84fd5e55-f687-4868-d4cf-54eb0be0c7af"
      },
      "execution_count": 92,
      "outputs": [
        {
          "output_type": "execute_result",
          "data": {
            "text/plain": [
              "count    2.739658e+06\n",
              "mean     1.000152e+00\n",
              "std      1.254176e-02\n",
              "min      1.000000e+00\n",
              "25%      1.000000e+00\n",
              "50%      1.000000e+00\n",
              "75%      1.000000e+00\n",
              "max      4.000000e+00\n",
              "Name: created_date, dtype: float64"
            ]
          },
          "metadata": {},
          "execution_count": 92
        }
      ]
    },
    {
      "cell_type": "code",
      "source": [
        "transactions_df['created_date'].value_counts().plot(kind='bar')"
      ],
      "metadata": {
        "id": "AeMbB3W-h01y"
      },
      "execution_count": null,
      "outputs": []
    },
    {
      "cell_type": "markdown",
      "metadata": {
        "id": "B6EIoqUmz1eo"
      },
      "source": [
        "# 3.2.1. La variable qualitative de la table transaction\n"
      ]
    },
    {
      "cell_type": "markdown",
      "source": [
        "# Amount_usd"
      ],
      "metadata": {
        "id": "_tbmBtIhcwTF"
      }
    },
    {
      "cell_type": "code",
      "execution_count": null,
      "metadata": {
        "colab": {
          "background_save": true
        },
        "id": "M1MjOQMjyzll",
        "outputId": "d4b346ee-6f11-451c-e67e-9570c7817ec5"
      },
      "outputs": [
        {
          "name": "stdout",
          "output_type": "stream",
          "text": [
            "0.0\n",
            "85106453190.03\n",
            "170322.4872953989\n",
            "8.51\n",
            "0    0.0\n",
            "Name: amount_usd, dtype: float64\n",
            "9281423266317788.0\n",
            "96340143.58676133\n"
          ]
        }
      ],
      "source": [
        "# Amount_usd\n",
        "print(transactions_df['amount_usd'].min())\n",
        "print(transactions_df['amount_usd'].max())\n",
        "print(transactions_df['amount_usd'].mean())\n",
        "print(transactions_df['amount_usd'].median())\n",
        "print(transactions_df['amount_usd'].mode())\n",
        "print(transactions_df['amount_usd'].var())\n",
        "print(transactions_df['amount_usd'].std())\n"
      ]
    },
    {
      "cell_type": "markdown",
      "metadata": {
        "id": "lOtPrJ8n1_IW"
      },
      "source": [
        "le max parraît erroné et fausse notre moyenne d'où l'intérêt de notre médiane à 8.51. Il va falloir s'intérroger sur les valeurs abérantes. ce qui entraine un énorme écart type."
      ]
    },
    {
      "cell_type": "code",
      "execution_count": null,
      "metadata": {
        "colab": {
          "background_save": true
        },
        "id": "jFDQsGMd6b4n",
        "outputId": "2790304d-6887-4f83-973e-38c298779c44"
      },
      "outputs": [
        {
          "data": {
            "text/plain": [
              "<Axes: ylabel='Frequency'>"
            ]
          },
          "execution_count": 49,
          "metadata": {},
          "output_type": "execute_result"
        },
        {
          "data": {
            "image/png": "[encoded data removed]",
            "text/plain": [
              "<Figure size 640x480 with 1 Axes>"
            ]
          },
          "metadata": {},
          "output_type": "display_data"
        }
      ],
      "source": [
        "transactions_df['amount_usd'].plot.hist(bins=5)"
      ]
    },
    {
      "cell_type": "markdown",
      "metadata": {
        "id": "am-71pDw7SXv"
      },
      "source": [
        "Distibution anormal on peut le verifier avec la boite à moustache"
      ]
    },
    {
      "cell_type": "code",
      "execution_count": null,
      "metadata": {
        "colab": {
          "background_save": true
        },
        "id": "om9ir75w8Dzv",
        "outputId": "5cce1bd3-6237-46c3-8a7a-0f2b1d31bad5"
      },
      "outputs": [
        {
          "data": {
            "text/plain": [
              "<Axes: >"
            ]
          },
          "execution_count": 50,
          "metadata": {},
          "output_type": "execute_result"
        },
        {
          "data": {
            "image/png": "[encoded data removed]",
            "text/plain": [
              "<Figure size 640x480 with 1 Axes>"
            ]
          },
          "metadata": {},
          "output_type": "display_data"
        }
      ],
      "source": [
        "transactions_df['amount_usd'].plot.box()"
      ]
    },
    {
      "cell_type": "markdown",
      "metadata": {
        "id": "vK_XSe9T8uzf"
      },
      "source": [
        "Détections des valeurs abbérantes(Outliers)"
      ]
    },
    {
      "cell_type": "code",
      "execution_count": null,
      "metadata": {
        "colab": {
          "background_save": true
        },
        "id": "_anD8RPl85Gl"
      },
      "outputs": [],
      "source": [
        "# on calcule les quartiles\n",
        "Q1= transactions_df['amount_usd'].quantile(0.25)\n",
        "Q3 = transactions_df['amount_usd'].quantile(0.75)\n",
        "IQR= Q3-Q1\n",
        "coef = IQR*1.5"
      ]
    },
    {
      "cell_type": "code",
      "execution_count": null,
      "metadata": {
        "colab": {
          "background_save": true
        },
        "id": "uA2dzfPj9jG4"
      },
      "outputs": [],
      "source": [
        "#on calcule les valeurs limites\n",
        "lim_inf = Q1-coef\n",
        "lim_sup = Q3 + coef"
      ]
    },
    {
      "cell_type": "code",
      "execution_count": null,
      "metadata": {
        "colab": {
          "background_save": true
        },
        "id": "u5jaJvVM95Ef"
      },
      "outputs": [],
      "source": [
        "#on cherche les outliers\n",
        "result = transactions_df[(transactions_df['amount_usd']>lim_sup )|(transactions_df['amount_usd']<lim_inf)]\n",
        "result"
      ]
    },
    {
      "cell_type": "code",
      "execution_count": null,
      "metadata": {
        "colab": {
          "background_save": true
        },
        "id": "GWbuGOu-_Xto"
      },
      "outputs": [],
      "source": [
        "#filtre colonnes\n",
        "result.sort_values(\"amount_usd\")"
      ]
    },
    {
      "cell_type": "markdown",
      "source": [
        "#**4.Preprocessing**\n",
        "```\n",
        "\n"
      ],
      "metadata": {
        "id": "dB5SjgA8-BZW"
      }
    },
    {
      "cell_type": "markdown",
      "metadata": {
        "id": "ATmo13FTBIzZ"
      },
      "source": [
        "** faut-il effacer les valeurs abbérantes ou faire des sous groupes par pays/âge et refaire les calculs d'abérances.\n",
        " Il faut d'abrod trier par pays et utilisateurs. il faut d'abord regarder toutes les tables avant de les nettoyer.\n",
        "Si l'on souhaite le faire:\n",
        "\n",
        "transactions_df=transactions_df[(transactions_df['amount_usd']<= lim_sup)&(transactions_df['amount_usd']>= lim_inf)]\n",
        "\n",
        "on peut après refaire un plot.hist **"
      ]
    },
    {
      "cell_type": "markdown",
      "metadata": {
        "id": "4XNvhsxzG92i"
      },
      "source": [
        "je viens de m'appercevoir que la fonction describe(): données les données stats: count, mean, std, min, 25%, 50%,75%, max ;-) à utiliser par la suite"
      ]
    },
    {
      "cell_type": "code",
      "execution_count": null,
      "metadata": {
        "colab": {
          "background_save": true
        },
        "id": "6nexk4vHwuS7",
        "outputId": "acc5181a-60c7-4c81-db59-96be4bd8d77a"
      },
      "outputs": [
        {
          "name": "stderr",
          "output_type": "stream",
          "text": [
            "<ipython-input-55-03234685df8b>:3: FutureWarning: Treating datetime data as categorical rather than numeric in `.describe` is deprecated and will be removed in a future version of pandas. Specify `datetime_is_numeric=True` to silence this warning and adopt the future behavior now.\n",
            "  transactions_df['created_date'].describe()\n"
          ]
        },
        {
          "data": {
            "text/plain": [
              "count                              2740075\n",
              "unique                             2739658\n",
              "top       2018-12-04 12:13:34.572326+00:00\n",
              "freq                                     4\n",
              "first     2018-01-01 08:51:10.248709+00:00\n",
              "last      2019-05-16 18:22:16.959896+00:00\n",
              "Name: created_date, dtype: object"
            ]
          },
          "execution_count": 55,
          "metadata": {},
          "output_type": "execute_result"
        }
      ],
      "source": [
        "#created_date\n",
        "#description de la colonne date\n",
        "transactions_df['created_date'].describe()"
      ]
    },
    {
      "cell_type": "markdown",
      "metadata": {
        "id": "MLzDn0WO6vrE"
      },
      "source": [
        "#**5.Training**\n",
        "a refaire après nettoyage c'est pour avoir la trame"
      ]
    },
    {
      "cell_type": "markdown",
      "source": [
        "#5.1. Model"
      ],
      "metadata": {
        "id": "qRuKS3YWB58X"
      }
    },
    {
      "cell_type": "markdown",
      "source": [
        "#5.2. Optimization"
      ],
      "metadata": {
        "id": "iucrmwKiCHGO"
      }
    },
    {
      "cell_type": "code",
      "execution_count": null,
      "metadata": {
        "colab": {
          "background_save": true
        },
        "id": "tlLzwUpD0t_b"
      },
      "outputs": [],
      "source": [
        "##STATS\n",
        "from scipy.stats import ttest_1samp # utiliser pour une variable quantitative dans un echantillon\n",
        "from scipy.stats import f_oneway # anova 1 facteurs pour étudier corrélation entre variable quantitative et qualitative\n",
        "from scipy.stats import chi2_contingency # pour cére table de corrélation entre 2 variables qualitatives\n",
        "from scipy.stats import chi2 #étudier corrélation entre 2 variables qualitatives\n",
        "from scipy.stats import pearsonr # corrélation 2 variables quantitatives\n"
      ]
    },
    {
      "cell_type": "code",
      "execution_count": null,
      "metadata": {
        "colab": {
          "background_save": true
        },
        "id": "mUtmXFUCv1z8"
      },
      "outputs": [],
      "source": []
    },
    {
      "cell_type": "markdown",
      "metadata": {
        "id": "nKktYz4ZvRV9"
      },
      "source": [
        "Nou souhaitons connaître la corrélation entre\n",
        "\n",
        "le nombre de transactions est:\n",
        "- le type de transaction\n",
        "- la monnaie de transaction\n",
        "- le statut de la transaction\n",
        "- avoir une carte\n",
        "- le style d'achat effectué(mcc)\n",
        "- le merchant city\n",
        "- le merchant country\n",
        "- le nombre d'opération rentrante\n",
        "test\n",
        "- le montant de la transaction"
      ]
    },
    {
      "cell_type": "markdown",
      "metadata": {
        "id": "GL7lpizt1zZm"
      },
      "source": [
        "test de ma variable quantitative : amound-usd avec mediane, la moyenne n'éta,t pas représentatrice"
      ]
    },
    {
      "cell_type": "code",
      "execution_count": null,
      "metadata": {
        "colab": {
          "background_save": true
        },
        "id": "BfDrlmtf2Chn",
        "outputId": "0f3316c5-2679-428f-c301-19e4d820d4da"
      },
      "outputs": [
        {
          "data": {
            "text/plain": [
              "8.51"
            ]
          },
          "execution_count": 57,
          "metadata": {},
          "output_type": "execute_result"
        }
      ],
      "source": [
        "transactions_df['amount_usd'].median()"
      ]
    },
    {
      "cell_type": "markdown",
      "metadata": {
        "id": "wZ38dgyX2QvV"
      },
      "source": [
        "On veut faire un test statistique pour vérifier si la mediane de taille de notre échantillon est connecte par rapport à la population.\n",
        "\n",
        "\n",
        "\n",
        "je le fais pour apprendre"
      ]
    },
    {
      "cell_type": "markdown",
      "metadata": {
        "id": "ZtdZkoO54brX"
      },
      "source": [
        "** test à faire après l'échantillonnage et le nettoyage des tables **"
      ]
    },
    {
      "cell_type": "code",
      "execution_count": null,
      "metadata": {
        "colab": {
          "background_save": true
        },
        "id": "BVLYZmIf24UG"
      },
      "outputs": [],
      "source": [
        "#H0: la mediane des transaction est égale à 8.51$\n",
        "#H1: la médiane des transactions n'est pas égale à 8.51$"
      ]
    },
    {
      "cell_type": "code",
      "execution_count": null,
      "metadata": {
        "colab": {
          "background_save": true
        },
        "id": "cbeVEW7m3Qte",
        "outputId": "62ea660e-5f96-4862-cb5e-88867b34cc2e"
      },
      "outputs": [
        {
          "name": "stdout",
          "output_type": "stream",
          "text": [
            "p-values 0.0034298282807220634\n",
            "we are rejecting null hypothesis\n"
          ]
        }
      ],
      "source": [
        "tset, pval = ttest_1samp(transactions_df['amount_usd'],8.51 )\n",
        "print(\"p-values\",pval)\n",
        "if pval<0.05:\n",
        "  print(\"we are rejecting null hypothesis\")\n",
        "else:\n",
        "  print(\"we are accepting null hypothesis\")"
      ]
    },
    {
      "cell_type": "markdown",
      "metadata": {
        "id": "BCepbl-DUeaR"
      },
      "source": [
        "** la médiane des transactions n'est pas égale à 8.51\n",
        "\n",
        "```\n",
        "# Ce texte est au format code\n",
        "```\n",
        "\n"
      ]
    },
    {
      "cell_type": "markdown",
      "metadata": {
        "id": "2mjroZT_4xKI"
      },
      "source": [
        "#3-1.Correlation entre une variable quantitative et qualitative\n",
        "\n",
        "---\n",
        "\n"
      ]
    },
    {
      "cell_type": "markdown",
      "metadata": {
        "id": "DTYC4LNM6e4J"
      },
      "source": [
        "On veut savoir s'il y a une relation entre le montant des transactions et le type de transactions"
      ]
    },
    {
      "cell_type": "markdown",
      "metadata": {
        "id": "TAW4pnSD6Hue"
      },
      "source": [
        "h0: pas de relation entre le montant des transactions et le type de transaction\n",
        "\n",
        "h1: il y a corrélation entre le montant des transactions et le type de transaction"
      ]
    },
    {
      "cell_type": "code",
      "execution_count": null,
      "metadata": {
        "colab": {
          "background_save": true
        },
        "id": "dYQxOCVL6qFg"
      },
      "outputs": [],
      "source": [
        "#ANOVA(F_TEST)\n",
        "query = \"SELECT * FROM `pro-tuner-402908.neo_bank.transactions`\"\n",
        "id = \"pro-tuner-402908\"\n",
        "df_anova = pd.read_gbq(query, project_id = id)\n",
        "\n"
      ]
    },
    {
      "cell_type": "code",
      "execution_count": null,
      "metadata": {
        "colab": {
          "background_save": true
        },
        "id": "0H0l1n06QCkL",
        "outputId": "9fe320c5-a35c-4592-90c7-b8e8b611034c"
      },
      "outputs": [
        {
          "name": "stdout",
          "output_type": "stream",
          "text": [
            "['TOPUP' 'EXCHANGE' 'TRANSFER' 'CARD_PAYMENT' 'CARD_REFUND' 'ATM'\n",
            " 'CASHBACK' 'REFUND' 'FEE' 'TAX']\n",
            "{'TOPUP': 0          6079.39\n",
            "1           298.64\n",
            "2           236.63\n",
            "244        1065.83\n",
            "245         213.17\n",
            "            ...   \n",
            "2739878      34.38\n",
            "2739879       0.05\n",
            "2739880     634.66\n",
            "2739881      84.62\n",
            "2739882      50.35\n",
            "Name: amount_usd, Length: 388331, dtype: float64, 'EXCHANGE': 3           69.92\n",
            "4           52.24\n",
            "5            0.14\n",
            "6          110.82\n",
            "7            0.41\n",
            "            ...  \n",
            "2739905      1.06\n",
            "2739906      0.53\n",
            "2739907    326.50\n",
            "2739908      0.53\n",
            "2739909      0.53\n",
            "Name: amount_usd, Length: 159148, dtype: float64, 'TRANSFER': 38         639.31\n",
            "39           6.41\n",
            "40           2.07\n",
            "41           6.20\n",
            "42         309.97\n",
            "            ...  \n",
            "2739914     16.42\n",
            "2739915     17.98\n",
            "2739916     28.03\n",
            "2739917     26.44\n",
            "2739918      6.35\n",
            "Name: amount_usd, Length: 500409, dtype: float64, 'CARD_PAYMENT': 46          11.16\n",
            "47           9.40\n",
            "48           3.93\n",
            "49          13.02\n",
            "50          15.50\n",
            "            ...  \n",
            "2740070     11.24\n",
            "2740071    163.94\n",
            "2740072     15.81\n",
            "2740073     15.81\n",
            "2740074     12.75\n",
            "Name: amount_usd, Length: 1475780, dtype: float64, 'CARD_REFUND': 62           2.22\n",
            "116         72.95\n",
            "584         24.49\n",
            "680          2.66\n",
            "871        136.02\n",
            "            ...  \n",
            "2739479     17.46\n",
            "2739518     12.31\n",
            "2739578     73.42\n",
            "2739976      9.52\n",
            "2739990     17.45\n",
            "Name: amount_usd, Length: 11962, dtype: float64, 'ATM': 146         61.99\n",
            "147        268.65\n",
            "148        108.49\n",
            "149         20.66\n",
            "150         20.66\n",
            "            ...  \n",
            "2737894     50.63\n",
            "2740013    108.42\n",
            "2740014     26.44\n",
            "2740015     34.38\n",
            "2740016     38.04\n",
            "Name: amount_usd, Length: 93675, dtype: float64, 'CASHBACK': 1377       0.01\n",
            "1378       0.00\n",
            "1379       0.00\n",
            "1380       0.00\n",
            "1381       0.01\n",
            "           ... \n",
            "2739756    0.00\n",
            "2739757    0.00\n",
            "2739758    0.00\n",
            "2739759    0.00\n",
            "2739760    0.01\n",
            "Name: amount_usd, Length: 82789, dtype: float64, 'REFUND': 1637        1655.16\n",
            "2212       47024.18\n",
            "2213          34.35\n",
            "2214          11.94\n",
            "4859          28.94\n",
            "             ...   \n",
            "2733969        8.40\n",
            "2734254     1260.91\n",
            "2734255       44.78\n",
            "2734256      288.44\n",
            "2734257      759.05\n",
            "Name: amount_usd, Length: 1493, dtype: float64, 'FEE': 2215        6.70\n",
            "2216        5.22\n",
            "2217       11.94\n",
            "2218        5.22\n",
            "2219        5.22\n",
            "           ...  \n",
            "2731935    16.44\n",
            "2731936     1.05\n",
            "2733674    11.95\n",
            "2733816     7.26\n",
            "2734258     7.48\n",
            "Name: amount_usd, Length: 23659, dtype: float64, 'TAX': 8829       0.1\n",
            "8830       0.1\n",
            "8831       0.1\n",
            "8834       0.1\n",
            "8835       0.1\n",
            "          ... \n",
            "2323380    0.1\n",
            "2323381    0.1\n",
            "2323382    0.1\n",
            "2323384    0.1\n",
            "2323385    0.1\n",
            "Name: amount_usd, Length: 2829, dtype: float64}\n"
          ]
        }
      ],
      "source": [
        "df_anova = df_anova[['amount_usd', 'transactions_type']]\n",
        "grps = pd.unique(df_anova.transactions_type.values)\n",
        "print(grps)\n",
        "d_data = {grp:df_anova['amount_usd'][df_anova.transactions_type.values == grp] for grp in grps}\n",
        "print(d_data)"
      ]
    },
    {
      "cell_type": "code",
      "execution_count": null,
      "metadata": {
        "colab": {
          "background_save": true
        },
        "id": "BCuto4jBOaT8",
        "outputId": "089b0644-9bf2-428c-aad1-768c8d0efc6d"
      },
      "outputs": [
        {
          "data": {
            "text/plain": [
              "array(['TOPUP', 'EXCHANGE', 'TRANSFER', 'CARD_PAYMENT', 'CARD_REFUND',\n",
              "       'ATM', 'CASHBACK', 'REFUND', 'FEE', 'TAX'], dtype=object)"
            ]
          },
          "execution_count": 62,
          "metadata": {},
          "output_type": "execute_result"
        }
      ],
      "source": [
        "transactions_df['transactions_type'].unique()"
      ]
    },
    {
      "cell_type": "code",
      "execution_count": null,
      "metadata": {
        "colab": {
          "background_save": true
        },
        "id": "17ZejbdC-PqJ",
        "outputId": "a80d31dc-6cae-4044-d24c-700c1fd94f8c"
      },
      "outputs": [
        {
          "name": "stdout",
          "output_type": "stream",
          "text": [
            "p-value for signifiance is: 1.537824290965327e-05\n",
            "reject null hypothesis\n"
          ]
        }
      ],
      "source": [
        "F,p = f_oneway(d_data['TOPUP'],\n",
        "               d_data['EXCHANGE'],\n",
        "               d_data['TRANSFER'],\n",
        "               d_data['CARD_PAYMENT'],\n",
        "               d_data['CARD_REFUND'],\n",
        "               d_data['ATM'],\n",
        "               d_data['CASHBACK'],\n",
        "               d_data['REFUND'],\n",
        "               d_data['FEE'],\n",
        "               d_data['TAX'])\n",
        "print(\"p-value for signifiance is:\",p)\n",
        "if p<0.5:\n",
        "  print(\"reject null hypothesis\")\n",
        "else:\n",
        "  print(\"accept null hypothesis\")"
      ]
    },
    {
      "cell_type": "markdown",
      "metadata": {
        "id": "VoDE13PMZIrT"
      },
      "source": [
        "** ho est rejeté: il y a donc une corrélation entre le montant des transactions et le type de paiement.**"
      ]
    },
    {
      "cell_type": "markdown",
      "metadata": {
        "id": "9C0LrKU_VrFS"
      },
      "source": [
        "# 3-2.Correlation entre deux variables qualitatives"
      ]
    },
    {
      "cell_type": "markdown",
      "metadata": {
        "id": "sCDZ0wPYV8BS"
      },
      "source": [
        "On souhaite maintenant étudier la corrélation entre les transactions-type et les transactions-statuts"
      ]
    },
    {
      "cell_type": "code",
      "execution_count": null,
      "metadata": {
        "colab": {
          "background_save": true
        },
        "id": "VGtat604WcV_",
        "outputId": "3f9ec23d-ab46-4dde-9cdb-32d75e68027f"
      },
      "outputs": [
        {
          "name": "stdout",
          "output_type": "stream",
          "text": [
            "contingency_table:-\n",
            " transactions_state  CANCELLED  COMPLETED  DECLINED  FAILED  PENDING  REVERTED\n",
            "transactions_type                                                            \n",
            "ATM                         0      77824     14537       0      370       944\n",
            "CARD_PAYMENT                0    1257461    133469       0    19055     65795\n",
            "CARD_REFUND                 0      11960         2       0        0         0\n",
            "CASHBACK                    0      76713      4043       0     2033         0\n",
            "EXCHANGE                    0     159146         0       0        0         2\n",
            "FEE                         0      23659         0       0        0         0\n",
            "REFUND                      0       1493         0       0        0         0\n",
            "TAX                         0       2794         0       0       18        17\n",
            "TOPUP                       0     303750         0   40863        3     43715\n",
            "TRANSFER                 1658     493168      3235     190       13      2145\n"
          ]
        }
      ],
      "source": [
        "contingency_table=pd.crosstab(transactions_df[\"transactions_type\"],transactions_df[\"transactions_state\"])\n",
        "print(\"contingency_table:-\\n\",contingency_table)"
      ]
    },
    {
      "cell_type": "code",
      "execution_count": null,
      "metadata": {
        "colab": {
          "background_save": true
        },
        "id": "blslkmtdXVIa",
        "outputId": "e8313d41-00ae-4353-877b-b41f6e4e6d22"
      },
      "outputs": [
        {
          "data": {
            "text/plain": [
              "<Figure size 640x480 with 0 Axes>"
            ]
          },
          "metadata": {},
          "output_type": "display_data"
        },
        {
          "data": {
            "image/png": "[encoded data removed]",
            "text/plain": [
              "<Figure size 640x480 with 2 Axes>"
            ]
          },
          "metadata": {},
          "output_type": "display_data"
        }
      ],
      "source": [
        "fig=plt.figure()\n",
        "contingency_table.T.plot(kind='barh',ylabel = 'frequence',width=0.8)\n",
        "\n",
        "plt.title('tansactions type versus statuts')\n",
        "ax=plt.axes()\n",
        "ax=ax.set(xlabel='transactions_type')\n"
      ]
    },
    {
      "cell_type": "code",
      "execution_count": null,
      "metadata": {
        "colab": {
          "background_save": true
        },
        "id": "ny62rvhNcsST"
      },
      "outputs": [],
      "source": [
        "#ho: pas de relation entre le type de transaction et le statut\n",
        "#h1: il y a une relation entre le type et le statut des transactions"
      ]
    },
    {
      "cell_type": "code",
      "execution_count": null,
      "metadata": {
        "colab": {
          "background_save": true
        },
        "id": "BH3DRRX8dB1F",
        "outputId": "be8c3318-1535-4745-e73f-354c56b302d8"
      },
      "outputs": [
        {
          "name": "stdout",
          "output_type": "stream",
          "text": [
            "0.0\n"
          ]
        }
      ],
      "source": [
        "#Chi-square test d'independance.\n",
        "c, p, dof, expected = chi2_contingency(contingency_table)\n",
        "# Print the p-value\n",
        "print(p)"
      ]
    },
    {
      "cell_type": "markdown",
      "metadata": {
        "id": "2plAvS3je68z"
      },
      "source": [
        "** on va donc rejeter h0, il y a une relation entre le type et le statut dans les transactions**"
      ]
    },
    {
      "cell_type": "code",
      "execution_count": null,
      "metadata": {
        "colab": {
          "background_save": true
        },
        "id": "LwdBMgqSdk5e",
        "outputId": "738d4558-9cf7-4b1d-b198-464945770749"
      },
      "outputs": [
        {
          "name": "stdout",
          "output_type": "stream",
          "text": [
            "Observed_Values:-\n",
            " [[      0   77824   14537       0     370     944]\n",
            " [      0 1257461  133469       0   19055   65795]\n",
            " [      0   11960       2       0       0       0]\n",
            " [      0   76713    4043       0    2033       0]\n",
            " [      0  159146       0       0       0       2]\n",
            " [      0   23659       0       0       0       0]\n",
            " [      0    1493       0       0       0       0]\n",
            " [      0    2794       0       0      18      17]\n",
            " [      0  303750       0   40863       3   43715]\n",
            " [   1658  493168    3235     190      13    2145]]\n"
          ]
        }
      ],
      "source": [
        "#Observation des valeurs\n",
        "Observed_Values = contingency_table.values\n",
        "print(\"Observed_Values:-\\n\",Observed_Values)"
      ]
    },
    {
      "cell_type": "code",
      "execution_count": null,
      "metadata": {
        "colab": {
          "background_save": true
        },
        "id": "vaRGRofseM9E",
        "outputId": "96f2383b-f7d0-4a2c-860f-87f7693ccb9f"
      },
      "outputs": [
        {
          "name": "stdout",
          "output_type": "stream",
          "text": [
            "Expected_Values:-\n",
            " [[5.66820799e+01 8.23212512e+04 5.30876565e+03 1.40347975e+03\n",
            "  7.34747443e+02 3.85007387e+03]\n",
            " [8.92984039e+02 1.29691013e+06 8.36356571e+04 2.21107803e+04\n",
            "  1.15753999e+04 6.06550522e+04]\n",
            " [7.23812158e+00 1.05121623e+04 6.77912514e+02 1.79219907e+02\n",
            "  9.38249150e+01 4.91642205e+02]\n",
            " [5.00950383e+01 7.27546738e+04 4.69183240e+03 1.24038094e+03\n",
            "  6.49362221e+02 3.40265562e+03]\n",
            " [9.62993290e+01 1.39858687e+05 9.01926273e+03 2.38442482e+03\n",
            "  1.24829022e+03 6.54103609e+03]\n",
            " [1.43158935e+01 2.07914436e+04 1.34080690e+03 3.54469468e+02\n",
            "  1.85571281e+02 9.72392822e+02]\n",
            " [9.03403739e-01 1.31204300e+03 8.46115519e+01 2.23687779e+01\n",
            "  1.17104663e+01 6.13627999e+01]\n",
            " [1.71180789e+00 2.48611497e+03 1.60325573e+02 4.23853132e+01\n",
            "  2.21894904e+01 1.16272847e+02]\n",
            " [2.34976341e+02 3.41263878e+05 2.20075610e+04 5.81814459e+03\n",
            "  3.04590562e+03 1.59605341e+04]\n",
            " [3.02793946e+02 4.39757619e+05 2.83592646e+04 7.49734612e+03\n",
            "  3.92499849e+03 2.05669775e+04]]\n"
          ]
        }
      ],
      "source": [
        "#si il n'y a pas de relation les valeurs ce que l'on aurait\n",
        "b = chi2_contingency(contingency_table)\n",
        "Expected_Values = b[3]\n",
        "print(\"Expected_Values:-\\n\",Expected_Values)"
      ]
    },
    {
      "cell_type": "markdown",
      "metadata": {
        "id": "2TTs-yhDfb2c"
      },
      "source": []
    },
    {
      "cell_type": "code",
      "execution_count": null,
      "metadata": {
        "colab": {
          "background_save": true
        },
        "id": "qy2uplJZeov8",
        "outputId": "fcce6e14-61b8-4583-b837-02b738197609"
      },
      "outputs": [
        {
          "name": "stdout",
          "output_type": "stream",
          "text": [
            "Degree of Freedom: 45\n"
          ]
        }
      ],
      "source": [
        "#Calcul du degré de liberté:\n",
        "#on multiplie nombre de colonne par nombre de ligne\n",
        "no_of_rows=len(contingency_table.iloc[:,0])\n",
        "no_of_columns = len(contingency_table.iloc[0,:])\n",
        "ddof=(no_of_rows-1)*(no_of_columns-1)\n",
        "print(\"Degree of Freedom:\",ddof)"
      ]
    },
    {
      "cell_type": "markdown",
      "metadata": {
        "id": "iGoUITICn5C3"
      },
      "source": [
        "autre méthode pour faire le test de cintingency"
      ]
    },
    {
      "cell_type": "code",
      "execution_count": null,
      "metadata": {
        "colab": {
          "background_save": true
        },
        "id": "32OyB_Fhg95G",
        "outputId": "6531a319-2323-4e16-ac40-c9966524d65a"
      },
      "outputs": [
        {
          "name": "stdout",
          "output_type": "stream",
          "text": [
            "chi-square statistic:- 23010.157838094325\n",
            "critical_value: 61.65623337627955\n",
            "p_value: 0.0\n",
            "Significiance level: 0.05\n",
            "Degree of Freedom: 45\n",
            "chi_square_statistic: 23010.157838094325\n",
            "critical_value: 61.65623337627955\n",
            "p_value: 0.0\n",
            "Rejet H0, Il y a une relation entre les 2 catégories\n",
            "Rejet H0, Il y a une relation entre les 2 catégories\n"
          ]
        }
      ],
      "source": [
        "alpha = 0.05\n",
        "chi_square=sum([(o-e)**2./e for o,e in zip(Observed_Values, Expected_Values)])\n",
        "chi_square_statistic = chi_square[0]+chi_square[1]\n",
        "print(\"chi-square statistic:-\", chi_square_statistic)\n",
        "critical_value=chi2.ppf(q=1-alpha,df=ddof)\n",
        "print('critical_value:',critical_value)\n",
        "#p-value\n",
        "p_value = 1-chi2.cdf(x=chi_square_statistic,df=ddof)\n",
        "print('p_value:',p_value)\n",
        "print('Significiance level:',alpha)\n",
        "print('Degree of Freedom:',ddof)\n",
        "print('chi_square_statistic:',chi_square_statistic)\n",
        "print('critical_value:',critical_value)\n",
        "print('p_value:',p_value)\n",
        "if chi_square_statistic>= critical_value:\n",
        "  print(\"Rejet H0, Il y a une relation entre les 2 catégories\")\n",
        "else:\n",
        "  print(\"On retient H0, Il n'y a pas de relation entre les 2 catégories\")\n",
        "\n",
        "if p_value<= alpha:\n",
        "  print(\"Rejet H0, Il y a une relation entre les 2 catégories\")\n",
        "else:\n",
        "  print(\"On retient H0, Il n'y a pas de relation entre les 2 catégories\")\n",
        "\n",
        "\n"
      ]
    },
    {
      "cell_type": "code",
      "execution_count": null,
      "metadata": {
        "colab": {
          "background_save": true
        },
        "id": "s4sz66mIlbuu"
      },
      "outputs": [],
      "source": []
    },
    {
      "cell_type": "markdown",
      "source": [
        "#**6.Implement in product**"
      ],
      "metadata": {
        "id": "Qg2UrYD-BjwX"
      }
    }
  ],
  "metadata": {
    "colab": {
      "provenance": [],
      "toc_visible": true,
      "mount_file_id": "1dRTdKJYqDyDFwvthIYYqYaWi0zwWhThD",
      "authorship_tag": "ABX9TyM1lmurFb+X0UtQbX1+rdwy",
      "include_colab_link": true
    },
    "kernelspec": {
      "display_name": "Python 3",
      "name": "python3"
    },
    "language_info": {
      "name": "python"
    }
  },
  "nbformat": 4,
  "nbformat_minor": 0
}